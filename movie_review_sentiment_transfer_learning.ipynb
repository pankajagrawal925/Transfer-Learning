{
 "cells": [
  {
   "cell_type": "code",
   "execution_count": 1,
   "metadata": {},
   "outputs": [
    {
     "name": "stdout",
     "output_type": "stream",
     "text": [
      "Requirement already satisfied: textsearch in ./anaconda3/envs/newenvt/lib/python3.6/site-packages (0.0.17)\n",
      "Requirement already satisfied: pyahocorasick in ./anaconda3/envs/newenvt/lib/python3.6/site-packages (from textsearch) (1.4.0)\n",
      "Requirement already satisfied: Unidecode in ./anaconda3/envs/newenvt/lib/python3.6/site-packages (from textsearch) (1.1.1)\n",
      "Requirement already up-to-date: cufflinks in ./anaconda3/envs/newenvt/lib/python3.6/site-packages (0.16)\n",
      "Requirement already satisfied, skipping upgrade: ipython>=5.3.0 in ./anaconda3/envs/newenvt/lib/python3.6/site-packages (from cufflinks) (6.4.0)\n",
      "Requirement already satisfied, skipping upgrade: setuptools>=34.4.1 in ./anaconda3/envs/newenvt/lib/python3.6/site-packages (from cufflinks) (39.1.0)\n",
      "Requirement already satisfied, skipping upgrade: colorlover>=0.2.1 in ./anaconda3/envs/newenvt/lib/python3.6/site-packages (from cufflinks) (0.3.0)\n",
      "Requirement already satisfied, skipping upgrade: plotly<4.0.0a0,>=3.0.0 in ./anaconda3/envs/newenvt/lib/python3.6/site-packages (from cufflinks) (3.10.0)\n",
      "Requirement already satisfied, skipping upgrade: pandas>=0.19.2 in ./anaconda3/envs/newenvt/lib/python3.6/site-packages (from cufflinks) (0.23.0)\n",
      "Requirement already satisfied, skipping upgrade: numpy>=1.9.2 in ./anaconda3/envs/newenvt/lib/python3.6/site-packages (from cufflinks) (1.17.2)\n",
      "Requirement already satisfied, skipping upgrade: six>=1.9.0 in ./anaconda3/envs/newenvt/lib/python3.6/site-packages (from cufflinks) (1.11.0)\n",
      "Requirement already satisfied, skipping upgrade: ipywidgets>=7.0.0 in ./anaconda3/envs/newenvt/lib/python3.6/site-packages (from cufflinks) (7.2.1)\n",
      "Requirement already satisfied, skipping upgrade: decorator in ./anaconda3/envs/newenvt/lib/python3.6/site-packages (from ipython>=5.3.0->cufflinks) (4.3.0)\n",
      "Requirement already satisfied, skipping upgrade: pexpect; sys_platform != \"win32\" in ./anaconda3/envs/newenvt/lib/python3.6/site-packages (from ipython>=5.3.0->cufflinks) (4.5.0)\n",
      "Requirement already satisfied, skipping upgrade: appnope; sys_platform == \"darwin\" in ./anaconda3/envs/newenvt/lib/python3.6/site-packages (from ipython>=5.3.0->cufflinks) (0.1.0)\n",
      "Requirement already satisfied, skipping upgrade: pickleshare in ./anaconda3/envs/newenvt/lib/python3.6/site-packages (from ipython>=5.3.0->cufflinks) (0.7.4)\n",
      "Requirement already satisfied, skipping upgrade: prompt-toolkit<2.0.0,>=1.0.15 in ./anaconda3/envs/newenvt/lib/python3.6/site-packages (from ipython>=5.3.0->cufflinks) (1.0.15)\n",
      "Requirement already satisfied, skipping upgrade: traitlets>=4.2 in ./anaconda3/envs/newenvt/lib/python3.6/site-packages (from ipython>=5.3.0->cufflinks) (4.3.2)\n",
      "Requirement already satisfied, skipping upgrade: jedi>=0.10 in ./anaconda3/envs/newenvt/lib/python3.6/site-packages (from ipython>=5.3.0->cufflinks) (0.12.0)\n",
      "Requirement already satisfied, skipping upgrade: pygments in ./anaconda3/envs/newenvt/lib/python3.6/site-packages (from ipython>=5.3.0->cufflinks) (2.2.0)\n",
      "Requirement already satisfied, skipping upgrade: backcall in ./anaconda3/envs/newenvt/lib/python3.6/site-packages (from ipython>=5.3.0->cufflinks) (0.1.0)\n",
      "Requirement already satisfied, skipping upgrade: simplegeneric>0.8 in ./anaconda3/envs/newenvt/lib/python3.6/site-packages (from ipython>=5.3.0->cufflinks) (0.8.1)\n",
      "Requirement already satisfied, skipping upgrade: retrying>=1.3.3 in ./anaconda3/envs/newenvt/lib/python3.6/site-packages (from plotly<4.0.0a0,>=3.0.0->cufflinks) (1.3.3)\n",
      "Requirement already satisfied, skipping upgrade: pytz in ./anaconda3/envs/newenvt/lib/python3.6/site-packages (from plotly<4.0.0a0,>=3.0.0->cufflinks) (2018.4)\n",
      "Requirement already satisfied, skipping upgrade: nbformat>=4.2 in ./anaconda3/envs/newenvt/lib/python3.6/site-packages (from plotly<4.0.0a0,>=3.0.0->cufflinks) (4.4.0)\n",
      "Requirement already satisfied, skipping upgrade: requests in ./anaconda3/envs/newenvt/lib/python3.6/site-packages (from plotly<4.0.0a0,>=3.0.0->cufflinks) (2.18.4)\n",
      "Requirement already satisfied, skipping upgrade: python-dateutil>=2.5.0 in ./anaconda3/envs/newenvt/lib/python3.6/site-packages (from pandas>=0.19.2->cufflinks) (2.7.3)\n",
      "Requirement already satisfied, skipping upgrade: ipykernel>=4.5.1 in ./anaconda3/envs/newenvt/lib/python3.6/site-packages (from ipywidgets>=7.0.0->cufflinks) (4.8.2)\n",
      "Requirement already satisfied, skipping upgrade: widgetsnbextension~=3.2.0 in ./anaconda3/envs/newenvt/lib/python3.6/site-packages (from ipywidgets>=7.0.0->cufflinks) (3.2.1)\n",
      "Requirement already satisfied, skipping upgrade: ptyprocess>=0.5 in ./anaconda3/envs/newenvt/lib/python3.6/site-packages (from pexpect; sys_platform != \"win32\"->ipython>=5.3.0->cufflinks) (0.5.2)\n",
      "Requirement already satisfied, skipping upgrade: wcwidth in ./anaconda3/envs/newenvt/lib/python3.6/site-packages (from prompt-toolkit<2.0.0,>=1.0.15->ipython>=5.3.0->cufflinks) (0.1.7)\n",
      "Requirement already satisfied, skipping upgrade: ipython_genutils in ./anaconda3/envs/newenvt/lib/python3.6/site-packages (from traitlets>=4.2->ipython>=5.3.0->cufflinks) (0.2.0)\n",
      "Requirement already satisfied, skipping upgrade: parso>=0.2.0 in ./anaconda3/envs/newenvt/lib/python3.6/site-packages (from jedi>=0.10->ipython>=5.3.0->cufflinks) (0.2.0)\n",
      "Requirement already satisfied, skipping upgrade: jsonschema!=2.5.0,>=2.4 in ./anaconda3/envs/newenvt/lib/python3.6/site-packages (from nbformat>=4.2->plotly<4.0.0a0,>=3.0.0->cufflinks) (2.6.0)\n",
      "Requirement already satisfied, skipping upgrade: jupyter_core in ./anaconda3/envs/newenvt/lib/python3.6/site-packages (from nbformat>=4.2->plotly<4.0.0a0,>=3.0.0->cufflinks) (4.4.0)\n",
      "Requirement already satisfied, skipping upgrade: chardet<3.1.0,>=3.0.2 in ./anaconda3/envs/newenvt/lib/python3.6/site-packages (from requests->plotly<4.0.0a0,>=3.0.0->cufflinks) (3.0.4)\n",
      "Requirement already satisfied, skipping upgrade: idna<2.7,>=2.5 in ./anaconda3/envs/newenvt/lib/python3.6/site-packages (from requests->plotly<4.0.0a0,>=3.0.0->cufflinks) (2.6)\n",
      "Requirement already satisfied, skipping upgrade: urllib3<1.23,>=1.21.1 in ./anaconda3/envs/newenvt/lib/python3.6/site-packages (from requests->plotly<4.0.0a0,>=3.0.0->cufflinks) (1.22)\n",
      "Requirement already satisfied, skipping upgrade: certifi>=2017.4.17 in ./anaconda3/envs/newenvt/lib/python3.6/site-packages (from requests->plotly<4.0.0a0,>=3.0.0->cufflinks) (2019.9.11)\n",
      "Requirement already satisfied, skipping upgrade: jupyter_client in ./anaconda3/envs/newenvt/lib/python3.6/site-packages (from ipykernel>=4.5.1->ipywidgets>=7.0.0->cufflinks) (5.2.3)\n",
      "Requirement already satisfied, skipping upgrade: tornado>=4.0 in ./anaconda3/envs/newenvt/lib/python3.6/site-packages (from ipykernel>=4.5.1->ipywidgets>=7.0.0->cufflinks) (5.0.2)\n",
      "Requirement already satisfied, skipping upgrade: notebook>=4.4.1 in ./anaconda3/envs/newenvt/lib/python3.6/site-packages (from widgetsnbextension~=3.2.0->ipywidgets>=7.0.0->cufflinks) (5.5.0)\n",
      "Requirement already satisfied, skipping upgrade: pyzmq>=13 in ./anaconda3/envs/newenvt/lib/python3.6/site-packages (from jupyter_client->ipykernel>=4.5.1->ipywidgets>=7.0.0->cufflinks) (17.0.0)\n",
      "Requirement already satisfied, skipping upgrade: jinja2 in ./anaconda3/envs/newenvt/lib/python3.6/site-packages (from notebook>=4.4.1->widgetsnbextension~=3.2.0->ipywidgets>=7.0.0->cufflinks) (2.10)\n",
      "Requirement already satisfied, skipping upgrade: nbconvert in ./anaconda3/envs/newenvt/lib/python3.6/site-packages (from notebook>=4.4.1->widgetsnbextension~=3.2.0->ipywidgets>=7.0.0->cufflinks) (5.3.1)\n",
      "Requirement already satisfied, skipping upgrade: terminado>=0.8.1 in ./anaconda3/envs/newenvt/lib/python3.6/site-packages (from notebook>=4.4.1->widgetsnbextension~=3.2.0->ipywidgets>=7.0.0->cufflinks) (0.8.1)\n",
      "Requirement already satisfied, skipping upgrade: Send2Trash in ./anaconda3/envs/newenvt/lib/python3.6/site-packages (from notebook>=4.4.1->widgetsnbextension~=3.2.0->ipywidgets>=7.0.0->cufflinks) (1.5.0)\n",
      "Requirement already satisfied, skipping upgrade: MarkupSafe>=0.23 in ./anaconda3/envs/newenvt/lib/python3.6/site-packages (from jinja2->notebook>=4.4.1->widgetsnbextension~=3.2.0->ipywidgets>=7.0.0->cufflinks) (1.0)\n",
      "Requirement already satisfied, skipping upgrade: mistune>=0.7.4 in ./anaconda3/envs/newenvt/lib/python3.6/site-packages (from nbconvert->notebook>=4.4.1->widgetsnbextension~=3.2.0->ipywidgets>=7.0.0->cufflinks) (0.8.3)\n",
      "Requirement already satisfied, skipping upgrade: entrypoints>=0.2.2 in ./anaconda3/envs/newenvt/lib/python3.6/site-packages (from nbconvert->notebook>=4.4.1->widgetsnbextension~=3.2.0->ipywidgets>=7.0.0->cufflinks) (0.2.3)\n",
      "Requirement already satisfied, skipping upgrade: bleach in ./anaconda3/envs/newenvt/lib/python3.6/site-packages (from nbconvert->notebook>=4.4.1->widgetsnbextension~=3.2.0->ipywidgets>=7.0.0->cufflinks) (2.1.3)\n",
      "Requirement already satisfied, skipping upgrade: pandocfilters>=1.4.1 in ./anaconda3/envs/newenvt/lib/python3.6/site-packages (from nbconvert->notebook>=4.4.1->widgetsnbextension~=3.2.0->ipywidgets>=7.0.0->cufflinks) (1.4.2)\n",
      "Requirement already satisfied, skipping upgrade: testpath in ./anaconda3/envs/newenvt/lib/python3.6/site-packages (from nbconvert->notebook>=4.4.1->widgetsnbextension~=3.2.0->ipywidgets>=7.0.0->cufflinks) (0.3.1)\n",
      "Requirement already satisfied, skipping upgrade: html5lib!=1.0b1,!=1.0b2,!=1.0b3,!=1.0b4,!=1.0b5,!=1.0b6,!=1.0b7,!=1.0b8,>=0.99999999pre in ./anaconda3/envs/newenvt/lib/python3.6/site-packages (from bleach->nbconvert->notebook>=4.4.1->widgetsnbextension~=3.2.0->ipywidgets>=7.0.0->cufflinks) (1.0.1)\n",
      "Requirement already satisfied, skipping upgrade: webencodings in ./anaconda3/envs/newenvt/lib/python3.6/site-packages (from html5lib!=1.0b1,!=1.0b2,!=1.0b3,!=1.0b4,!=1.0b5,!=1.0b6,!=1.0b7,!=1.0b8,>=0.99999999pre->bleach->nbconvert->notebook>=4.4.1->widgetsnbextension~=3.2.0->ipywidgets>=7.0.0->cufflinks) (0.5.1)\n"
     ]
    },
    {
     "name": "stdout",
     "output_type": "stream",
     "text": [
      "[nltk_data] Downloading package punkt to /Users/pankaagr/nltk_data...\n",
      "[nltk_data]   Package punkt is already up-to-date!\n",
      "[nltk_data] Downloading package stopwords to\n",
      "[nltk_data]     /Users/pankaagr/nltk_data...\n",
      "[nltk_data]   Package stopwords is already up-to-date!\n",
      "[nltk_data] Downloading package wordnet to\n",
      "[nltk_data]     /Users/pankaagr/nltk_data...\n",
      "[nltk_data]   Package wordnet is already up-to-date!\n"
     ]
    },
    {
     "name": "stderr",
     "output_type": "stream",
     "text": [
      "/Users/pankaagr/anaconda3/envs/newenvt/lib/python3.6/site-packages/h5py/__init__.py:36: FutureWarning: Conversion of the second argument of issubdtype from `float` to `np.floating` is deprecated. In future, it will be treated as `np.float64 == np.dtype(float).type`.\n",
      "  from ._conv import register_converters as _register_converters\n",
      "Using TensorFlow backend.\n",
      "/Users/pankaagr/anaconda3/envs/newenvt/lib/python3.6/site-packages/tensorflow/python/framework/dtypes.py:526: FutureWarning: Passing (type, 1) or '1type' as a synonym of type is deprecated; in a future version of numpy, it will be understood as (type, (1,)) / '(1,)type'.\n",
      "  _np_qint8 = np.dtype([(\"qint8\", np.int8, 1)])\n",
      "/Users/pankaagr/anaconda3/envs/newenvt/lib/python3.6/site-packages/tensorflow/python/framework/dtypes.py:527: FutureWarning: Passing (type, 1) or '1type' as a synonym of type is deprecated; in a future version of numpy, it will be understood as (type, (1,)) / '(1,)type'.\n",
      "  _np_quint8 = np.dtype([(\"quint8\", np.uint8, 1)])\n",
      "/Users/pankaagr/anaconda3/envs/newenvt/lib/python3.6/site-packages/tensorflow/python/framework/dtypes.py:528: FutureWarning: Passing (type, 1) or '1type' as a synonym of type is deprecated; in a future version of numpy, it will be understood as (type, (1,)) / '(1,)type'.\n",
      "  _np_qint16 = np.dtype([(\"qint16\", np.int16, 1)])\n",
      "/Users/pankaagr/anaconda3/envs/newenvt/lib/python3.6/site-packages/tensorflow/python/framework/dtypes.py:529: FutureWarning: Passing (type, 1) or '1type' as a synonym of type is deprecated; in a future version of numpy, it will be understood as (type, (1,)) / '(1,)type'.\n",
      "  _np_quint16 = np.dtype([(\"quint16\", np.uint16, 1)])\n",
      "/Users/pankaagr/anaconda3/envs/newenvt/lib/python3.6/site-packages/tensorflow/python/framework/dtypes.py:530: FutureWarning: Passing (type, 1) or '1type' as a synonym of type is deprecated; in a future version of numpy, it will be understood as (type, (1,)) / '(1,)type'.\n",
      "  _np_qint32 = np.dtype([(\"qint32\", np.int32, 1)])\n",
      "/Users/pankaagr/anaconda3/envs/newenvt/lib/python3.6/site-packages/tensorflow/python/framework/dtypes.py:535: FutureWarning: Passing (type, 1) or '1type' as a synonym of type is deprecated; in a future version of numpy, it will be understood as (type, (1,)) / '(1,)type'.\n",
      "  np_resource = np.dtype([(\"resource\", np.ubyte, 1)])\n"
     ]
    },
    {
     "data": {
      "text/html": [
       "        <script type=\"text/javascript\">\n",
       "        window.PlotlyConfig = {MathJaxConfig: 'local'};\n",
       "        if (window.MathJax) {MathJax.Hub.Config({SVG: {font: \"STIX-Web\"}});}\n",
       "        if (typeof require !== 'undefined') {\n",
       "        require.undef(\"plotly\");\n",
       "        requirejs.config({\n",
       "            paths: {\n",
       "                'plotly': ['https://cdn.plot.ly/plotly-latest.min']\n",
       "            }\n",
       "        });\n",
       "        require(['plotly'], function(Plotly) {\n",
       "            window._Plotly = Plotly;\n",
       "        });\n",
       "        }\n",
       "        </script>\n",
       "        "
      ]
     },
     "metadata": {},
     "output_type": "display_data"
    }
   ],
   "source": [
    "!!pip install contractions --upgrade\n",
    "!pip install textsearch\n",
    "!pip install cufflinks --upgrade\n",
    "import pandas as pd\n",
    "import numpy as np\n",
    "from gensim.models.word2vec import Word2Vec\n",
    "from gensim.models import KeyedVectors\n",
    "import string\n",
    "import re\n",
    "import nltk\n",
    "nltk.download('punkt')\n",
    "nltk.download('stopwords')\n",
    "from nltk.corpus import stopwords\n",
    "stop = stopwords.words('english')\n",
    "from nltk.stem import WordNetLemmatizer, PorterStemmer\n",
    "ps = PorterStemmer()\n",
    "nltk.download('wordnet')\n",
    "lemmatizer = WordNetLemmatizer()\n",
    "from sklearn.model_selection import train_test_split\n",
    "from sklearn import svm\n",
    "import itertools\n",
    "import matplotlib.pyplot as plt\n",
    "from imblearn.over_sampling import SMOTE\n",
    "#import cufflinks as cf\n",
    "#cf.go_offline()\n",
    "#cf.set_config_file(offline=False, world_readable=True)\n",
    "from sklearn.naive_bayes import MultinomialNB\n",
    "from sklearn.feature_extraction.text import TfidfVectorizer\n",
    "from sklearn.metrics import accuracy_score\n",
    "import tqdm\n",
    "import contractions\n",
    "from bs4 import BeautifulSoup\n",
    "import unicodedata\n",
    "import gensim\n",
    "#from tensorflow import keras\n",
    "#from tensorflow.keras.models import Sequential\n",
    "#from tensorflow.keras.layers import Dropout, Activation, Dense\n",
    "from sklearn.preprocessing import LabelEncoder\n",
    "#from tensorflow.keras.layers import Flatten\n",
    "#from tensorflow.keras.layers import Conv1D\n",
    "#from tensorflow.keras.layers import MaxPooling1D\n",
    "#from tensorflow.keras.layers import Embedding\n",
    "from tensorflow.keras.preprocessing.text import Tokenizer\n",
    "from tensorflow.keras.preprocessing import sequence\n",
    "from sklearn.preprocessing import LabelEncoder\n",
    "#from keras.utils.np_utils import to_categorical\n",
    "import cufflinks as cf\n",
    "cf.go_offline()\n",
    "cf.set_config_file(offline=False, world_readable=True)"
   ]
  },
  {
   "cell_type": "code",
   "execution_count": 2,
   "metadata": {},
   "outputs": [],
   "source": [
    "df = pd.read_csv('train.tsv',sep='\\t')"
   ]
  },
  {
   "cell_type": "code",
   "execution_count": 3,
   "metadata": {},
   "outputs": [
    {
     "data": {
      "text/html": [
       "<div>\n",
       "<style scoped>\n",
       "    .dataframe tbody tr th:only-of-type {\n",
       "        vertical-align: middle;\n",
       "    }\n",
       "\n",
       "    .dataframe tbody tr th {\n",
       "        vertical-align: top;\n",
       "    }\n",
       "\n",
       "    .dataframe thead th {\n",
       "        text-align: right;\n",
       "    }\n",
       "</style>\n",
       "<table border=\"1\" class=\"dataframe\">\n",
       "  <thead>\n",
       "    <tr style=\"text-align: right;\">\n",
       "      <th></th>\n",
       "      <th>PhraseId</th>\n",
       "      <th>SentenceId</th>\n",
       "      <th>Phrase</th>\n",
       "      <th>Sentiment</th>\n",
       "    </tr>\n",
       "  </thead>\n",
       "  <tbody>\n",
       "    <tr>\n",
       "      <th>0</th>\n",
       "      <td>1</td>\n",
       "      <td>1</td>\n",
       "      <td>A series of escapades demonstrating the adage ...</td>\n",
       "      <td>1</td>\n",
       "    </tr>\n",
       "    <tr>\n",
       "      <th>1</th>\n",
       "      <td>2</td>\n",
       "      <td>1</td>\n",
       "      <td>A series of escapades demonstrating the adage ...</td>\n",
       "      <td>2</td>\n",
       "    </tr>\n",
       "    <tr>\n",
       "      <th>2</th>\n",
       "      <td>3</td>\n",
       "      <td>1</td>\n",
       "      <td>A series</td>\n",
       "      <td>2</td>\n",
       "    </tr>\n",
       "    <tr>\n",
       "      <th>3</th>\n",
       "      <td>4</td>\n",
       "      <td>1</td>\n",
       "      <td>A</td>\n",
       "      <td>2</td>\n",
       "    </tr>\n",
       "    <tr>\n",
       "      <th>4</th>\n",
       "      <td>5</td>\n",
       "      <td>1</td>\n",
       "      <td>series</td>\n",
       "      <td>2</td>\n",
       "    </tr>\n",
       "  </tbody>\n",
       "</table>\n",
       "</div>"
      ],
      "text/plain": [
       "   PhraseId  SentenceId                                             Phrase  \\\n",
       "0         1           1  A series of escapades demonstrating the adage ...   \n",
       "1         2           1  A series of escapades demonstrating the adage ...   \n",
       "2         3           1                                           A series   \n",
       "3         4           1                                                  A   \n",
       "4         5           1                                             series   \n",
       "\n",
       "   Sentiment  \n",
       "0          1  \n",
       "1          2  \n",
       "2          2  \n",
       "3          2  \n",
       "4          2  "
      ]
     },
     "execution_count": 3,
     "metadata": {},
     "output_type": "execute_result"
    }
   ],
   "source": [
    "df.head()"
   ]
  },
  {
   "cell_type": "code",
   "execution_count": 4,
   "metadata": {},
   "outputs": [
    {
     "name": "stdout",
     "output_type": "stream",
     "text": [
      "<class 'pandas.core.frame.DataFrame'>\n",
      "RangeIndex: 156060 entries, 0 to 156059\n",
      "Data columns (total 4 columns):\n",
      "PhraseId      156060 non-null int64\n",
      "SentenceId    156060 non-null int64\n",
      "Phrase        156060 non-null object\n",
      "Sentiment     156060 non-null int64\n",
      "dtypes: int64(3), object(1)\n",
      "memory usage: 4.8+ MB\n"
     ]
    }
   ],
   "source": [
    "df.info()"
   ]
  },
  {
   "cell_type": "code",
   "execution_count": 5,
   "metadata": {},
   "outputs": [
    {
     "data": {
      "text/plain": [
       "PhraseId      0\n",
       "SentenceId    0\n",
       "Phrase        0\n",
       "Sentiment     0\n",
       "dtype: int64"
      ]
     },
     "execution_count": 5,
     "metadata": {},
     "output_type": "execute_result"
    }
   ],
   "source": [
    "df.isnull().sum()"
   ]
  },
  {
   "cell_type": "code",
   "execution_count": 6,
   "metadata": {},
   "outputs": [
    {
     "data": {
      "text/plain": [
       "2    79582\n",
       "3    32927\n",
       "1    27273\n",
       "4     9206\n",
       "0     7072\n",
       "Name: Sentiment, dtype: int64"
      ]
     },
     "execution_count": 6,
     "metadata": {},
     "output_type": "execute_result"
    }
   ],
   "source": [
    "df.Sentiment.value_counts()"
   ]
  },
  {
   "cell_type": "code",
   "execution_count": 7,
   "metadata": {},
   "outputs": [],
   "source": [
    "#text Pre-Processing\n",
    "df = df.reset_index(drop=True)\n",
    "REPLACE_BY_SPACE_RE = re.compile('[/(){}\\[\\]\\|@,;]')\n",
    "BAD_SYMBOLS_RE = re.compile('[^0-9a-z #+_]')\n",
    "STOPWORDS = set(stopwords.words('english'))\n",
    "\n",
    "def clean_text(text):\n",
    "    \"\"\"\n",
    "        text: a string\n",
    "        \n",
    "        return: a modified initial string\n",
    "    \"\"\"\n",
    "    text = text.lower()\n",
    "    text = REPLACE_BY_SPACE_RE.sub(' ',text)\n",
    "    text = BAD_SYMBOLS_RE.sub(' ',text)\n",
    "    text = ' '.join(word for word in text.split() if word not in STOPWORDS)\n",
    "    return text\n",
    "df['Phrase'] = df['Phrase'].apply(clean_text)\n",
    "df['Phrase'] = df['Phrase'].str.replace('\\d+','')"
   ]
  },
  {
   "cell_type": "code",
   "execution_count": 8,
   "metadata": {},
   "outputs": [
    {
     "name": "stderr",
     "output_type": "stream",
     "text": [
      "  0%|          | 0/156060 [00:00<?, ?it/s]/Users/pankaagr/anaconda3/envs/newenvt/lib/python3.6/site-packages/bs4/__init__.py:219: UserWarning:\n",
      "\n",
      "\"b'movies'\" looks like a filename, not markup. You should probably open this file and pass the filehandle into Beautiful Soup.\n",
      "\n",
      "  1%|          | 1921/156060 [00:00<00:16, 9504.27it/s]/Users/pankaagr/anaconda3/envs/newenvt/lib/python3.6/site-packages/bs4/__init__.py:219: UserWarning:\n",
      "\n",
      "\"b'music'\" looks like a filename, not markup. You should probably open this file and pass the filehandle into Beautiful Soup.\n",
      "\n",
      "  3%|▎         | 4698/156060 [00:00<00:16, 9305.99it/s]/Users/pankaagr/anaconda3/envs/newenvt/lib/python3.6/site-packages/bs4/__init__.py:219: UserWarning:\n",
      "\n",
      "\"b'pictures'\" looks like a filename, not markup. You should probably open this file and pass the filehandle into Beautiful Soup.\n",
      "\n",
      "  4%|▎         | 5604/156060 [00:00<00:16, 9229.87it/s]/Users/pankaagr/anaconda3/envs/newenvt/lib/python3.6/site-packages/bs4/__init__.py:219: UserWarning:\n",
      "\n",
      "\"b'public'\" looks like a filename, not markup. You should probably open this file and pass the filehandle into Beautiful Soup.\n",
      "\n",
      " 57%|█████▋    | 88884/156060 [00:07<00:05, 11929.18it/s]/Users/pankaagr/anaconda3/envs/newenvt/lib/python3.6/site-packages/bs4/__init__.py:219: UserWarning:\n",
      "\n",
      "\"b'documents'\" looks like a filename, not markup. You should probably open this file and pass the filehandle into Beautiful Soup.\n",
      "\n",
      " 91%|█████████▏| 142629/156060 [00:11<00:01, 12563.24it/s]/Users/pankaagr/anaconda3/envs/newenvt/lib/python3.6/site-packages/bs4/__init__.py:219: UserWarning:\n",
      "\n",
      "\"b'library'\" looks like a filename, not markup. You should probably open this file and pass the filehandle into Beautiful Soup.\n",
      "\n",
      "100%|██████████| 156060/156060 [00:13<00:00, 11997.36it/s]\n"
     ]
    }
   ],
   "source": [
    "#some more text-PreProcessing\n",
    "from bs4 import BeautifulSoup\n",
    "import unicodedata\n",
    "import contractions\n",
    "def strip_html_tags(text):\n",
    "  soup = BeautifulSoup(text, \"html.parser\")\n",
    "  [s.extract() for s in soup(['iframe', 'script'])]\n",
    "  stripped_text = soup.get_text()\n",
    "  stripped_text = re.sub(r'[\\r|\\n|\\r\\n]+', '\\n', stripped_text)\n",
    "  return stripped_text\n",
    "\n",
    "def remove_accented_chars(text):\n",
    "  text = unicodedata.normalize('NFKD', text).encode('ascii', 'ignore').decode('utf-8', 'ignore')\n",
    "  return text\n",
    "\n",
    "def pre_process_corpus(docs):\n",
    "  norm_docs = []\n",
    "  for doc in tqdm.tqdm(docs):\n",
    "    doc = strip_html_tags(doc)\n",
    "    doc = doc.translate(doc.maketrans(\"\\n\\t\\r\", \"   \"))\n",
    "    doc = doc.lower()\n",
    "    doc = remove_accented_chars(doc)\n",
    "    doc = contractions.fix(doc)\n",
    "    # lower case and remove special characters\\whitespaces\n",
    "    doc = re.sub(r'[^a-zA-Z0-9\\s]', '', doc, re.I|re.A)\n",
    "    doc = re.sub(' +', ' ', doc)\n",
    "    doc = doc.strip()  \n",
    "    norm_docs.append(doc)\n",
    "  \n",
    "  return norm_docs\n",
    "\n",
    "Phrase_reviews = df['Phrase'].values\n",
    "norm_phrases = pre_process_corpus(Phrase_reviews)"
   ]
  },
  {
   "cell_type": "code",
   "execution_count": 9,
   "metadata": {},
   "outputs": [
    {
     "data": {
      "text/html": [
       "<div>\n",
       "<style scoped>\n",
       "    .dataframe tbody tr th:only-of-type {\n",
       "        vertical-align: middle;\n",
       "    }\n",
       "\n",
       "    .dataframe tbody tr th {\n",
       "        vertical-align: top;\n",
       "    }\n",
       "\n",
       "    .dataframe thead th {\n",
       "        text-align: right;\n",
       "    }\n",
       "</style>\n",
       "<table border=\"1\" class=\"dataframe\">\n",
       "  <thead>\n",
       "    <tr style=\"text-align: right;\">\n",
       "      <th></th>\n",
       "      <th>PhraseId</th>\n",
       "      <th>SentenceId</th>\n",
       "      <th>Phrase</th>\n",
       "      <th>Sentiment</th>\n",
       "    </tr>\n",
       "  </thead>\n",
       "  <tbody>\n",
       "    <tr>\n",
       "      <th>0</th>\n",
       "      <td>1</td>\n",
       "      <td>1</td>\n",
       "      <td>series escapades demonstrating adage good goos...</td>\n",
       "      <td>1</td>\n",
       "    </tr>\n",
       "    <tr>\n",
       "      <th>1</th>\n",
       "      <td>2</td>\n",
       "      <td>1</td>\n",
       "      <td>series escapades demonstrating adage good goose</td>\n",
       "      <td>2</td>\n",
       "    </tr>\n",
       "    <tr>\n",
       "      <th>2</th>\n",
       "      <td>3</td>\n",
       "      <td>1</td>\n",
       "      <td>series</td>\n",
       "      <td>2</td>\n",
       "    </tr>\n",
       "    <tr>\n",
       "      <th>3</th>\n",
       "      <td>4</td>\n",
       "      <td>1</td>\n",
       "      <td></td>\n",
       "      <td>2</td>\n",
       "    </tr>\n",
       "    <tr>\n",
       "      <th>4</th>\n",
       "      <td>5</td>\n",
       "      <td>1</td>\n",
       "      <td>series</td>\n",
       "      <td>2</td>\n",
       "    </tr>\n",
       "  </tbody>\n",
       "</table>\n",
       "</div>"
      ],
      "text/plain": [
       "   PhraseId  SentenceId                                             Phrase  \\\n",
       "0         1           1  series escapades demonstrating adage good goos...   \n",
       "1         2           1    series escapades demonstrating adage good goose   \n",
       "2         3           1                                             series   \n",
       "3         4           1                                                      \n",
       "4         5           1                                             series   \n",
       "\n",
       "   Sentiment  \n",
       "0          1  \n",
       "1          2  \n",
       "2          2  \n",
       "3          2  \n",
       "4          2  "
      ]
     },
     "execution_count": 9,
     "metadata": {},
     "output_type": "execute_result"
    }
   ],
   "source": [
    "df.head()"
   ]
  },
  {
   "cell_type": "code",
   "execution_count": 10,
   "metadata": {},
   "outputs": [
    {
     "data": {
      "text/plain": [
       "PhraseId      0\n",
       "SentenceId    0\n",
       "Phrase        0\n",
       "Sentiment     0\n",
       "dtype: int64"
      ]
     },
     "execution_count": 10,
     "metadata": {},
     "output_type": "execute_result"
    }
   ],
   "source": [
    "df.isnull().sum()"
   ]
  },
  {
   "cell_type": "code",
   "execution_count": 11,
   "metadata": {},
   "outputs": [
    {
     "name": "stdout",
     "output_type": "stream",
     "text": [
      "Requirement already satisfied: tensorflow>=1.7.0 in ./anaconda3/envs/newenvt/lib/python3.6/site-packages (1.13.1)\n",
      "Requirement already satisfied: keras-preprocessing>=1.0.5 in ./anaconda3/envs/newenvt/lib/python3.6/site-packages (from tensorflow>=1.7.0) (1.1.0)\n",
      "Requirement already satisfied: numpy>=1.13.3 in ./anaconda3/envs/newenvt/lib/python3.6/site-packages (from tensorflow>=1.7.0) (1.17.2)\n",
      "Requirement already satisfied: termcolor>=1.1.0 in ./anaconda3/envs/newenvt/lib/python3.6/site-packages (from tensorflow>=1.7.0) (1.1.0)\n",
      "Requirement already satisfied: absl-py>=0.1.6 in ./anaconda3/envs/newenvt/lib/python3.6/site-packages (from tensorflow>=1.7.0) (0.7.1)\n",
      "Requirement already satisfied: protobuf>=3.6.1 in ./anaconda3/envs/newenvt/lib/python3.6/site-packages (from tensorflow>=1.7.0) (3.8.0)\n",
      "Requirement already satisfied: six>=1.10.0 in ./anaconda3/envs/newenvt/lib/python3.6/site-packages (from tensorflow>=1.7.0) (1.11.0)\n",
      "Requirement already satisfied: keras-applications>=1.0.6 in ./anaconda3/envs/newenvt/lib/python3.6/site-packages (from tensorflow>=1.7.0) (1.0.8)\n",
      "Requirement already satisfied: wheel>=0.26 in ./anaconda3/envs/newenvt/lib/python3.6/site-packages (from tensorflow>=1.7.0) (0.31.1)\n",
      "Requirement already satisfied: grpcio>=1.8.6 in ./anaconda3/envs/newenvt/lib/python3.6/site-packages (from tensorflow>=1.7.0) (1.14.1)\n",
      "Requirement already satisfied: gast>=0.2.0 in ./anaconda3/envs/newenvt/lib/python3.6/site-packages (from tensorflow>=1.7.0) (0.2.2)\n",
      "Requirement already satisfied: tensorflow-estimator<1.14.0rc0,>=1.13.0 in ./anaconda3/envs/newenvt/lib/python3.6/site-packages (from tensorflow>=1.7.0) (1.13.0)\n",
      "Requirement already satisfied: astor>=0.6.0 in ./anaconda3/envs/newenvt/lib/python3.6/site-packages (from tensorflow>=1.7.0) (0.7.1)\n",
      "Requirement already satisfied: tensorboard<1.14.0,>=1.13.0 in ./anaconda3/envs/newenvt/lib/python3.6/site-packages (from tensorflow>=1.7.0) (1.13.1)\n",
      "Requirement already satisfied: setuptools in ./anaconda3/envs/newenvt/lib/python3.6/site-packages (from protobuf>=3.6.1->tensorflow>=1.7.0) (39.1.0)\n",
      "Requirement already satisfied: h5py in ./anaconda3/envs/newenvt/lib/python3.6/site-packages (from keras-applications>=1.0.6->tensorflow>=1.7.0) (2.7.1)\n",
      "Requirement already satisfied: markdown>=2.6.8 in ./anaconda3/envs/newenvt/lib/python3.6/site-packages (from tensorboard<1.14.0,>=1.13.0->tensorflow>=1.7.0) (3.1.1)\n",
      "Requirement already satisfied: werkzeug>=0.11.15 in ./anaconda3/envs/newenvt/lib/python3.6/site-packages (from tensorboard<1.14.0,>=1.13.0->tensorflow>=1.7.0) (0.14.1)\n",
      "Requirement already satisfied: tensorflow-hub in ./anaconda3/envs/newenvt/lib/python3.6/site-packages (0.6.0)\n",
      "Requirement already satisfied: protobuf>=3.4.0 in ./anaconda3/envs/newenvt/lib/python3.6/site-packages (from tensorflow-hub) (3.8.0)\n",
      "Requirement already satisfied: numpy>=1.12.0 in ./anaconda3/envs/newenvt/lib/python3.6/site-packages (from tensorflow-hub) (1.17.2)\n",
      "Requirement already satisfied: six>=1.10.0 in ./anaconda3/envs/newenvt/lib/python3.6/site-packages (from tensorflow-hub) (1.11.0)\n",
      "Requirement already satisfied: setuptools in ./anaconda3/envs/newenvt/lib/python3.6/site-packages (from protobuf>=3.4.0->tensorflow-hub) (39.1.0)\n"
     ]
    }
   ],
   "source": [
    " !pip install \"tensorflow>=1.7.0\"\n",
    " !pip install tensorflow-hub"
   ]
  },
  {
   "cell_type": "code",
   "execution_count": 12,
   "metadata": {},
   "outputs": [
    {
     "name": "stdout",
     "output_type": "stream",
     "text": [
      "WARNING:tensorflow:From /Users/pankaagr/anaconda3/envs/newenvt/lib/python3.6/site-packages/tensorflow/python/ops/control_flow_ops.py:3632: colocate_with (from tensorflow.python.framework.ops) is deprecated and will be removed in a future version.\n",
      "Instructions for updating:\n",
      "Colocations handled automatically by placer.\n"
     ]
    },
    {
     "name": "stderr",
     "output_type": "stream",
     "text": [
      "WARNING: Logging before flag parsing goes to stderr.\n",
      "W1017 01:09:18.972494 4705195456 deprecation.py:323] From /Users/pankaagr/anaconda3/envs/newenvt/lib/python3.6/site-packages/tensorflow/python/ops/control_flow_ops.py:3632: colocate_with (from tensorflow.python.framework.ops) is deprecated and will be removed in a future version.\n",
      "Instructions for updating:\n",
      "Colocations handled automatically by placer.\n"
     ]
    }
   ],
   "source": [
    "import tensorflow_hub as hub\n",
    "import tensorflow as tf\n",
    "\n",
    "elmo = hub.Module(\"https://tfhub.dev/google/elmo/2\", trainable=True)\n"
   ]
  },
  {
   "cell_type": "code",
   "execution_count": 13,
   "metadata": {},
   "outputs": [],
   "source": [
    "#defining elmo vectors\n",
    "\n",
    "def elmo_vectors(x):\n",
    "  embeddings = elmo(x.tolist(), signature=\"default\", as_dict=True)[\"elmo\"]\n",
    "\n",
    "  with tf.Session() as sess:\n",
    "    sess.run(tf.global_variables_initializer())\n",
    "    sess.run(tf.tables_initializer())\n",
    "    # return average of ELMo features\n",
    "    return sess.run(tf.reduce_mean(embeddings,1))"
   ]
  },
  {
   "cell_type": "code",
   "execution_count": 14,
   "metadata": {},
   "outputs": [],
   "source": [
    "list_train = [df[i:i+100] for i in range(0,df.shape[0],100)]"
   ]
  },
  {
   "cell_type": "code",
   "execution_count": null,
   "metadata": {},
   "outputs": [
    {
     "name": "stderr",
     "output_type": "stream",
     "text": [
      "\r",
      "  0%|          | 0/1561 [00:00<?, ?it/s]"
     ]
    },
    {
     "name": "stdout",
     "output_type": "stream",
     "text": [
      "INFO:tensorflow:Saver not created because there are no variables in the graph to restore\n"
     ]
    },
    {
     "name": "stderr",
     "output_type": "stream",
     "text": [
      "I1017 01:09:20.050660 4705195456 saver.py:1483] Saver not created because there are no variables in the graph to restore\n",
      "  0%|          | 1/1561 [00:06<2:41:24,  6.21s/it]"
     ]
    },
    {
     "name": "stdout",
     "output_type": "stream",
     "text": [
      "INFO:tensorflow:Saver not created because there are no variables in the graph to restore\n"
     ]
    },
    {
     "name": "stderr",
     "output_type": "stream",
     "text": [
      "I1017 01:09:26.159042 4705195456 saver.py:1483] Saver not created because there are no variables in the graph to restore\n",
      "  0%|          | 2/1561 [00:12<2:42:17,  6.25s/it]"
     ]
    },
    {
     "name": "stdout",
     "output_type": "stream",
     "text": [
      "INFO:tensorflow:Saver not created because there are no variables in the graph to restore\n"
     ]
    },
    {
     "name": "stderr",
     "output_type": "stream",
     "text": [
      "I1017 01:09:33.047877 4705195456 saver.py:1483] Saver not created because there are no variables in the graph to restore\n",
      "  0%|          | 3/1561 [00:19<2:44:25,  6.33s/it]"
     ]
    },
    {
     "name": "stdout",
     "output_type": "stream",
     "text": [
      "INFO:tensorflow:Saver not created because there are no variables in the graph to restore\n"
     ]
    },
    {
     "name": "stderr",
     "output_type": "stream",
     "text": [
      "I1017 01:09:39.048717 4705195456 saver.py:1483] Saver not created because there are no variables in the graph to restore\n",
      "  0%|          | 4/1561 [00:24<2:40:09,  6.17s/it]"
     ]
    },
    {
     "name": "stdout",
     "output_type": "stream",
     "text": [
      "INFO:tensorflow:Saver not created because there are no variables in the graph to restore\n"
     ]
    },
    {
     "name": "stderr",
     "output_type": "stream",
     "text": [
      "I1017 01:09:44.948009 4705195456 saver.py:1483] Saver not created because there are no variables in the graph to restore\n",
      "  0%|          | 5/1561 [00:31<2:42:09,  6.25s/it]"
     ]
    },
    {
     "name": "stdout",
     "output_type": "stream",
     "text": [
      "INFO:tensorflow:Saver not created because there are no variables in the graph to restore\n"
     ]
    },
    {
     "name": "stderr",
     "output_type": "stream",
     "text": [
      "I1017 01:09:51.267439 4705195456 saver.py:1483] Saver not created because there are no variables in the graph to restore\n",
      "  0%|          | 6/1561 [00:38<2:50:31,  6.58s/it]"
     ]
    },
    {
     "name": "stdout",
     "output_type": "stream",
     "text": [
      "INFO:tensorflow:Saver not created because there are no variables in the graph to restore\n"
     ]
    },
    {
     "name": "stderr",
     "output_type": "stream",
     "text": [
      "I1017 01:09:58.783484 4705195456 saver.py:1483] Saver not created because there are no variables in the graph to restore\n",
      "  0%|          | 7/1561 [00:44<2:48:33,  6.51s/it]"
     ]
    },
    {
     "name": "stdout",
     "output_type": "stream",
     "text": [
      "INFO:tensorflow:Saver not created because there are no variables in the graph to restore\n"
     ]
    },
    {
     "name": "stderr",
     "output_type": "stream",
     "text": [
      "I1017 01:10:04.938330 4705195456 saver.py:1483] Saver not created because there are no variables in the graph to restore\n",
      "  1%|          | 8/1561 [00:52<2:52:47,  6.68s/it]"
     ]
    },
    {
     "name": "stdout",
     "output_type": "stream",
     "text": [
      "INFO:tensorflow:Saver not created because there are no variables in the graph to restore\n"
     ]
    },
    {
     "name": "stderr",
     "output_type": "stream",
     "text": [
      "I1017 01:10:12.012171 4705195456 saver.py:1483] Saver not created because there are no variables in the graph to restore\n",
      "  1%|          | 9/1561 [00:58<2:53:54,  6.72s/it]"
     ]
    },
    {
     "name": "stdout",
     "output_type": "stream",
     "text": [
      "INFO:tensorflow:Saver not created because there are no variables in the graph to restore\n"
     ]
    },
    {
     "name": "stderr",
     "output_type": "stream",
     "text": [
      "I1017 01:10:18.848830 4705195456 saver.py:1483] Saver not created because there are no variables in the graph to restore\n",
      "  1%|          | 10/1561 [01:05<2:52:19,  6.67s/it]"
     ]
    },
    {
     "name": "stdout",
     "output_type": "stream",
     "text": [
      "INFO:tensorflow:Saver not created because there are no variables in the graph to restore\n"
     ]
    },
    {
     "name": "stderr",
     "output_type": "stream",
     "text": [
      "I1017 01:10:25.569448 4705195456 saver.py:1483] Saver not created because there are no variables in the graph to restore\n",
      "  1%|          | 11/1561 [01:12<2:57:29,  6.87s/it]"
     ]
    },
    {
     "name": "stdout",
     "output_type": "stream",
     "text": [
      "INFO:tensorflow:Saver not created because there are no variables in the graph to restore\n"
     ]
    },
    {
     "name": "stderr",
     "output_type": "stream",
     "text": [
      "I1017 01:10:32.728561 4705195456 saver.py:1483] Saver not created because there are no variables in the graph to restore\n",
      "  1%|          | 12/1561 [01:20<3:01:23,  7.03s/it]"
     ]
    },
    {
     "name": "stdout",
     "output_type": "stream",
     "text": [
      "INFO:tensorflow:Saver not created because there are no variables in the graph to restore\n"
     ]
    },
    {
     "name": "stderr",
     "output_type": "stream",
     "text": [
      "I1017 01:10:40.132658 4705195456 saver.py:1483] Saver not created because there are no variables in the graph to restore\n",
      "  1%|          | 13/1561 [01:28<3:09:45,  7.35s/it]"
     ]
    },
    {
     "name": "stdout",
     "output_type": "stream",
     "text": [
      "INFO:tensorflow:Saver not created because there are no variables in the graph to restore\n"
     ]
    },
    {
     "name": "stderr",
     "output_type": "stream",
     "text": [
      "I1017 01:10:48.478385 4705195456 saver.py:1483] Saver not created because there are no variables in the graph to restore\n",
      "  1%|          | 14/1561 [01:36<3:15:43,  7.59s/it]"
     ]
    },
    {
     "name": "stdout",
     "output_type": "stream",
     "text": [
      "INFO:tensorflow:Saver not created because there are no variables in the graph to restore\n"
     ]
    },
    {
     "name": "stderr",
     "output_type": "stream",
     "text": [
      "I1017 01:10:56.446050 4705195456 saver.py:1483] Saver not created because there are no variables in the graph to restore\n",
      "  1%|          | 15/1561 [01:45<3:24:40,  7.94s/it]"
     ]
    },
    {
     "name": "stdout",
     "output_type": "stream",
     "text": [
      "INFO:tensorflow:Saver not created because there are no variables in the graph to restore\n"
     ]
    },
    {
     "name": "stderr",
     "output_type": "stream",
     "text": [
      "I1017 01:11:05.216609 4705195456 saver.py:1483] Saver not created because there are no variables in the graph to restore\n",
      "  1%|          | 16/1561 [01:54<3:33:02,  8.27s/it]"
     ]
    },
    {
     "name": "stdout",
     "output_type": "stream",
     "text": [
      "INFO:tensorflow:Saver not created because there are no variables in the graph to restore\n"
     ]
    },
    {
     "name": "stderr",
     "output_type": "stream",
     "text": [
      "I1017 01:11:14.254956 4705195456 saver.py:1483] Saver not created because there are no variables in the graph to restore\n",
      "  1%|          | 17/1561 [02:03<3:40:23,  8.56s/it]"
     ]
    },
    {
     "name": "stdout",
     "output_type": "stream",
     "text": [
      "INFO:tensorflow:Saver not created because there are no variables in the graph to restore\n"
     ]
    },
    {
     "name": "stderr",
     "output_type": "stream",
     "text": [
      "I1017 01:11:23.497833 4705195456 saver.py:1483] Saver not created because there are no variables in the graph to restore\n",
      "  1%|          | 18/1561 [02:14<3:56:53,  9.21s/it]"
     ]
    },
    {
     "name": "stdout",
     "output_type": "stream",
     "text": [
      "INFO:tensorflow:Saver not created because there are no variables in the graph to restore\n"
     ]
    },
    {
     "name": "stderr",
     "output_type": "stream",
     "text": [
      "I1017 01:11:34.554733 4705195456 saver.py:1483] Saver not created because there are no variables in the graph to restore\n",
      "  1%|          | 19/1561 [02:24<4:02:07,  9.42s/it]"
     ]
    },
    {
     "name": "stdout",
     "output_type": "stream",
     "text": [
      "INFO:tensorflow:Saver not created because there are no variables in the graph to restore\n"
     ]
    },
    {
     "name": "stderr",
     "output_type": "stream",
     "text": [
      "I1017 01:11:44.168725 4705195456 saver.py:1483] Saver not created because there are no variables in the graph to restore\n",
      "  1%|▏         | 20/1561 [02:33<4:03:53,  9.50s/it]"
     ]
    },
    {
     "name": "stdout",
     "output_type": "stream",
     "text": [
      "INFO:tensorflow:Saver not created because there are no variables in the graph to restore\n"
     ]
    },
    {
     "name": "stderr",
     "output_type": "stream",
     "text": [
      "I1017 01:11:53.874021 4705195456 saver.py:1483] Saver not created because there are no variables in the graph to restore\n",
      "  1%|▏         | 21/1561 [02:44<4:15:39,  9.96s/it]"
     ]
    },
    {
     "name": "stdout",
     "output_type": "stream",
     "text": [
      "INFO:tensorflow:Saver not created because there are no variables in the graph to restore\n"
     ]
    },
    {
     "name": "stderr",
     "output_type": "stream",
     "text": [
      "I1017 01:12:04.945200 4705195456 saver.py:1483] Saver not created because there are no variables in the graph to restore\n",
      "  1%|▏         | 22/1561 [02:55<4:22:00, 10.21s/it]"
     ]
    },
    {
     "name": "stdout",
     "output_type": "stream",
     "text": [
      "INFO:tensorflow:Saver not created because there are no variables in the graph to restore\n"
     ]
    },
    {
     "name": "stderr",
     "output_type": "stream",
     "text": [
      "I1017 01:12:15.698400 4705195456 saver.py:1483] Saver not created because there are no variables in the graph to restore\n",
      "  1%|▏         | 23/1561 [03:07<4:31:08, 10.58s/it]"
     ]
    },
    {
     "name": "stdout",
     "output_type": "stream",
     "text": [
      "INFO:tensorflow:Saver not created because there are no variables in the graph to restore\n"
     ]
    },
    {
     "name": "stderr",
     "output_type": "stream",
     "text": [
      "I1017 01:12:27.199067 4705195456 saver.py:1483] Saver not created because there are no variables in the graph to restore\n",
      "  2%|▏         | 24/1561 [03:17<4:30:39, 10.57s/it]"
     ]
    },
    {
     "name": "stdout",
     "output_type": "stream",
     "text": [
      "INFO:tensorflow:Saver not created because there are no variables in the graph to restore\n"
     ]
    },
    {
     "name": "stderr",
     "output_type": "stream",
     "text": [
      "I1017 01:12:38.373906 4705195456 saver.py:1483] Saver not created because there are no variables in the graph to restore\n",
      "  2%|▏         | 25/1561 [03:29<4:37:12, 10.83s/it]"
     ]
    },
    {
     "name": "stdout",
     "output_type": "stream",
     "text": [
      "INFO:tensorflow:Saver not created because there are no variables in the graph to restore\n"
     ]
    },
    {
     "name": "stderr",
     "output_type": "stream",
     "text": [
      "I1017 01:12:49.177545 4705195456 saver.py:1483] Saver not created because there are no variables in the graph to restore\n",
      "  2%|▏         | 26/1561 [03:39<4:34:21, 10.72s/it]"
     ]
    },
    {
     "name": "stdout",
     "output_type": "stream",
     "text": [
      "INFO:tensorflow:Saver not created because there are no variables in the graph to restore\n"
     ]
    },
    {
     "name": "stderr",
     "output_type": "stream",
     "text": [
      "I1017 01:12:59.580666 4705195456 saver.py:1483] Saver not created because there are no variables in the graph to restore\n",
      "  2%|▏         | 27/1561 [03:51<4:44:05, 11.11s/it]"
     ]
    },
    {
     "name": "stdout",
     "output_type": "stream",
     "text": [
      "INFO:tensorflow:Saver not created because there are no variables in the graph to restore\n"
     ]
    },
    {
     "name": "stderr",
     "output_type": "stream",
     "text": [
      "I1017 01:13:11.613252 4705195456 saver.py:1483] Saver not created because there are no variables in the graph to restore\n",
      "  2%|▏         | 28/1561 [04:02<4:46:24, 11.21s/it]"
     ]
    },
    {
     "name": "stdout",
     "output_type": "stream",
     "text": [
      "INFO:tensorflow:Saver not created because there are no variables in the graph to restore\n"
     ]
    },
    {
     "name": "stderr",
     "output_type": "stream",
     "text": [
      "I1017 01:13:23.064508 4705195456 saver.py:1483] Saver not created because there are no variables in the graph to restore\n",
      "  2%|▏         | 29/1561 [04:14<4:51:54, 11.43s/it]"
     ]
    },
    {
     "name": "stdout",
     "output_type": "stream",
     "text": [
      "INFO:tensorflow:Saver not created because there are no variables in the graph to restore\n"
     ]
    },
    {
     "name": "stderr",
     "output_type": "stream",
     "text": [
      "I1017 01:13:35.018990 4705195456 saver.py:1483] Saver not created because there are no variables in the graph to restore\n",
      "  2%|▏         | 30/1561 [04:28<5:04:57, 11.95s/it]"
     ]
    },
    {
     "name": "stdout",
     "output_type": "stream",
     "text": [
      "INFO:tensorflow:Saver not created because there are no variables in the graph to restore\n"
     ]
    },
    {
     "name": "stderr",
     "output_type": "stream",
     "text": [
      "I1017 01:13:48.202135 4705195456 saver.py:1483] Saver not created because there are no variables in the graph to restore\n",
      "  2%|▏         | 31/1561 [04:41<5:14:42, 12.34s/it]"
     ]
    },
    {
     "name": "stdout",
     "output_type": "stream",
     "text": [
      "INFO:tensorflow:Saver not created because there are no variables in the graph to restore\n"
     ]
    },
    {
     "name": "stderr",
     "output_type": "stream",
     "text": [
      "I1017 01:14:01.477941 4705195456 saver.py:1483] Saver not created because there are no variables in the graph to restore\n",
      "  2%|▏         | 32/1561 [04:53<5:16:46, 12.43s/it]"
     ]
    },
    {
     "name": "stdout",
     "output_type": "stream",
     "text": [
      "INFO:tensorflow:Saver not created because there are no variables in the graph to restore\n"
     ]
    },
    {
     "name": "stderr",
     "output_type": "stream",
     "text": [
      "I1017 01:14:14.458778 4705195456 saver.py:1483] Saver not created because there are no variables in the graph to restore\n",
      "  2%|▏         | 33/1561 [05:07<5:25:02, 12.76s/it]"
     ]
    },
    {
     "name": "stdout",
     "output_type": "stream",
     "text": [
      "INFO:tensorflow:Saver not created because there are no variables in the graph to restore\n"
     ]
    },
    {
     "name": "stderr",
     "output_type": "stream",
     "text": [
      "I1017 01:14:27.706197 4705195456 saver.py:1483] Saver not created because there are no variables in the graph to restore\n",
      "  2%|▏         | 34/1561 [05:22<5:38:47, 13.31s/it]"
     ]
    },
    {
     "name": "stdout",
     "output_type": "stream",
     "text": [
      "INFO:tensorflow:Saver not created because there are no variables in the graph to restore\n"
     ]
    },
    {
     "name": "stderr",
     "output_type": "stream",
     "text": [
      "I1017 01:14:42.232995 4705195456 saver.py:1483] Saver not created because there are no variables in the graph to restore\n",
      "  2%|▏         | 35/1561 [05:37<5:54:41, 13.95s/it]"
     ]
    },
    {
     "name": "stdout",
     "output_type": "stream",
     "text": [
      "INFO:tensorflow:Saver not created because there are no variables in the graph to restore\n"
     ]
    },
    {
     "name": "stderr",
     "output_type": "stream",
     "text": [
      "I1017 01:14:57.767040 4705195456 saver.py:1483] Saver not created because there are no variables in the graph to restore\n",
      "  2%|▏         | 36/1561 [05:51<5:57:27, 14.06s/it]"
     ]
    },
    {
     "name": "stdout",
     "output_type": "stream",
     "text": [
      "INFO:tensorflow:Saver not created because there are no variables in the graph to restore\n"
     ]
    },
    {
     "name": "stderr",
     "output_type": "stream",
     "text": [
      "I1017 01:15:12.032091 4705195456 saver.py:1483] Saver not created because there are no variables in the graph to restore\n",
      "  2%|▏         | 37/1561 [06:06<6:00:15, 14.18s/it]"
     ]
    },
    {
     "name": "stdout",
     "output_type": "stream",
     "text": [
      "INFO:tensorflow:Saver not created because there are no variables in the graph to restore\n"
     ]
    },
    {
     "name": "stderr",
     "output_type": "stream",
     "text": [
      "I1017 01:15:26.506256 4705195456 saver.py:1483] Saver not created because there are no variables in the graph to restore\n",
      "  2%|▏         | 38/1561 [06:21<6:06:00, 14.42s/it]"
     ]
    },
    {
     "name": "stdout",
     "output_type": "stream",
     "text": [
      "INFO:tensorflow:Saver not created because there are no variables in the graph to restore\n"
     ]
    },
    {
     "name": "stderr",
     "output_type": "stream",
     "text": [
      "I1017 01:15:41.467932 4705195456 saver.py:1483] Saver not created because there are no variables in the graph to restore\n",
      "  2%|▏         | 39/1561 [06:37<6:18:23, 14.92s/it]"
     ]
    },
    {
     "name": "stdout",
     "output_type": "stream",
     "text": [
      "INFO:tensorflow:Saver not created because there are no variables in the graph to restore\n"
     ]
    },
    {
     "name": "stderr",
     "output_type": "stream",
     "text": [
      "I1017 01:15:57.585786 4705195456 saver.py:1483] Saver not created because there are no variables in the graph to restore\n",
      "  3%|▎         | 40/1561 [06:54<6:36:09, 15.63s/it]"
     ]
    },
    {
     "name": "stdout",
     "output_type": "stream",
     "text": [
      "INFO:tensorflow:Saver not created because there are no variables in the graph to restore\n"
     ]
    },
    {
     "name": "stderr",
     "output_type": "stream",
     "text": [
      "I1017 01:16:14.883749 4705195456 saver.py:1483] Saver not created because there are no variables in the graph to restore\n",
      "  3%|▎         | 41/1561 [07:11<6:43:32, 15.93s/it]"
     ]
    },
    {
     "name": "stdout",
     "output_type": "stream",
     "text": [
      "INFO:tensorflow:Saver not created because there are no variables in the graph to restore\n"
     ]
    },
    {
     "name": "stderr",
     "output_type": "stream",
     "text": [
      "I1017 01:16:32.811022 4705195456 saver.py:1483] Saver not created because there are no variables in the graph to restore\n",
      "  3%|▎         | 42/1561 [07:29<7:02:19, 16.68s/it]"
     ]
    },
    {
     "name": "stdout",
     "output_type": "stream",
     "text": [
      "INFO:tensorflow:Saver not created because there are no variables in the graph to restore\n"
     ]
    },
    {
     "name": "stderr",
     "output_type": "stream",
     "text": [
      "I1017 01:16:49.934768 4705195456 saver.py:1483] Saver not created because there are no variables in the graph to restore\n",
      "  3%|▎         | 43/1561 [07:47<7:13:56, 17.15s/it]"
     ]
    },
    {
     "name": "stdout",
     "output_type": "stream",
     "text": [
      "INFO:tensorflow:Saver not created because there are no variables in the graph to restore\n"
     ]
    },
    {
     "name": "stderr",
     "output_type": "stream",
     "text": [
      "I1017 01:17:08.192092 4705195456 saver.py:1483] Saver not created because there are no variables in the graph to restore\n",
      "  3%|▎         | 44/1561 [08:06<7:24:09, 17.57s/it]"
     ]
    },
    {
     "name": "stdout",
     "output_type": "stream",
     "text": [
      "INFO:tensorflow:Saver not created because there are no variables in the graph to restore\n"
     ]
    },
    {
     "name": "stderr",
     "output_type": "stream",
     "text": [
      "I1017 01:17:26.782503 4705195456 saver.py:1483] Saver not created because there are no variables in the graph to restore\n",
      "  3%|▎         | 45/1561 [08:22<7:14:57, 17.22s/it]"
     ]
    },
    {
     "name": "stdout",
     "output_type": "stream",
     "text": [
      "INFO:tensorflow:Saver not created because there are no variables in the graph to restore\n"
     ]
    },
    {
     "name": "stderr",
     "output_type": "stream",
     "text": [
      "I1017 01:17:43.117116 4705195456 saver.py:1483] Saver not created because there are no variables in the graph to restore\n",
      "  3%|▎         | 46/1561 [08:40<7:13:56, 17.19s/it]"
     ]
    },
    {
     "name": "stdout",
     "output_type": "stream",
     "text": [
      "INFO:tensorflow:Saver not created because there are no variables in the graph to restore\n"
     ]
    },
    {
     "name": "stderr",
     "output_type": "stream",
     "text": [
      "I1017 01:18:00.260613 4705195456 saver.py:1483] Saver not created because there are no variables in the graph to restore\n",
      "  3%|▎         | 47/1561 [08:57<7:13:04, 17.16s/it]"
     ]
    },
    {
     "name": "stdout",
     "output_type": "stream",
     "text": [
      "INFO:tensorflow:Saver not created because there are no variables in the graph to restore\n"
     ]
    },
    {
     "name": "stderr",
     "output_type": "stream",
     "text": [
      "I1017 01:18:17.379518 4705195456 saver.py:1483] Saver not created because there are no variables in the graph to restore\n",
      "  3%|▎         | 48/1561 [09:15<7:25:17, 17.66s/it]"
     ]
    },
    {
     "name": "stdout",
     "output_type": "stream",
     "text": [
      "INFO:tensorflow:Saver not created because there are no variables in the graph to restore\n"
     ]
    },
    {
     "name": "stderr",
     "output_type": "stream",
     "text": [
      "I1017 01:18:36.177470 4705195456 saver.py:1483] Saver not created because there are no variables in the graph to restore\n",
      "  3%|▎         | 49/1561 [09:33<7:23:44, 17.61s/it]"
     ]
    },
    {
     "name": "stdout",
     "output_type": "stream",
     "text": [
      "INFO:tensorflow:Saver not created because there are no variables in the graph to restore\n"
     ]
    },
    {
     "name": "stderr",
     "output_type": "stream",
     "text": [
      "I1017 01:18:53.692358 4705195456 saver.py:1483] Saver not created because there are no variables in the graph to restore\n",
      "  3%|▎         | 50/1561 [09:51<7:29:55, 17.87s/it]"
     ]
    },
    {
     "name": "stdout",
     "output_type": "stream",
     "text": [
      "INFO:tensorflow:Saver not created because there are no variables in the graph to restore\n"
     ]
    },
    {
     "name": "stderr",
     "output_type": "stream",
     "text": [
      "I1017 01:19:12.146656 4705195456 saver.py:1483] Saver not created because there are no variables in the graph to restore\n",
      "  3%|▎         | 51/1561 [10:11<7:44:28, 18.46s/it]"
     ]
    },
    {
     "name": "stdout",
     "output_type": "stream",
     "text": [
      "INFO:tensorflow:Saver not created because there are no variables in the graph to restore\n"
     ]
    },
    {
     "name": "stderr",
     "output_type": "stream",
     "text": [
      "I1017 01:19:32.006223 4705195456 saver.py:1483] Saver not created because there are no variables in the graph to restore\n",
      "  3%|▎         | 52/1561 [10:32<8:03:28, 19.22s/it]"
     ]
    },
    {
     "name": "stdout",
     "output_type": "stream",
     "text": [
      "INFO:tensorflow:Saver not created because there are no variables in the graph to restore\n"
     ]
    },
    {
     "name": "stderr",
     "output_type": "stream",
     "text": [
      "I1017 01:19:56.521677 4705195456 saver.py:1483] Saver not created because there are no variables in the graph to restore\n",
      "  3%|▎         | 53/1561 [10:57<8:46:01, 20.93s/it]"
     ]
    },
    {
     "name": "stdout",
     "output_type": "stream",
     "text": [
      "INFO:tensorflow:Saver not created because there are no variables in the graph to restore\n"
     ]
    },
    {
     "name": "stderr",
     "output_type": "stream",
     "text": [
      "I1017 01:20:17.957062 4705195456 saver.py:1483] Saver not created because there are no variables in the graph to restore\n",
      "  3%|▎         | 54/1561 [11:17<8:38:28, 20.64s/it]"
     ]
    },
    {
     "name": "stdout",
     "output_type": "stream",
     "text": [
      "INFO:tensorflow:Saver not created because there are no variables in the graph to restore\n"
     ]
    },
    {
     "name": "stderr",
     "output_type": "stream",
     "text": [
      "I1017 01:20:37.928510 4705195456 saver.py:1483] Saver not created because there are no variables in the graph to restore\n",
      "  4%|▎         | 55/1561 [11:38<8:42:55, 20.83s/it]"
     ]
    },
    {
     "name": "stdout",
     "output_type": "stream",
     "text": [
      "INFO:tensorflow:Saver not created because there are no variables in the graph to restore\n"
     ]
    },
    {
     "name": "stderr",
     "output_type": "stream",
     "text": [
      "I1017 01:20:59.213125 4705195456 saver.py:1483] Saver not created because there are no variables in the graph to restore\n",
      "  4%|▎         | 56/1561 [11:59<8:41:07, 20.78s/it]"
     ]
    },
    {
     "name": "stdout",
     "output_type": "stream",
     "text": [
      "INFO:tensorflow:Saver not created because there are no variables in the graph to restore\n"
     ]
    },
    {
     "name": "stderr",
     "output_type": "stream",
     "text": [
      "I1017 01:21:19.850045 4705195456 saver.py:1483] Saver not created because there are no variables in the graph to restore\n",
      "  4%|▎         | 57/1561 [12:21<8:48:20, 21.08s/it]"
     ]
    },
    {
     "name": "stdout",
     "output_type": "stream",
     "text": [
      "INFO:tensorflow:Saver not created because there are no variables in the graph to restore\n"
     ]
    },
    {
     "name": "stderr",
     "output_type": "stream",
     "text": [
      "I1017 01:21:41.646322 4705195456 saver.py:1483] Saver not created because there are no variables in the graph to restore\n",
      "  4%|▎         | 58/1561 [12:42<8:47:38, 21.06s/it]"
     ]
    },
    {
     "name": "stdout",
     "output_type": "stream",
     "text": [
      "INFO:tensorflow:Saver not created because there are no variables in the graph to restore\n"
     ]
    },
    {
     "name": "stderr",
     "output_type": "stream",
     "text": [
      "I1017 01:22:02.672230 4705195456 saver.py:1483] Saver not created because there are no variables in the graph to restore\n",
      "  4%|▍         | 59/1561 [13:04<8:53:30, 21.31s/it]"
     ]
    },
    {
     "name": "stdout",
     "output_type": "stream",
     "text": [
      "INFO:tensorflow:Saver not created because there are no variables in the graph to restore\n"
     ]
    },
    {
     "name": "stderr",
     "output_type": "stream",
     "text": [
      "I1017 01:22:24.561449 4705195456 saver.py:1483] Saver not created because there are no variables in the graph to restore\n",
      "  4%|▍         | 60/1561 [13:28<9:17:11, 22.27s/it]"
     ]
    },
    {
     "name": "stdout",
     "output_type": "stream",
     "text": [
      "INFO:tensorflow:Saver not created because there are no variables in the graph to restore\n"
     ]
    },
    {
     "name": "stderr",
     "output_type": "stream",
     "text": [
      "I1017 01:22:49.137732 4705195456 saver.py:1483] Saver not created because there are no variables in the graph to restore\n",
      "  4%|▍         | 61/1561 [13:51<9:23:23, 22.54s/it]"
     ]
    },
    {
     "name": "stdout",
     "output_type": "stream",
     "text": [
      "INFO:tensorflow:Saver not created because there are no variables in the graph to restore\n"
     ]
    },
    {
     "name": "stderr",
     "output_type": "stream",
     "text": [
      "I1017 01:23:12.296274 4705195456 saver.py:1483] Saver not created because there are no variables in the graph to restore\n",
      "  4%|▍         | 62/1561 [14:16<9:38:42, 23.16s/it]"
     ]
    },
    {
     "name": "stdout",
     "output_type": "stream",
     "text": [
      "INFO:tensorflow:Saver not created because there are no variables in the graph to restore\n"
     ]
    },
    {
     "name": "stderr",
     "output_type": "stream",
     "text": [
      "I1017 01:23:36.890491 4705195456 saver.py:1483] Saver not created because there are no variables in the graph to restore\n",
      "  4%|▍         | 63/1561 [14:40<9:44:06, 23.40s/it]"
     ]
    },
    {
     "name": "stdout",
     "output_type": "stream",
     "text": [
      "INFO:tensorflow:Saver not created because there are no variables in the graph to restore\n"
     ]
    },
    {
     "name": "stderr",
     "output_type": "stream",
     "text": [
      "I1017 01:24:00.907643 4705195456 saver.py:1483] Saver not created because there are no variables in the graph to restore\n",
      "  4%|▍         | 64/1561 [15:04<9:50:34, 23.67s/it]"
     ]
    },
    {
     "name": "stdout",
     "output_type": "stream",
     "text": [
      "INFO:tensorflow:Saver not created because there are no variables in the graph to restore\n"
     ]
    },
    {
     "name": "stderr",
     "output_type": "stream",
     "text": [
      "I1017 01:24:25.161571 4705195456 saver.py:1483] Saver not created because there are no variables in the graph to restore\n",
      "  4%|▍         | 65/1561 [15:28<9:49:24, 23.64s/it]"
     ]
    },
    {
     "name": "stdout",
     "output_type": "stream",
     "text": [
      "INFO:tensorflow:Saver not created because there are no variables in the graph to restore\n"
     ]
    },
    {
     "name": "stderr",
     "output_type": "stream",
     "text": [
      "I1017 01:24:48.710522 4705195456 saver.py:1483] Saver not created because there are no variables in the graph to restore\n",
      "  4%|▍         | 66/1561 [15:53<10:00:17, 24.09s/it]"
     ]
    },
    {
     "name": "stdout",
     "output_type": "stream",
     "text": [
      "INFO:tensorflow:Saver not created because there are no variables in the graph to restore\n"
     ]
    },
    {
     "name": "stderr",
     "output_type": "stream",
     "text": [
      "I1017 01:25:13.887062 4705195456 saver.py:1483] Saver not created because there are no variables in the graph to restore\n",
      "  4%|▍         | 67/1561 [16:18<10:07:49, 24.41s/it]"
     ]
    },
    {
     "name": "stdout",
     "output_type": "stream",
     "text": [
      "INFO:tensorflow:Saver not created because there are no variables in the graph to restore\n"
     ]
    },
    {
     "name": "stderr",
     "output_type": "stream",
     "text": [
      "I1017 01:25:41.844217 4705195456 saver.py:1483] Saver not created because there are no variables in the graph to restore\n",
      "  4%|▍         | 68/1561 [16:47<10:39:23, 25.70s/it]"
     ]
    },
    {
     "name": "stdout",
     "output_type": "stream",
     "text": [
      "INFO:tensorflow:Saver not created because there are no variables in the graph to restore\n"
     ]
    },
    {
     "name": "stderr",
     "output_type": "stream",
     "text": [
      "I1017 01:26:07.762177 4705195456 saver.py:1483] Saver not created because there are no variables in the graph to restore\n",
      "  4%|▍         | 69/1561 [17:14<10:51:35, 26.20s/it]"
     ]
    },
    {
     "name": "stdout",
     "output_type": "stream",
     "text": [
      "INFO:tensorflow:Saver not created because there are no variables in the graph to restore\n"
     ]
    },
    {
     "name": "stderr",
     "output_type": "stream",
     "text": [
      "I1017 01:26:35.187850 4705195456 saver.py:1483] Saver not created because there are no variables in the graph to restore\n",
      "  4%|▍         | 70/1561 [17:42<11:05:56, 26.80s/it]"
     ]
    },
    {
     "name": "stdout",
     "output_type": "stream",
     "text": [
      "INFO:tensorflow:Saver not created because there are no variables in the graph to restore\n"
     ]
    },
    {
     "name": "stderr",
     "output_type": "stream",
     "text": [
      "I1017 01:27:03.480463 4705195456 saver.py:1483] Saver not created because there are no variables in the graph to restore\n",
      "  5%|▍         | 71/1561 [18:08<10:56:32, 26.44s/it]"
     ]
    },
    {
     "name": "stdout",
     "output_type": "stream",
     "text": [
      "INFO:tensorflow:Saver not created because there are no variables in the graph to restore\n"
     ]
    },
    {
     "name": "stderr",
     "output_type": "stream",
     "text": [
      "I1017 01:27:28.952322 4705195456 saver.py:1483] Saver not created because there are no variables in the graph to restore\n",
      "  5%|▍         | 72/1561 [18:39<11:32:03, 27.89s/it]"
     ]
    },
    {
     "name": "stdout",
     "output_type": "stream",
     "text": [
      "INFO:tensorflow:Saver not created because there are no variables in the graph to restore\n"
     ]
    },
    {
     "name": "stderr",
     "output_type": "stream",
     "text": [
      "I1017 01:28:01.003044 4705195456 saver.py:1483] Saver not created because there are no variables in the graph to restore\n",
      "  5%|▍         | 73/1561 [19:08<11:34:47, 28.02s/it]"
     ]
    },
    {
     "name": "stdout",
     "output_type": "stream",
     "text": [
      "INFO:tensorflow:Saver not created because there are no variables in the graph to restore\n"
     ]
    },
    {
     "name": "stderr",
     "output_type": "stream",
     "text": [
      "I1017 01:28:28.692174 4705195456 saver.py:1483] Saver not created because there are no variables in the graph to restore\n",
      "  5%|▍         | 74/1561 [19:36<11:39:59, 28.24s/it]"
     ]
    },
    {
     "name": "stdout",
     "output_type": "stream",
     "text": [
      "INFO:tensorflow:Saver not created because there are no variables in the graph to restore\n"
     ]
    },
    {
     "name": "stderr",
     "output_type": "stream",
     "text": [
      "I1017 01:28:57.339663 4705195456 saver.py:1483] Saver not created because there are no variables in the graph to restore\n",
      "  5%|▍         | 75/1561 [20:05<11:44:35, 28.45s/it]"
     ]
    },
    {
     "name": "stdout",
     "output_type": "stream",
     "text": [
      "INFO:tensorflow:Saver not created because there are no variables in the graph to restore\n"
     ]
    },
    {
     "name": "stderr",
     "output_type": "stream",
     "text": [
      "I1017 01:29:26.299153 4705195456 saver.py:1483] Saver not created because there are no variables in the graph to restore\n",
      "  5%|▍         | 76/1561 [20:39<12:24:12, 30.07s/it]"
     ]
    },
    {
     "name": "stdout",
     "output_type": "stream",
     "text": [
      "INFO:tensorflow:Saver not created because there are no variables in the graph to restore\n"
     ]
    },
    {
     "name": "stderr",
     "output_type": "stream",
     "text": [
      "I1017 01:30:01.116526 4705195456 saver.py:1483] Saver not created because there are no variables in the graph to restore\n",
      "  5%|▍         | 77/1561 [21:12<12:40:42, 30.76s/it]"
     ]
    },
    {
     "name": "stdout",
     "output_type": "stream",
     "text": [
      "INFO:tensorflow:Saver not created because there are no variables in the graph to restore\n"
     ]
    },
    {
     "name": "stderr",
     "output_type": "stream",
     "text": [
      "I1017 01:30:32.510618 4705195456 saver.py:1483] Saver not created because there are no variables in the graph to restore\n",
      "  5%|▍         | 78/1561 [21:42<12:34:16, 30.52s/it]"
     ]
    },
    {
     "name": "stdout",
     "output_type": "stream",
     "text": [
      "INFO:tensorflow:Saver not created because there are no variables in the graph to restore\n"
     ]
    },
    {
     "name": "stderr",
     "output_type": "stream",
     "text": [
      "I1017 01:31:02.489933 4705195456 saver.py:1483] Saver not created because there are no variables in the graph to restore\n",
      "  5%|▌         | 79/1561 [22:12<12:32:03, 30.45s/it]"
     ]
    },
    {
     "name": "stdout",
     "output_type": "stream",
     "text": [
      "INFO:tensorflow:Saver not created because there are no variables in the graph to restore\n"
     ]
    },
    {
     "name": "stderr",
     "output_type": "stream",
     "text": [
      "I1017 01:31:32.732007 4705195456 saver.py:1483] Saver not created because there are no variables in the graph to restore\n",
      "  5%|▌         | 80/1561 [22:44<12:43:55, 30.95s/it]"
     ]
    },
    {
     "name": "stdout",
     "output_type": "stream",
     "text": [
      "INFO:tensorflow:Saver not created because there are no variables in the graph to restore\n"
     ]
    },
    {
     "name": "stderr",
     "output_type": "stream",
     "text": [
      "I1017 01:32:04.923696 4705195456 saver.py:1483] Saver not created because there are no variables in the graph to restore\n",
      "  5%|▌         | 81/1561 [23:15<12:43:35, 30.96s/it]"
     ]
    },
    {
     "name": "stdout",
     "output_type": "stream",
     "text": [
      "INFO:tensorflow:Saver not created because there are no variables in the graph to restore\n"
     ]
    },
    {
     "name": "stderr",
     "output_type": "stream",
     "text": [
      "I1017 01:32:35.906200 4705195456 saver.py:1483] Saver not created because there are no variables in the graph to restore\n",
      "  5%|▌         | 82/1561 [23:47<12:47:54, 31.15s/it]"
     ]
    },
    {
     "name": "stdout",
     "output_type": "stream",
     "text": [
      "INFO:tensorflow:Saver not created because there are no variables in the graph to restore\n"
     ]
    },
    {
     "name": "stderr",
     "output_type": "stream",
     "text": [
      "I1017 01:33:07.471115 4705195456 saver.py:1483] Saver not created because there are no variables in the graph to restore\n",
      "  5%|▌         | 83/1561 [24:19<12:56:49, 31.54s/it]"
     ]
    },
    {
     "name": "stdout",
     "output_type": "stream",
     "text": [
      "INFO:tensorflow:Saver not created because there are no variables in the graph to restore\n"
     ]
    },
    {
     "name": "stderr",
     "output_type": "stream",
     "text": [
      "I1017 01:33:39.907788 4705195456 saver.py:1483] Saver not created because there are no variables in the graph to restore\n",
      "  5%|▌         | 84/1561 [24:52<13:06:41, 31.96s/it]"
     ]
    },
    {
     "name": "stdout",
     "output_type": "stream",
     "text": [
      "INFO:tensorflow:Saver not created because there are no variables in the graph to restore\n"
     ]
    },
    {
     "name": "stderr",
     "output_type": "stream",
     "text": [
      "I1017 01:34:12.845893 4705195456 saver.py:1483] Saver not created because there are no variables in the graph to restore\n",
      "  5%|▌         | 85/1561 [25:25<13:13:27, 32.25s/it]"
     ]
    },
    {
     "name": "stdout",
     "output_type": "stream",
     "text": [
      "INFO:tensorflow:Saver not created because there are no variables in the graph to restore\n"
     ]
    },
    {
     "name": "stderr",
     "output_type": "stream",
     "text": [
      "I1017 01:34:49.857057 4705195456 saver.py:1483] Saver not created because there are no variables in the graph to restore\n",
      "  6%|▌         | 86/1561 [26:02<13:50:46, 33.79s/it]"
     ]
    },
    {
     "name": "stdout",
     "output_type": "stream",
     "text": [
      "INFO:tensorflow:Saver not created because there are no variables in the graph to restore\n"
     ]
    },
    {
     "name": "stderr",
     "output_type": "stream",
     "text": [
      "I1017 01:35:23.227349 4705195456 saver.py:1483] Saver not created because there are no variables in the graph to restore\n",
      "  6%|▌         | 87/1561 [26:36<13:47:30, 33.68s/it]"
     ]
    },
    {
     "name": "stdout",
     "output_type": "stream",
     "text": [
      "INFO:tensorflow:Saver not created because there are no variables in the graph to restore\n"
     ]
    },
    {
     "name": "stderr",
     "output_type": "stream",
     "text": [
      "I1017 01:35:56.621118 4705195456 saver.py:1483] Saver not created because there are no variables in the graph to restore\n",
      "  6%|▌         | 88/1561 [27:12<14:06:13, 34.47s/it]"
     ]
    },
    {
     "name": "stdout",
     "output_type": "stream",
     "text": [
      "INFO:tensorflow:Saver not created because there are no variables in the graph to restore\n"
     ]
    },
    {
     "name": "stderr",
     "output_type": "stream",
     "text": [
      "I1017 01:36:32.966652 4705195456 saver.py:1483] Saver not created because there are no variables in the graph to restore\n",
      "  6%|▌         | 89/1561 [27:45<13:58:55, 34.20s/it]"
     ]
    },
    {
     "name": "stdout",
     "output_type": "stream",
     "text": [
      "INFO:tensorflow:Saver not created because there are no variables in the graph to restore\n"
     ]
    },
    {
     "name": "stderr",
     "output_type": "stream",
     "text": [
      "I1017 01:37:06.550139 4705195456 saver.py:1483] Saver not created because there are no variables in the graph to restore\n",
      "  6%|▌         | 90/1561 [28:20<14:03:29, 34.40s/it]"
     ]
    },
    {
     "name": "stdout",
     "output_type": "stream",
     "text": [
      "INFO:tensorflow:Saver not created because there are no variables in the graph to restore\n"
     ]
    },
    {
     "name": "stderr",
     "output_type": "stream",
     "text": [
      "I1017 01:37:41.451013 4705195456 saver.py:1483] Saver not created because there are no variables in the graph to restore\n",
      "  6%|▌         | 91/1561 [28:56<14:13:33, 34.84s/it]"
     ]
    },
    {
     "name": "stdout",
     "output_type": "stream",
     "text": [
      "INFO:tensorflow:Saver not created because there are no variables in the graph to restore\n"
     ]
    },
    {
     "name": "stderr",
     "output_type": "stream",
     "text": [
      "I1017 01:38:17.421049 4705195456 saver.py:1483] Saver not created because there are no variables in the graph to restore\n",
      "  6%|▌         | 92/1561 [29:32<14:16:46, 34.99s/it]"
     ]
    },
    {
     "name": "stdout",
     "output_type": "stream",
     "text": [
      "INFO:tensorflow:Saver not created because there are no variables in the graph to restore\n"
     ]
    },
    {
     "name": "stderr",
     "output_type": "stream",
     "text": [
      "I1017 01:38:52.648767 4705195456 saver.py:1483] Saver not created because there are no variables in the graph to restore\n",
      "  6%|▌         | 93/1561 [30:08<14:29:57, 35.56s/it]"
     ]
    },
    {
     "name": "stdout",
     "output_type": "stream",
     "text": [
      "INFO:tensorflow:Saver not created because there are no variables in the graph to restore\n"
     ]
    },
    {
     "name": "stderr",
     "output_type": "stream",
     "text": [
      "I1017 01:39:29.589232 4705195456 saver.py:1483] Saver not created because there are no variables in the graph to restore\n",
      "  6%|▌         | 94/1561 [30:46<14:42:32, 36.10s/it]"
     ]
    },
    {
     "name": "stdout",
     "output_type": "stream",
     "text": [
      "INFO:tensorflow:Saver not created because there are no variables in the graph to restore\n"
     ]
    },
    {
     "name": "stderr",
     "output_type": "stream",
     "text": [
      "I1017 01:40:06.880589 4705195456 saver.py:1483] Saver not created because there are no variables in the graph to restore\n",
      "  6%|▌         | 95/1561 [31:27<15:21:28, 37.71s/it]"
     ]
    },
    {
     "name": "stdout",
     "output_type": "stream",
     "text": [
      "INFO:tensorflow:Saver not created because there are no variables in the graph to restore\n"
     ]
    },
    {
     "name": "stderr",
     "output_type": "stream",
     "text": [
      "I1017 01:40:49.202554 4705195456 saver.py:1483] Saver not created because there are no variables in the graph to restore\n",
      "  6%|▌         | 96/1561 [32:06<15:26:14, 37.93s/it]"
     ]
    },
    {
     "name": "stdout",
     "output_type": "stream",
     "text": [
      "INFO:tensorflow:Saver not created because there are no variables in the graph to restore\n"
     ]
    },
    {
     "name": "stderr",
     "output_type": "stream",
     "text": [
      "I1017 01:41:26.922890 4705195456 saver.py:1483] Saver not created because there are no variables in the graph to restore\n",
      "  6%|▌         | 97/1561 [32:47<15:52:26, 39.03s/it]"
     ]
    },
    {
     "name": "stdout",
     "output_type": "stream",
     "text": [
      "INFO:tensorflow:Saver not created because there are no variables in the graph to restore\n"
     ]
    },
    {
     "name": "stderr",
     "output_type": "stream",
     "text": [
      "I1017 01:42:08.514866 4705195456 saver.py:1483] Saver not created because there are no variables in the graph to restore\n",
      "  6%|▋         | 98/1561 [33:28<16:02:40, 39.48s/it]"
     ]
    },
    {
     "name": "stdout",
     "output_type": "stream",
     "text": [
      "INFO:tensorflow:Saver not created because there are no variables in the graph to restore\n"
     ]
    },
    {
     "name": "stderr",
     "output_type": "stream",
     "text": [
      "I1017 01:42:48.968544 4705195456 saver.py:1483] Saver not created because there are no variables in the graph to restore\n",
      "  6%|▋         | 99/1561 [34:07<16:00:01, 39.40s/it]"
     ]
    },
    {
     "name": "stdout",
     "output_type": "stream",
     "text": [
      "INFO:tensorflow:Saver not created because there are no variables in the graph to restore\n"
     ]
    },
    {
     "name": "stderr",
     "output_type": "stream",
     "text": [
      "I1017 01:43:28.847475 4705195456 saver.py:1483] Saver not created because there are no variables in the graph to restore\n",
      "  6%|▋         | 100/1561 [34:47<16:02:44, 39.54s/it]"
     ]
    },
    {
     "name": "stdout",
     "output_type": "stream",
     "text": [
      "INFO:tensorflow:Saver not created because there are no variables in the graph to restore\n"
     ]
    },
    {
     "name": "stderr",
     "output_type": "stream",
     "text": [
      "I1017 01:44:08.082703 4705195456 saver.py:1483] Saver not created because there are no variables in the graph to restore\n",
      "  6%|▋         | 101/1561 [35:35<17:07:00, 42.21s/it]"
     ]
    },
    {
     "name": "stdout",
     "output_type": "stream",
     "text": [
      "INFO:tensorflow:Saver not created because there are no variables in the graph to restore\n"
     ]
    },
    {
     "name": "stderr",
     "output_type": "stream",
     "text": [
      "I1017 01:44:57.988605 4705195456 saver.py:1483] Saver not created because there are no variables in the graph to restore\n",
      "  7%|▋         | 102/1561 [36:19<17:15:59, 42.60s/it]"
     ]
    },
    {
     "name": "stdout",
     "output_type": "stream",
     "text": [
      "INFO:tensorflow:Saver not created because there are no variables in the graph to restore\n"
     ]
    },
    {
     "name": "stderr",
     "output_type": "stream",
     "text": [
      "I1017 01:45:40.239497 4705195456 saver.py:1483] Saver not created because there are no variables in the graph to restore\n",
      "  7%|▋         | 103/1561 [37:00<17:02:14, 42.07s/it]"
     ]
    },
    {
     "name": "stdout",
     "output_type": "stream",
     "text": [
      "INFO:tensorflow:Saver not created because there are no variables in the graph to restore\n"
     ]
    },
    {
     "name": "stderr",
     "output_type": "stream",
     "text": [
      "I1017 01:46:20.835090 4705195456 saver.py:1483] Saver not created because there are no variables in the graph to restore\n",
      "  7%|▋         | 104/1561 [37:47<17:42:19, 43.75s/it]"
     ]
    },
    {
     "name": "stdout",
     "output_type": "stream",
     "text": [
      "INFO:tensorflow:Saver not created because there are no variables in the graph to restore\n"
     ]
    },
    {
     "name": "stderr",
     "output_type": "stream",
     "text": [
      "I1017 01:47:09.580879 4705195456 saver.py:1483] Saver not created because there are no variables in the graph to restore\n",
      "  7%|▋         | 105/1561 [38:33<17:54:24, 44.27s/it]"
     ]
    },
    {
     "name": "stdout",
     "output_type": "stream",
     "text": [
      "INFO:tensorflow:Saver not created because there are no variables in the graph to restore\n"
     ]
    },
    {
     "name": "stderr",
     "output_type": "stream",
     "text": [
      "I1017 01:47:54.227019 4705195456 saver.py:1483] Saver not created because there are no variables in the graph to restore\n",
      "  7%|▋         | 106/1561 [39:15<17:36:23, 43.56s/it]"
     ]
    },
    {
     "name": "stdout",
     "output_type": "stream",
     "text": [
      "INFO:tensorflow:Saver not created because there are no variables in the graph to restore\n"
     ]
    },
    {
     "name": "stderr",
     "output_type": "stream",
     "text": [
      "I1017 01:48:36.091448 4705195456 saver.py:1483] Saver not created because there are no variables in the graph to restore\n",
      "  7%|▋         | 107/1561 [39:57<17:24:06, 43.09s/it]"
     ]
    },
    {
     "name": "stdout",
     "output_type": "stream",
     "text": [
      "INFO:tensorflow:Saver not created because there are no variables in the graph to restore\n"
     ]
    },
    {
     "name": "stderr",
     "output_type": "stream",
     "text": [
      "I1017 01:49:17.911232 4705195456 saver.py:1483] Saver not created because there are no variables in the graph to restore\n",
      "  7%|▋         | 108/1561 [40:44<17:56:07, 44.44s/it]"
     ]
    },
    {
     "name": "stdout",
     "output_type": "stream",
     "text": [
      "INFO:tensorflow:Saver not created because there are no variables in the graph to restore\n"
     ]
    },
    {
     "name": "stderr",
     "output_type": "stream",
     "text": [
      "I1017 01:50:11.331544 4705195456 saver.py:1483] Saver not created because there are no variables in the graph to restore\n",
      "  7%|▋         | 109/1561 [41:34<18:35:50, 46.11s/it]"
     ]
    },
    {
     "name": "stdout",
     "output_type": "stream",
     "text": [
      "INFO:tensorflow:Saver not created because there are no variables in the graph to restore\n"
     ]
    },
    {
     "name": "stderr",
     "output_type": "stream",
     "text": [
      "I1017 01:50:55.588474 4705195456 saver.py:1483] Saver not created because there are no variables in the graph to restore\n",
      "  7%|▋         | 110/1561 [42:22<18:47:08, 46.61s/it]"
     ]
    },
    {
     "name": "stdout",
     "output_type": "stream",
     "text": [
      "INFO:tensorflow:Saver not created because there are no variables in the graph to restore\n"
     ]
    },
    {
     "name": "stderr",
     "output_type": "stream",
     "text": [
      "I1017 01:51:43.825927 4705195456 saver.py:1483] Saver not created because there are no variables in the graph to restore\n",
      "  7%|▋         | 111/1561 [43:15<19:31:55, 48.49s/it]"
     ]
    },
    {
     "name": "stdout",
     "output_type": "stream",
     "text": [
      "INFO:tensorflow:Saver not created because there are no variables in the graph to restore\n"
     ]
    },
    {
     "name": "stderr",
     "output_type": "stream",
     "text": [
      "I1017 01:52:37.503331 4705195456 saver.py:1483] Saver not created because there are no variables in the graph to restore\n",
      "  7%|▋         | 112/1561 [44:02<19:20:22, 48.05s/it]"
     ]
    },
    {
     "name": "stdout",
     "output_type": "stream",
     "text": [
      "INFO:tensorflow:Saver not created because there are no variables in the graph to restore\n"
     ]
    },
    {
     "name": "stderr",
     "output_type": "stream",
     "text": [
      "I1017 01:53:23.257659 4705195456 saver.py:1483] Saver not created because there are no variables in the graph to restore\n",
      "  7%|▋         | 113/1561 [44:48<19:05:52, 47.48s/it]"
     ]
    },
    {
     "name": "stdout",
     "output_type": "stream",
     "text": [
      "INFO:tensorflow:Saver not created because there are no variables in the graph to restore\n"
     ]
    },
    {
     "name": "stderr",
     "output_type": "stream",
     "text": [
      "I1017 01:54:09.460791 4705195456 saver.py:1483] Saver not created because there are no variables in the graph to restore\n",
      "  7%|▋         | 114/1561 [45:39<19:25:24, 48.32s/it]"
     ]
    },
    {
     "name": "stdout",
     "output_type": "stream",
     "text": [
      "INFO:tensorflow:Saver not created because there are no variables in the graph to restore\n"
     ]
    },
    {
     "name": "stderr",
     "output_type": "stream",
     "text": [
      "I1017 01:55:00.509191 4705195456 saver.py:1483] Saver not created because there are no variables in the graph to restore\n",
      "  7%|▋         | 115/1561 [46:27<19:23:07, 48.26s/it]"
     ]
    },
    {
     "name": "stdout",
     "output_type": "stream",
     "text": [
      "INFO:tensorflow:Saver not created because there are no variables in the graph to restore\n"
     ]
    },
    {
     "name": "stderr",
     "output_type": "stream",
     "text": [
      "I1017 01:55:47.946281 4705195456 saver.py:1483] Saver not created because there are no variables in the graph to restore\n",
      "  7%|▋         | 116/1561 [47:19<19:52:59, 49.54s/it]"
     ]
    },
    {
     "name": "stdout",
     "output_type": "stream",
     "text": [
      "INFO:tensorflow:Saver not created because there are no variables in the graph to restore\n"
     ]
    },
    {
     "name": "stderr",
     "output_type": "stream",
     "text": [
      "I1017 01:56:40.527621 4705195456 saver.py:1483] Saver not created because there are no variables in the graph to restore\n",
      "  7%|▋         | 117/1561 [48:09<19:55:22, 49.67s/it]"
     ]
    },
    {
     "name": "stdout",
     "output_type": "stream",
     "text": [
      "INFO:tensorflow:Saver not created because there are no variables in the graph to restore\n"
     ]
    },
    {
     "name": "stderr",
     "output_type": "stream",
     "text": [
      "I1017 01:57:30.424254 4705195456 saver.py:1483] Saver not created because there are no variables in the graph to restore\n",
      "  8%|▊         | 118/1561 [48:58<19:47:46, 49.39s/it]"
     ]
    },
    {
     "name": "stdout",
     "output_type": "stream",
     "text": [
      "INFO:tensorflow:Saver not created because there are no variables in the graph to restore\n"
     ]
    },
    {
     "name": "stderr",
     "output_type": "stream",
     "text": [
      "I1017 01:58:19.120887 4705195456 saver.py:1483] Saver not created because there are no variables in the graph to restore\n",
      "  8%|▊         | 119/1561 [49:50<20:08:28, 50.28s/it]"
     ]
    },
    {
     "name": "stdout",
     "output_type": "stream",
     "text": [
      "INFO:tensorflow:Saver not created because there are no variables in the graph to restore\n"
     ]
    },
    {
     "name": "stderr",
     "output_type": "stream",
     "text": [
      "I1017 01:59:13.218125 4705195456 saver.py:1483] Saver not created because there are no variables in the graph to restore\n",
      "  8%|▊         | 120/1561 [50:43<20:27:41, 51.12s/it]"
     ]
    },
    {
     "name": "stdout",
     "output_type": "stream",
     "text": [
      "INFO:tensorflow:Saver not created because there are no variables in the graph to restore\n"
     ]
    },
    {
     "name": "stderr",
     "output_type": "stream",
     "text": [
      "I1017 02:00:04.604720 4705195456 saver.py:1483] Saver not created because there are no variables in the graph to restore\n",
      "  8%|▊         | 121/1561 [51:45<21:45:52, 54.41s/it]"
     ]
    },
    {
     "name": "stdout",
     "output_type": "stream",
     "text": [
      "INFO:tensorflow:Saver not created because there are no variables in the graph to restore\n"
     ]
    },
    {
     "name": "stderr",
     "output_type": "stream",
     "text": [
      "I1017 02:01:08.167444 4705195456 saver.py:1483] Saver not created because there are no variables in the graph to restore\n",
      "  8%|▊         | 122/1561 [52:39<21:36:21, 54.05s/it]"
     ]
    },
    {
     "name": "stdout",
     "output_type": "stream",
     "text": [
      "INFO:tensorflow:Saver not created because there are no variables in the graph to restore\n"
     ]
    },
    {
     "name": "stderr",
     "output_type": "stream",
     "text": [
      "I1017 02:01:59.892991 4705195456 saver.py:1483] Saver not created because there are no variables in the graph to restore\n",
      "  8%|▊         | 123/1561 [53:32<21:32:23, 53.92s/it]"
     ]
    },
    {
     "name": "stdout",
     "output_type": "stream",
     "text": [
      "INFO:tensorflow:Saver not created because there are no variables in the graph to restore\n"
     ]
    },
    {
     "name": "stderr",
     "output_type": "stream",
     "text": [
      "I1017 02:02:53.789345 4705195456 saver.py:1483] Saver not created because there are no variables in the graph to restore\n",
      "  8%|▊         | 124/1561 [54:26<21:32:04, 53.95s/it]"
     ]
    },
    {
     "name": "stdout",
     "output_type": "stream",
     "text": [
      "INFO:tensorflow:Saver not created because there are no variables in the graph to restore\n"
     ]
    },
    {
     "name": "stderr",
     "output_type": "stream",
     "text": [
      "I1017 02:03:48.141391 4705195456 saver.py:1483] Saver not created because there are no variables in the graph to restore\n",
      "  8%|▊         | 125/1561 [55:21<21:35:09, 54.11s/it]"
     ]
    },
    {
     "name": "stdout",
     "output_type": "stream",
     "text": [
      "INFO:tensorflow:Saver not created because there are no variables in the graph to restore\n"
     ]
    },
    {
     "name": "stderr",
     "output_type": "stream",
     "text": [
      "I1017 02:04:42.259118 4705195456 saver.py:1483] Saver not created because there are no variables in the graph to restore\n",
      "  8%|▊         | 126/1561 [56:15<21:34:34, 54.13s/it]"
     ]
    },
    {
     "name": "stdout",
     "output_type": "stream",
     "text": [
      "INFO:tensorflow:Saver not created because there are no variables in the graph to restore\n"
     ]
    },
    {
     "name": "stderr",
     "output_type": "stream",
     "text": [
      "I1017 02:05:37.375551 4705195456 saver.py:1483] Saver not created because there are no variables in the graph to restore\n",
      "  8%|▊         | 127/1561 [57:11<21:47:45, 54.72s/it]"
     ]
    },
    {
     "name": "stdout",
     "output_type": "stream",
     "text": [
      "INFO:tensorflow:Saver not created because there are no variables in the graph to restore\n"
     ]
    },
    {
     "name": "stderr",
     "output_type": "stream",
     "text": [
      "I1017 02:06:32.371073 4705195456 saver.py:1483] Saver not created because there are no variables in the graph to restore\n",
      "  8%|▊         | 128/1561 [58:07<21:55:26, 55.08s/it]"
     ]
    },
    {
     "name": "stdout",
     "output_type": "stream",
     "text": [
      "INFO:tensorflow:Saver not created because there are no variables in the graph to restore\n"
     ]
    },
    {
     "name": "stderr",
     "output_type": "stream",
     "text": [
      "I1017 02:07:28.284411 4705195456 saver.py:1483] Saver not created because there are no variables in the graph to restore\n",
      "  8%|▊         | 129/1561 [59:08<22:37:56, 56.90s/it]"
     ]
    },
    {
     "name": "stdout",
     "output_type": "stream",
     "text": [
      "INFO:tensorflow:Saver not created because there are no variables in the graph to restore\n"
     ]
    },
    {
     "name": "stderr",
     "output_type": "stream",
     "text": [
      "I1017 02:08:30.770480 4705195456 saver.py:1483] Saver not created because there are no variables in the graph to restore\n",
      "  8%|▊         | 130/1561 [1:00:07<22:53:46, 57.60s/it]"
     ]
    },
    {
     "name": "stdout",
     "output_type": "stream",
     "text": [
      "INFO:tensorflow:Saver not created because there are no variables in the graph to restore\n"
     ]
    },
    {
     "name": "stderr",
     "output_type": "stream",
     "text": [
      "I1017 02:09:28.817253 4705195456 saver.py:1483] Saver not created because there are no variables in the graph to restore\n",
      "  8%|▊         | 131/1561 [1:01:04<22:47:11, 57.36s/it]"
     ]
    },
    {
     "name": "stdout",
     "output_type": "stream",
     "text": [
      "INFO:tensorflow:Saver not created because there are no variables in the graph to restore\n"
     ]
    },
    {
     "name": "stderr",
     "output_type": "stream",
     "text": [
      "I1017 02:10:25.507248 4705195456 saver.py:1483] Saver not created because there are no variables in the graph to restore\n",
      "  8%|▊         | 132/1561 [1:02:04<23:01:38, 58.01s/it]"
     ]
    },
    {
     "name": "stdout",
     "output_type": "stream",
     "text": [
      "INFO:tensorflow:Saver not created because there are no variables in the graph to restore\n"
     ]
    },
    {
     "name": "stderr",
     "output_type": "stream",
     "text": [
      "I1017 02:11:25.096203 4705195456 saver.py:1483] Saver not created because there are no variables in the graph to restore\n",
      "  9%|▊         | 133/1561 [1:03:06<23:33:16, 59.38s/it]"
     ]
    },
    {
     "name": "stdout",
     "output_type": "stream",
     "text": [
      "INFO:tensorflow:Saver not created because there are no variables in the graph to restore\n"
     ]
    },
    {
     "name": "stderr",
     "output_type": "stream",
     "text": [
      "I1017 02:12:27.623845 4705195456 saver.py:1483] Saver not created because there are no variables in the graph to restore\n",
      "  9%|▊         | 134/1561 [1:04:05<23:26:11, 59.13s/it]"
     ]
    },
    {
     "name": "stdout",
     "output_type": "stream",
     "text": [
      "INFO:tensorflow:Saver not created because there are no variables in the graph to restore\n"
     ]
    },
    {
     "name": "stderr",
     "output_type": "stream",
     "text": [
      "I1017 02:13:26.119524 4705195456 saver.py:1483] Saver not created because there are no variables in the graph to restore\n",
      "  9%|▊         | 135/1561 [1:05:05<23:33:06, 59.46s/it]"
     ]
    },
    {
     "name": "stdout",
     "output_type": "stream",
     "text": [
      "INFO:tensorflow:Saver not created because there are no variables in the graph to restore\n"
     ]
    },
    {
     "name": "stderr",
     "output_type": "stream",
     "text": [
      "I1017 02:14:27.293638 4705195456 saver.py:1483] Saver not created because there are no variables in the graph to restore\n",
      "  9%|▊         | 136/1561 [1:06:07<23:53:53, 60.37s/it]"
     ]
    },
    {
     "name": "stdout",
     "output_type": "stream",
     "text": [
      "INFO:tensorflow:Saver not created because there are no variables in the graph to restore\n"
     ]
    },
    {
     "name": "stderr",
     "output_type": "stream",
     "text": [
      "I1017 02:15:36.595146 4705195456 saver.py:1483] Saver not created because there are no variables in the graph to restore\n",
      "  9%|▉         | 137/1561 [1:07:18<25:04:33, 63.39s/it]"
     ]
    },
    {
     "name": "stdout",
     "output_type": "stream",
     "text": [
      "INFO:tensorflow:Saver not created because there are no variables in the graph to restore\n"
     ]
    },
    {
     "name": "stderr",
     "output_type": "stream",
     "text": [
      "I1017 02:16:39.388098 4705195456 saver.py:1483] Saver not created because there are no variables in the graph to restore\n",
      "  9%|▉         | 138/1561 [1:08:25<25:31:53, 64.59s/it]"
     ]
    },
    {
     "name": "stdout",
     "output_type": "stream",
     "text": [
      "INFO:tensorflow:Saver not created because there are no variables in the graph to restore\n"
     ]
    },
    {
     "name": "stderr",
     "output_type": "stream",
     "text": [
      "I1017 02:17:47.865116 4705195456 saver.py:1483] Saver not created because there are no variables in the graph to restore\n",
      "  9%|▉         | 139/1561 [1:09:30<25:34:29, 64.75s/it]"
     ]
    },
    {
     "name": "stdout",
     "output_type": "stream",
     "text": [
      "INFO:tensorflow:Saver not created because there are no variables in the graph to restore\n"
     ]
    },
    {
     "name": "stderr",
     "output_type": "stream",
     "text": [
      "I1017 02:18:52.150859 4705195456 saver.py:1483] Saver not created because there are no variables in the graph to restore\n",
      "  9%|▉         | 140/1561 [1:10:35<25:30:02, 64.60s/it]"
     ]
    },
    {
     "name": "stdout",
     "output_type": "stream",
     "text": [
      "INFO:tensorflow:Saver not created because there are no variables in the graph to restore\n"
     ]
    },
    {
     "name": "stderr",
     "output_type": "stream",
     "text": [
      "I1017 02:19:57.112797 4705195456 saver.py:1483] Saver not created because there are no variables in the graph to restore\n",
      "  9%|▉         | 141/1561 [1:11:39<25:23:59, 64.39s/it]"
     ]
    },
    {
     "name": "stdout",
     "output_type": "stream",
     "text": [
      "INFO:tensorflow:Saver not created because there are no variables in the graph to restore\n"
     ]
    },
    {
     "name": "stderr",
     "output_type": "stream",
     "text": [
      "I1017 02:21:00.022519 4705195456 saver.py:1483] Saver not created because there are no variables in the graph to restore\n",
      "  9%|▉         | 142/1561 [1:12:44<25:28:31, 64.63s/it]"
     ]
    },
    {
     "name": "stdout",
     "output_type": "stream",
     "text": [
      "INFO:tensorflow:Saver not created because there are no variables in the graph to restore\n"
     ]
    },
    {
     "name": "stderr",
     "output_type": "stream",
     "text": [
      "I1017 02:22:06.244495 4705195456 saver.py:1483] Saver not created because there are no variables in the graph to restore\n",
      "  9%|▉         | 143/1561 [1:13:51<25:43:57, 65.33s/it]"
     ]
    },
    {
     "name": "stdout",
     "output_type": "stream",
     "text": [
      "INFO:tensorflow:Saver not created because there are no variables in the graph to restore\n"
     ]
    },
    {
     "name": "stderr",
     "output_type": "stream",
     "text": [
      "I1017 02:23:12.580085 4705195456 saver.py:1483] Saver not created because there are no variables in the graph to restore\n",
      "  9%|▉         | 144/1561 [1:14:57<25:48:29, 65.57s/it]"
     ]
    },
    {
     "name": "stdout",
     "output_type": "stream",
     "text": [
      "INFO:tensorflow:Saver not created because there are no variables in the graph to restore\n"
     ]
    },
    {
     "name": "stderr",
     "output_type": "stream",
     "text": [
      "I1017 02:24:18.298385 4705195456 saver.py:1483] Saver not created because there are no variables in the graph to restore\n",
      "  9%|▉         | 145/1561 [1:16:08<26:29:48, 67.36s/it]"
     ]
    },
    {
     "name": "stdout",
     "output_type": "stream",
     "text": [
      "INFO:tensorflow:Saver not created because there are no variables in the graph to restore\n"
     ]
    },
    {
     "name": "stderr",
     "output_type": "stream",
     "text": [
      "I1017 02:25:30.069236 4705195456 saver.py:1483] Saver not created because there are no variables in the graph to restore\n",
      "  9%|▉         | 146/1561 [1:17:17<26:38:19, 67.77s/it]"
     ]
    },
    {
     "name": "stdout",
     "output_type": "stream",
     "text": [
      "INFO:tensorflow:Saver not created because there are no variables in the graph to restore\n"
     ]
    },
    {
     "name": "stderr",
     "output_type": "stream",
     "text": [
      "I1017 02:26:38.618752 4705195456 saver.py:1483] Saver not created because there are no variables in the graph to restore\n",
      "  9%|▉         | 147/1561 [1:18:27<26:49:08, 68.28s/it]"
     ]
    },
    {
     "name": "stdout",
     "output_type": "stream",
     "text": [
      "INFO:tensorflow:Saver not created because there are no variables in the graph to restore\n"
     ]
    },
    {
     "name": "stderr",
     "output_type": "stream",
     "text": [
      "I1017 02:27:49.749850 4705195456 saver.py:1483] Saver not created because there are no variables in the graph to restore\n",
      "  9%|▉         | 148/1561 [1:19:40<27:27:01, 69.94s/it]"
     ]
    },
    {
     "name": "stdout",
     "output_type": "stream",
     "text": [
      "INFO:tensorflow:Saver not created because there are no variables in the graph to restore\n"
     ]
    },
    {
     "name": "stderr",
     "output_type": "stream",
     "text": [
      "I1017 02:29:02.091454 4705195456 saver.py:1483] Saver not created because there are no variables in the graph to restore\n",
      " 10%|▉         | 149/1561 [1:20:51<27:30:36, 70.14s/it]"
     ]
    },
    {
     "name": "stdout",
     "output_type": "stream",
     "text": [
      "INFO:tensorflow:Saver not created because there are no variables in the graph to restore\n"
     ]
    },
    {
     "name": "stderr",
     "output_type": "stream",
     "text": [
      "I1017 02:30:13.916794 4705195456 saver.py:1483] Saver not created because there are no variables in the graph to restore\n",
      " 10%|▉         | 150/1561 [1:22:04<27:49:39, 71.00s/it]"
     ]
    },
    {
     "name": "stdout",
     "output_type": "stream",
     "text": [
      "INFO:tensorflow:Saver not created because there are no variables in the graph to restore\n"
     ]
    },
    {
     "name": "stderr",
     "output_type": "stream",
     "text": [
      "I1017 02:31:25.660163 4705195456 saver.py:1483] Saver not created because there are no variables in the graph to restore\n",
      " 10%|▉         | 151/1561 [1:23:15<27:49:50, 71.06s/it]"
     ]
    },
    {
     "name": "stdout",
     "output_type": "stream",
     "text": [
      "INFO:tensorflow:Saver not created because there are no variables in the graph to restore\n"
     ]
    },
    {
     "name": "stderr",
     "output_type": "stream",
     "text": [
      "I1017 02:32:36.953817 4705195456 saver.py:1483] Saver not created because there are no variables in the graph to restore\n",
      " 10%|▉         | 152/1561 [1:24:26<27:44:14, 70.87s/it]"
     ]
    },
    {
     "name": "stdout",
     "output_type": "stream",
     "text": [
      "INFO:tensorflow:Saver not created because there are no variables in the graph to restore\n"
     ]
    },
    {
     "name": "stderr",
     "output_type": "stream",
     "text": [
      "I1017 02:33:47.673804 4705195456 saver.py:1483] Saver not created because there are no variables in the graph to restore\n",
      " 10%|▉         | 153/1561 [1:25:43<28:27:09, 72.75s/it]"
     ]
    },
    {
     "name": "stdout",
     "output_type": "stream",
     "text": [
      "INFO:tensorflow:Saver not created because there are no variables in the graph to restore\n"
     ]
    },
    {
     "name": "stderr",
     "output_type": "stream",
     "text": [
      "I1017 02:35:05.250809 4705195456 saver.py:1483] Saver not created because there are no variables in the graph to restore\n",
      " 10%|▉         | 154/1561 [1:26:57<28:37:58, 73.26s/it]"
     ]
    },
    {
     "name": "stdout",
     "output_type": "stream",
     "text": [
      "INFO:tensorflow:Saver not created because there are no variables in the graph to restore\n"
     ]
    },
    {
     "name": "stderr",
     "output_type": "stream",
     "text": [
      "I1017 02:36:19.383150 4705195456 saver.py:1483] Saver not created because there are no variables in the graph to restore\n",
      " 10%|▉         | 155/1561 [1:28:12<28:45:06, 73.62s/it]"
     ]
    },
    {
     "name": "stdout",
     "output_type": "stream",
     "text": [
      "INFO:tensorflow:Saver not created because there are no variables in the graph to restore\n"
     ]
    },
    {
     "name": "stderr",
     "output_type": "stream",
     "text": [
      "I1017 02:37:33.465026 4705195456 saver.py:1483] Saver not created because there are no variables in the graph to restore\n",
      " 10%|▉         | 156/1561 [1:29:31<29:21:23, 75.22s/it]"
     ]
    },
    {
     "name": "stdout",
     "output_type": "stream",
     "text": [
      "INFO:tensorflow:Saver not created because there are no variables in the graph to restore\n"
     ]
    },
    {
     "name": "stderr",
     "output_type": "stream",
     "text": [
      "I1017 02:38:53.834514 4705195456 saver.py:1483] Saver not created because there are no variables in the graph to restore\n",
      " 10%|█         | 157/1561 [1:30:47<29:30:10, 75.65s/it]"
     ]
    },
    {
     "name": "stdout",
     "output_type": "stream",
     "text": [
      "INFO:tensorflow:Saver not created because there are no variables in the graph to restore\n"
     ]
    },
    {
     "name": "stderr",
     "output_type": "stream",
     "text": [
      "I1017 02:40:08.892992 4705195456 saver.py:1483] Saver not created because there are no variables in the graph to restore\n",
      " 10%|█         | 158/1561 [1:32:07<29:56:58, 76.85s/it]"
     ]
    },
    {
     "name": "stdout",
     "output_type": "stream",
     "text": [
      "INFO:tensorflow:Saver not created because there are no variables in the graph to restore\n"
     ]
    },
    {
     "name": "stderr",
     "output_type": "stream",
     "text": [
      "I1017 02:41:30.234518 4705195456 saver.py:1483] Saver not created because there are no variables in the graph to restore\n",
      " 10%|█         | 159/1561 [1:33:29<30:35:11, 78.54s/it]"
     ]
    },
    {
     "name": "stdout",
     "output_type": "stream",
     "text": [
      "INFO:tensorflow:Saver not created because there are no variables in the graph to restore\n"
     ]
    },
    {
     "name": "stderr",
     "output_type": "stream",
     "text": [
      "I1017 02:42:53.012584 4705195456 saver.py:1483] Saver not created because there are no variables in the graph to restore\n",
      " 10%|█         | 160/1561 [1:34:51<30:57:58, 79.57s/it]"
     ]
    },
    {
     "name": "stdout",
     "output_type": "stream",
     "text": [
      "INFO:tensorflow:Saver not created because there are no variables in the graph to restore\n"
     ]
    },
    {
     "name": "stderr",
     "output_type": "stream",
     "text": [
      "I1017 02:44:13.327569 4705195456 saver.py:1483] Saver not created because there are no variables in the graph to restore\n",
      " 10%|█         | 161/1561 [1:36:26<32:42:10, 84.09s/it]"
     ]
    },
    {
     "name": "stdout",
     "output_type": "stream",
     "text": [
      "INFO:tensorflow:Saver not created because there are no variables in the graph to restore\n"
     ]
    },
    {
     "name": "stderr",
     "output_type": "stream",
     "text": [
      "I1017 02:45:50.605592 4705195456 saver.py:1483] Saver not created because there are no variables in the graph to restore\n",
      " 10%|█         | 162/1561 [1:37:52<32:51:49, 84.57s/it]"
     ]
    },
    {
     "name": "stdout",
     "output_type": "stream",
     "text": [
      "INFO:tensorflow:Saver not created because there are no variables in the graph to restore\n"
     ]
    },
    {
     "name": "stderr",
     "output_type": "stream",
     "text": [
      "I1017 02:47:14.891066 4705195456 saver.py:1483] Saver not created because there are no variables in the graph to restore\n",
      " 10%|█         | 163/1561 [1:39:16<32:48:18, 84.48s/it]"
     ]
    },
    {
     "name": "stdout",
     "output_type": "stream",
     "text": [
      "INFO:tensorflow:Saver not created because there are no variables in the graph to restore\n"
     ]
    },
    {
     "name": "stderr",
     "output_type": "stream",
     "text": [
      "I1017 02:48:37.949892 4705195456 saver.py:1483] Saver not created because there are no variables in the graph to restore\n",
      " 11%|█         | 164/1561 [1:40:40<32:42:21, 84.28s/it]"
     ]
    },
    {
     "name": "stdout",
     "output_type": "stream",
     "text": [
      "INFO:tensorflow:Saver not created because there are no variables in the graph to restore\n"
     ]
    },
    {
     "name": "stderr",
     "output_type": "stream",
     "text": [
      "I1017 02:50:01.634812 4705195456 saver.py:1483] Saver not created because there are no variables in the graph to restore\n",
      " 11%|█         | 165/1561 [1:42:08<33:09:03, 85.49s/it]"
     ]
    },
    {
     "name": "stdout",
     "output_type": "stream",
     "text": [
      "INFO:tensorflow:Saver not created because there are no variables in the graph to restore\n"
     ]
    },
    {
     "name": "stderr",
     "output_type": "stream",
     "text": [
      "I1017 02:51:31.792598 4705195456 saver.py:1483] Saver not created because there are no variables in the graph to restore\n",
      " 11%|█         | 166/1561 [1:43:38<33:37:59, 86.80s/it]"
     ]
    },
    {
     "name": "stdout",
     "output_type": "stream",
     "text": [
      "INFO:tensorflow:Saver not created because there are no variables in the graph to restore\n"
     ]
    },
    {
     "name": "stderr",
     "output_type": "stream",
     "text": [
      "I1017 02:53:00.684697 4705195456 saver.py:1483] Saver not created because there are no variables in the graph to restore\n",
      " 11%|█         | 167/1561 [1:45:04<33:28:21, 86.44s/it]"
     ]
    },
    {
     "name": "stdout",
     "output_type": "stream",
     "text": [
      "INFO:tensorflow:Saver not created because there are no variables in the graph to restore\n"
     ]
    },
    {
     "name": "stderr",
     "output_type": "stream",
     "text": [
      "I1017 02:54:25.627056 4705195456 saver.py:1483] Saver not created because there are no variables in the graph to restore\n",
      " 11%|█         | 168/1561 [1:46:36<34:06:02, 88.13s/it]"
     ]
    },
    {
     "name": "stdout",
     "output_type": "stream",
     "text": [
      "INFO:tensorflow:Saver not created because there are no variables in the graph to restore\n"
     ]
    },
    {
     "name": "stderr",
     "output_type": "stream",
     "text": [
      "I1017 02:56:00.080897 4705195456 saver.py:1483] Saver not created because there are no variables in the graph to restore\n",
      " 11%|█         | 169/1561 [1:48:05<34:11:51, 88.44s/it]"
     ]
    },
    {
     "name": "stdout",
     "output_type": "stream",
     "text": [
      "INFO:tensorflow:Saver not created because there are no variables in the graph to restore\n"
     ]
    },
    {
     "name": "stderr",
     "output_type": "stream",
     "text": [
      "I1017 02:57:27.523472 4705195456 saver.py:1483] Saver not created because there are no variables in the graph to restore\n",
      " 11%|█         | 170/1561 [1:49:35<34:19:45, 88.85s/it]"
     ]
    },
    {
     "name": "stdout",
     "output_type": "stream",
     "text": [
      "INFO:tensorflow:Saver not created because there are no variables in the graph to restore\n"
     ]
    },
    {
     "name": "stderr",
     "output_type": "stream",
     "text": [
      "I1017 02:58:56.675147 4705195456 saver.py:1483] Saver not created because there are no variables in the graph to restore\n",
      " 11%|█         | 171/1561 [1:51:05<34:29:30, 89.33s/it]"
     ]
    },
    {
     "name": "stdout",
     "output_type": "stream",
     "text": [
      "INFO:tensorflow:Saver not created because there are no variables in the graph to restore\n"
     ]
    },
    {
     "name": "stderr",
     "output_type": "stream",
     "text": [
      "I1017 03:00:43.146048 4705195456 saver.py:1483] Saver not created because there are no variables in the graph to restore\n",
      " 11%|█         | 172/1561 [1:53:00<37:22:36, 96.87s/it]"
     ]
    },
    {
     "name": "stdout",
     "output_type": "stream",
     "text": [
      "INFO:tensorflow:Saver not created because there are no variables in the graph to restore\n"
     ]
    },
    {
     "name": "stderr",
     "output_type": "stream",
     "text": [
      "I1017 03:02:25.144796 4705195456 saver.py:1483] Saver not created because there are no variables in the graph to restore\n",
      " 11%|█         | 173/1561 [1:54:36<37:19:52, 96.82s/it]"
     ]
    },
    {
     "name": "stdout",
     "output_type": "stream",
     "text": [
      "INFO:tensorflow:Saver not created because there are no variables in the graph to restore\n"
     ]
    },
    {
     "name": "stderr",
     "output_type": "stream",
     "text": [
      "I1017 03:03:58.806469 4705195456 saver.py:1483] Saver not created because there are no variables in the graph to restore\n",
      " 11%|█         | 174/1561 [1:56:10<36:56:38, 95.89s/it]"
     ]
    },
    {
     "name": "stdout",
     "output_type": "stream",
     "text": [
      "INFO:tensorflow:Saver not created because there are no variables in the graph to restore\n"
     ]
    },
    {
     "name": "stderr",
     "output_type": "stream",
     "text": [
      "I1017 03:05:31.985342 4705195456 saver.py:1483] Saver not created because there are no variables in the graph to restore\n",
      " 11%|█         | 175/1561 [1:57:45<36:46:02, 95.50s/it]"
     ]
    },
    {
     "name": "stdout",
     "output_type": "stream",
     "text": [
      "INFO:tensorflow:Saver not created because there are no variables in the graph to restore\n"
     ]
    },
    {
     "name": "stderr",
     "output_type": "stream",
     "text": [
      "I1017 03:07:06.892890 4705195456 saver.py:1483] Saver not created because there are no variables in the graph to restore\n",
      " 11%|█▏        | 176/1561 [1:59:25<37:17:59, 96.95s/it]"
     ]
    },
    {
     "name": "stdout",
     "output_type": "stream",
     "text": [
      "INFO:tensorflow:Saver not created because there are no variables in the graph to restore\n"
     ]
    },
    {
     "name": "stderr",
     "output_type": "stream",
     "text": [
      "I1017 03:08:48.851905 4705195456 saver.py:1483] Saver not created because there are no variables in the graph to restore\n",
      " 11%|█▏        | 177/1561 [2:01:00<37:02:36, 96.36s/it]"
     ]
    },
    {
     "name": "stdout",
     "output_type": "stream",
     "text": [
      "INFO:tensorflow:Saver not created because there are no variables in the graph to restore\n"
     ]
    },
    {
     "name": "stderr",
     "output_type": "stream",
     "text": [
      "I1017 03:10:21.892755 4705195456 saver.py:1483] Saver not created because there are no variables in the graph to restore\n",
      " 11%|█▏        | 178/1561 [2:02:45<38:02:16, 99.01s/it]"
     ]
    },
    {
     "name": "stdout",
     "output_type": "stream",
     "text": [
      "INFO:tensorflow:Saver not created because there are no variables in the graph to restore\n"
     ]
    },
    {
     "name": "stderr",
     "output_type": "stream",
     "text": [
      "I1017 03:12:09.688349 4705195456 saver.py:1483] Saver not created because there are no variables in the graph to restore\n",
      " 11%|█▏        | 179/1561 [2:04:25<38:05:06, 99.21s/it]"
     ]
    },
    {
     "name": "stdout",
     "output_type": "stream",
     "text": [
      "INFO:tensorflow:Saver not created because there are no variables in the graph to restore\n"
     ]
    },
    {
     "name": "stderr",
     "output_type": "stream",
     "text": [
      "I1017 03:13:46.957917 4705195456 saver.py:1483] Saver not created because there are no variables in the graph to restore\n",
      " 12%|█▏        | 180/1561 [2:06:03<37:58:44, 99.00s/it]"
     ]
    },
    {
     "name": "stdout",
     "output_type": "stream",
     "text": [
      "INFO:tensorflow:Saver not created because there are no variables in the graph to restore\n"
     ]
    },
    {
     "name": "stderr",
     "output_type": "stream",
     "text": [
      "I1017 03:15:26.402321 4705195456 saver.py:1483] Saver not created because there are no variables in the graph to restore\n",
      " 12%|█▏        | 181/1561 [2:07:44<38:10:32, 99.59s/it]"
     ]
    },
    {
     "name": "stdout",
     "output_type": "stream",
     "text": [
      "INFO:tensorflow:Saver not created because there are no variables in the graph to restore\n"
     ]
    },
    {
     "name": "stderr",
     "output_type": "stream",
     "text": [
      "I1017 03:17:08.211050 4705195456 saver.py:1483] Saver not created because there are no variables in the graph to restore\n",
      " 12%|█▏        | 182/1561 [2:09:31<38:56:43, 101.67s/it]"
     ]
    },
    {
     "name": "stdout",
     "output_type": "stream",
     "text": [
      "INFO:tensorflow:Saver not created because there are no variables in the graph to restore\n"
     ]
    },
    {
     "name": "stderr",
     "output_type": "stream",
     "text": [
      "I1017 03:18:53.576214 4705195456 saver.py:1483] Saver not created because there are no variables in the graph to restore\n",
      " 12%|█▏        | 183/1561 [2:11:16<39:18:02, 102.67s/it]"
     ]
    },
    {
     "name": "stdout",
     "output_type": "stream",
     "text": [
      "INFO:tensorflow:Saver not created because there are no variables in the graph to restore\n"
     ]
    },
    {
     "name": "stderr",
     "output_type": "stream",
     "text": [
      "I1017 03:20:40.207377 4705195456 saver.py:1483] Saver not created because there are no variables in the graph to restore\n",
      " 12%|█▏        | 184/1561 [2:13:02<39:43:39, 103.86s/it]"
     ]
    },
    {
     "name": "stdout",
     "output_type": "stream",
     "text": [
      "INFO:tensorflow:Saver not created because there are no variables in the graph to restore\n"
     ]
    },
    {
     "name": "stderr",
     "output_type": "stream",
     "text": [
      "I1017 03:22:26.221745 4705195456 saver.py:1483] Saver not created because there are no variables in the graph to restore\n",
      " 12%|█▏        | 185/1561 [2:14:46<39:38:53, 103.73s/it]"
     ]
    },
    {
     "name": "stdout",
     "output_type": "stream",
     "text": [
      "INFO:tensorflow:Saver not created because there are no variables in the graph to restore\n"
     ]
    },
    {
     "name": "stderr",
     "output_type": "stream",
     "text": [
      "I1017 03:24:07.987078 4705195456 saver.py:1483] Saver not created because there are no variables in the graph to restore\n",
      " 12%|█▏        | 186/1561 [2:16:35<40:14:47, 105.37s/it]"
     ]
    },
    {
     "name": "stdout",
     "output_type": "stream",
     "text": [
      "INFO:tensorflow:Saver not created because there are no variables in the graph to restore\n"
     ]
    },
    {
     "name": "stderr",
     "output_type": "stream",
     "text": [
      "I1017 03:25:59.980767 4705195456 saver.py:1483] Saver not created because there are no variables in the graph to restore\n",
      " 12%|█▏        | 187/1561 [2:18:40<42:25:15, 111.15s/it]"
     ]
    },
    {
     "name": "stdout",
     "output_type": "stream",
     "text": [
      "INFO:tensorflow:Saver not created because there are no variables in the graph to restore\n"
     ]
    },
    {
     "name": "stderr",
     "output_type": "stream",
     "text": [
      "I1017 03:28:04.873186 4705195456 saver.py:1483] Saver not created because there are no variables in the graph to restore\n",
      " 12%|█▏        | 188/1561 [2:20:33<42:37:54, 111.78s/it]"
     ]
    },
    {
     "name": "stdout",
     "output_type": "stream",
     "text": [
      "INFO:tensorflow:Saver not created because there are no variables in the graph to restore\n"
     ]
    },
    {
     "name": "stderr",
     "output_type": "stream",
     "text": [
      "I1017 03:29:57.811191 4705195456 saver.py:1483] Saver not created because there are no variables in the graph to restore\n",
      " 12%|█▏        | 189/1561 [2:22:32<43:25:39, 113.95s/it]"
     ]
    },
    {
     "name": "stdout",
     "output_type": "stream",
     "text": [
      "INFO:tensorflow:Saver not created because there are no variables in the graph to restore\n"
     ]
    },
    {
     "name": "stderr",
     "output_type": "stream",
     "text": [
      "I1017 03:31:56.570038 4705195456 saver.py:1483] Saver not created because there are no variables in the graph to restore\n",
      " 12%|█▏        | 190/1561 [2:24:24<43:10:46, 113.38s/it]"
     ]
    },
    {
     "name": "stdout",
     "output_type": "stream",
     "text": [
      "INFO:tensorflow:Saver not created because there are no variables in the graph to restore\n"
     ]
    },
    {
     "name": "stderr",
     "output_type": "stream",
     "text": [
      "I1017 03:33:48.757104 4705195456 saver.py:1483] Saver not created because there are no variables in the graph to restore\n",
      " 12%|█▏        | 191/1561 [2:26:25<44:03:35, 115.78s/it]"
     ]
    },
    {
     "name": "stdout",
     "output_type": "stream",
     "text": [
      "INFO:tensorflow:Saver not created because there are no variables in the graph to restore\n"
     ]
    },
    {
     "name": "stderr",
     "output_type": "stream",
     "text": [
      "I1017 03:35:50.062711 4705195456 saver.py:1483] Saver not created because there are no variables in the graph to restore\n",
      " 12%|█▏        | 192/1561 [2:28:23<44:17:17, 116.46s/it]"
     ]
    },
    {
     "name": "stdout",
     "output_type": "stream",
     "text": [
      "INFO:tensorflow:Saver not created because there are no variables in the graph to restore\n"
     ]
    },
    {
     "name": "stderr",
     "output_type": "stream",
     "text": [
      "I1017 03:37:49.156396 4705195456 saver.py:1483] Saver not created because there are no variables in the graph to restore\n",
      " 12%|█▏        | 193/1561 [2:30:18<43:59:25, 115.76s/it]"
     ]
    },
    {
     "name": "stdout",
     "output_type": "stream",
     "text": [
      "INFO:tensorflow:Saver not created because there are no variables in the graph to restore\n"
     ]
    },
    {
     "name": "stderr",
     "output_type": "stream",
     "text": [
      "I1017 03:39:40.075937 4705195456 saver.py:1483] Saver not created because there are no variables in the graph to restore\n",
      " 12%|█▏        | 194/1561 [2:32:08<43:24:28, 114.31s/it]"
     ]
    },
    {
     "name": "stdout",
     "output_type": "stream",
     "text": [
      "INFO:tensorflow:Saver not created because there are no variables in the graph to restore\n"
     ]
    },
    {
     "name": "stderr",
     "output_type": "stream",
     "text": [
      "I1017 03:41:30.640706 4705195456 saver.py:1483] Saver not created because there are no variables in the graph to restore\n",
      " 12%|█▏        | 195/1561 [2:34:12<44:28:39, 117.22s/it]"
     ]
    },
    {
     "name": "stdout",
     "output_type": "stream",
     "text": [
      "INFO:tensorflow:Saver not created because there are no variables in the graph to restore\n"
     ]
    },
    {
     "name": "stderr",
     "output_type": "stream",
     "text": [
      "I1017 03:43:37.389575 4705195456 saver.py:1483] Saver not created because there are no variables in the graph to restore\n",
      " 13%|█▎        | 196/1561 [2:36:24<46:05:47, 121.57s/it]"
     ]
    },
    {
     "name": "stdout",
     "output_type": "stream",
     "text": [
      "INFO:tensorflow:Saver not created because there are no variables in the graph to restore\n"
     ]
    },
    {
     "name": "stderr",
     "output_type": "stream",
     "text": [
      "I1017 03:45:49.110950 4705195456 saver.py:1483] Saver not created because there are no variables in the graph to restore\n",
      " 13%|█▎        | 197/1561 [2:38:42<47:52:22, 126.35s/it]"
     ]
    },
    {
     "name": "stdout",
     "output_type": "stream",
     "text": [
      "INFO:tensorflow:Saver not created because there are no variables in the graph to restore\n"
     ]
    },
    {
     "name": "stderr",
     "output_type": "stream",
     "text": [
      "I1017 03:48:07.699928 4705195456 saver.py:1483] Saver not created because there are no variables in the graph to restore\n",
      " 13%|█▎        | 198/1561 [2:40:49<47:56:29, 126.62s/it]"
     ]
    },
    {
     "name": "stdout",
     "output_type": "stream",
     "text": [
      "INFO:tensorflow:Saver not created because there are no variables in the graph to restore\n"
     ]
    },
    {
     "name": "stderr",
     "output_type": "stream",
     "text": [
      "I1017 03:50:14.681546 4705195456 saver.py:1483] Saver not created because there are no variables in the graph to restore\n",
      " 13%|█▎        | 199/1561 [2:42:51<47:21:04, 125.16s/it]"
     ]
    },
    {
     "name": "stdout",
     "output_type": "stream",
     "text": [
      "INFO:tensorflow:Saver not created because there are no variables in the graph to restore\n"
     ]
    },
    {
     "name": "stderr",
     "output_type": "stream",
     "text": [
      "I1017 03:52:13.516917 4705195456 saver.py:1483] Saver not created because there are no variables in the graph to restore\n",
      " 13%|█▎        | 200/1561 [2:44:51<46:46:16, 123.72s/it]"
     ]
    },
    {
     "name": "stdout",
     "output_type": "stream",
     "text": [
      "INFO:tensorflow:Saver not created because there are no variables in the graph to restore\n"
     ]
    },
    {
     "name": "stderr",
     "output_type": "stream",
     "text": [
      "I1017 03:54:16.657341 4705195456 saver.py:1483] Saver not created because there are no variables in the graph to restore\n",
      " 13%|█▎        | 201/1561 [2:47:02<47:31:54, 125.82s/it]"
     ]
    },
    {
     "name": "stdout",
     "output_type": "stream",
     "text": [
      "INFO:tensorflow:Saver not created because there are no variables in the graph to restore\n"
     ]
    },
    {
     "name": "stderr",
     "output_type": "stream",
     "text": [
      "I1017 03:56:26.703567 4705195456 saver.py:1483] Saver not created because there are no variables in the graph to restore\n",
      " 13%|█▎        | 202/1561 [2:49:13<48:05:29, 127.39s/it]"
     ]
    },
    {
     "name": "stdout",
     "output_type": "stream",
     "text": [
      "INFO:tensorflow:Saver not created because there are no variables in the graph to restore\n"
     ]
    },
    {
     "name": "stderr",
     "output_type": "stream",
     "text": [
      "I1017 03:58:37.896440 4705195456 saver.py:1483] Saver not created because there are no variables in the graph to restore\n",
      " 13%|█▎        | 203/1561 [2:51:19<47:53:54, 126.98s/it]"
     ]
    },
    {
     "name": "stdout",
     "output_type": "stream",
     "text": [
      "INFO:tensorflow:Saver not created because there are no variables in the graph to restore\n"
     ]
    },
    {
     "name": "stderr",
     "output_type": "stream",
     "text": [
      "I1017 04:00:44.751553 4705195456 saver.py:1483] Saver not created because there are no variables in the graph to restore\n",
      " 13%|█▎        | 204/1561 [2:53:31<48:25:37, 128.47s/it]"
     ]
    },
    {
     "name": "stdout",
     "output_type": "stream",
     "text": [
      "INFO:tensorflow:Saver not created because there are no variables in the graph to restore\n"
     ]
    },
    {
     "name": "stderr",
     "output_type": "stream",
     "text": [
      "I1017 04:02:56.085515 4705195456 saver.py:1483] Saver not created because there are no variables in the graph to restore\n",
      " 13%|█▎        | 205/1561 [2:55:38<48:15:02, 128.10s/it]"
     ]
    },
    {
     "name": "stdout",
     "output_type": "stream",
     "text": [
      "INFO:tensorflow:Saver not created because there are no variables in the graph to restore\n"
     ]
    },
    {
     "name": "stderr",
     "output_type": "stream",
     "text": [
      "I1017 04:05:03.644840 4705195456 saver.py:1483] Saver not created because there are no variables in the graph to restore\n",
      " 13%|█▎        | 206/1561 [2:57:46<48:14:58, 128.19s/it]"
     ]
    },
    {
     "name": "stdout",
     "output_type": "stream",
     "text": [
      "INFO:tensorflow:Saver not created because there are no variables in the graph to restore\n"
     ]
    },
    {
     "name": "stderr",
     "output_type": "stream",
     "text": [
      "I1017 04:07:11.301616 4705195456 saver.py:1483] Saver not created because there are no variables in the graph to restore\n",
      " 13%|█▎        | 207/1561 [3:00:01<48:53:59, 130.01s/it]"
     ]
    },
    {
     "name": "stdout",
     "output_type": "stream",
     "text": [
      "INFO:tensorflow:Saver not created because there are no variables in the graph to restore\n"
     ]
    },
    {
     "name": "stderr",
     "output_type": "stream",
     "text": [
      "I1017 04:09:25.066929 4705195456 saver.py:1483] Saver not created because there are no variables in the graph to restore\n",
      " 13%|█▎        | 208/1561 [3:02:11<48:55:31, 130.18s/it]"
     ]
    },
    {
     "name": "stdout",
     "output_type": "stream",
     "text": [
      "INFO:tensorflow:Saver not created because there are no variables in the graph to restore\n"
     ]
    },
    {
     "name": "stderr",
     "output_type": "stream",
     "text": [
      "I1017 04:11:36.369986 4705195456 saver.py:1483] Saver not created because there are no variables in the graph to restore\n",
      " 13%|█▎        | 209/1561 [3:04:22<48:57:12, 130.35s/it]"
     ]
    },
    {
     "name": "stdout",
     "output_type": "stream",
     "text": [
      "INFO:tensorflow:Saver not created because there are no variables in the graph to restore\n"
     ]
    },
    {
     "name": "stderr",
     "output_type": "stream",
     "text": [
      "I1017 04:13:45.968014 4705195456 saver.py:1483] Saver not created because there are no variables in the graph to restore\n",
      " 13%|█▎        | 210/1561 [3:06:32<48:49:26, 130.10s/it]"
     ]
    },
    {
     "name": "stdout",
     "output_type": "stream",
     "text": [
      "INFO:tensorflow:Saver not created because there are no variables in the graph to restore\n"
     ]
    },
    {
     "name": "stderr",
     "output_type": "stream",
     "text": [
      "I1017 04:15:57.352751 4705195456 saver.py:1483] Saver not created because there are no variables in the graph to restore\n",
      " 14%|█▎        | 211/1561 [3:08:48<49:32:09, 132.10s/it]"
     ]
    },
    {
     "name": "stdout",
     "output_type": "stream",
     "text": [
      "INFO:tensorflow:Saver not created because there are no variables in the graph to restore\n"
     ]
    },
    {
     "name": "stderr",
     "output_type": "stream",
     "text": [
      "I1017 04:18:13.809275 4705195456 saver.py:1483] Saver not created because there are no variables in the graph to restore\n",
      " 14%|█▎        | 212/1561 [3:11:05<50:02:57, 133.56s/it]"
     ]
    },
    {
     "name": "stdout",
     "output_type": "stream",
     "text": [
      "INFO:tensorflow:Saver not created because there are no variables in the graph to restore\n"
     ]
    },
    {
     "name": "stderr",
     "output_type": "stream",
     "text": [
      "I1017 04:20:30.630344 4705195456 saver.py:1483] Saver not created because there are no variables in the graph to restore\n",
      " 14%|█▎        | 213/1561 [3:13:22<50:21:51, 134.50s/it]"
     ]
    },
    {
     "name": "stdout",
     "output_type": "stream",
     "text": [
      "INFO:tensorflow:Saver not created because there are no variables in the graph to restore\n"
     ]
    },
    {
     "name": "stderr",
     "output_type": "stream",
     "text": [
      "I1017 04:22:46.704533 4705195456 saver.py:1483] Saver not created because there are no variables in the graph to restore\n",
      " 14%|█▎        | 214/1561 [3:15:42<50:54:09, 136.04s/it]"
     ]
    },
    {
     "name": "stdout",
     "output_type": "stream",
     "text": [
      "INFO:tensorflow:Saver not created because there are no variables in the graph to restore\n"
     ]
    },
    {
     "name": "stderr",
     "output_type": "stream",
     "text": [
      "I1017 04:25:08.522163 4705195456 saver.py:1483] Saver not created because there are no variables in the graph to restore\n",
      " 14%|█▍        | 215/1561 [3:18:15<52:49:56, 141.30s/it]"
     ]
    },
    {
     "name": "stdout",
     "output_type": "stream",
     "text": [
      "INFO:tensorflow:Saver not created because there are no variables in the graph to restore\n"
     ]
    },
    {
     "name": "stderr",
     "output_type": "stream",
     "text": [
      "I1017 04:28:31.880282 4705195456 saver.py:1483] Saver not created because there are no variables in the graph to restore\n",
      " 14%|█▍        | 216/1561 [3:21:39<59:47:43, 160.05s/it]"
     ]
    },
    {
     "name": "stdout",
     "output_type": "stream",
     "text": [
      "INFO:tensorflow:Saver not created because there are no variables in the graph to restore\n"
     ]
    },
    {
     "name": "stderr",
     "output_type": "stream",
     "text": [
      "I1017 04:31:06.625866 4705195456 saver.py:1483] Saver not created because there are no variables in the graph to restore\n",
      " 14%|█▍        | 217/1561 [3:24:18<59:38:42, 159.76s/it]"
     ]
    },
    {
     "name": "stdout",
     "output_type": "stream",
     "text": [
      "INFO:tensorflow:Saver not created because there are no variables in the graph to restore\n"
     ]
    },
    {
     "name": "stderr",
     "output_type": "stream",
     "text": [
      "I1017 04:33:43.675909 4705195456 saver.py:1483] Saver not created because there are no variables in the graph to restore\n",
      " 14%|█▍        | 218/1561 [3:26:46<58:15:03, 156.15s/it]"
     ]
    },
    {
     "name": "stdout",
     "output_type": "stream",
     "text": [
      "INFO:tensorflow:Saver not created because there are no variables in the graph to restore\n"
     ]
    },
    {
     "name": "stderr",
     "output_type": "stream",
     "text": [
      "I1017 04:36:12.186276 4705195456 saver.py:1483] Saver not created because there are no variables in the graph to restore\n",
      " 14%|█▍        | 219/1561 [3:29:14<57:19:26, 153.78s/it]"
     ]
    },
    {
     "name": "stdout",
     "output_type": "stream",
     "text": [
      "INFO:tensorflow:Saver not created because there are no variables in the graph to restore\n"
     ]
    },
    {
     "name": "stderr",
     "output_type": "stream",
     "text": [
      "I1017 04:38:39.169770 4705195456 saver.py:1483] Saver not created because there are no variables in the graph to restore\n",
      " 14%|█▍        | 220/1561 [3:31:42<56:36:33, 151.97s/it]"
     ]
    },
    {
     "name": "stdout",
     "output_type": "stream",
     "text": [
      "INFO:tensorflow:Saver not created because there are no variables in the graph to restore\n"
     ]
    },
    {
     "name": "stderr",
     "output_type": "stream",
     "text": [
      "I1017 04:41:07.510671 4705195456 saver.py:1483] Saver not created because there are no variables in the graph to restore\n",
      " 14%|█▍        | 221/1561 [3:34:19<57:08:33, 153.52s/it]"
     ]
    },
    {
     "name": "stdout",
     "output_type": "stream",
     "text": [
      "INFO:tensorflow:Saver not created because there are no variables in the graph to restore\n"
     ]
    },
    {
     "name": "stderr",
     "output_type": "stream",
     "text": [
      "I1017 04:43:45.543133 4705195456 saver.py:1483] Saver not created because there are no variables in the graph to restore\n",
      " 14%|█▍        | 222/1561 [3:37:04<58:22:30, 156.95s/it]"
     ]
    },
    {
     "name": "stdout",
     "output_type": "stream",
     "text": [
      "INFO:tensorflow:Saver not created because there are no variables in the graph to restore\n"
     ]
    },
    {
     "name": "stderr",
     "output_type": "stream",
     "text": [
      "I1017 04:46:29.844991 4705195456 saver.py:1483] Saver not created because there are no variables in the graph to restore\n",
      " 14%|█▍        | 223/1561 [3:39:38<58:00:07, 156.06s/it]"
     ]
    },
    {
     "name": "stdout",
     "output_type": "stream",
     "text": [
      "INFO:tensorflow:Saver not created because there are no variables in the graph to restore\n"
     ]
    },
    {
     "name": "stderr",
     "output_type": "stream",
     "text": [
      "I1017 04:49:04.969733 4705195456 saver.py:1483] Saver not created because there are no variables in the graph to restore\n",
      " 14%|█▍        | 224/1561 [3:42:11<57:38:12, 155.19s/it]"
     ]
    },
    {
     "name": "stdout",
     "output_type": "stream",
     "text": [
      "INFO:tensorflow:Saver not created because there are no variables in the graph to restore\n"
     ]
    },
    {
     "name": "stderr",
     "output_type": "stream",
     "text": [
      "I1017 04:51:38.195584 4705195456 saver.py:1483] Saver not created because there are no variables in the graph to restore\n",
      " 14%|█▍        | 225/1561 [3:44:39<56:45:02, 152.92s/it]"
     ]
    },
    {
     "name": "stdout",
     "output_type": "stream",
     "text": [
      "INFO:tensorflow:Saver not created because there are no variables in the graph to restore\n"
     ]
    },
    {
     "name": "stderr",
     "output_type": "stream",
     "text": [
      "I1017 04:54:03.290796 4705195456 saver.py:1483] Saver not created because there are no variables in the graph to restore\n",
      " 14%|█▍        | 226/1561 [3:47:16<57:13:21, 154.31s/it]"
     ]
    },
    {
     "name": "stdout",
     "output_type": "stream",
     "text": [
      "INFO:tensorflow:Saver not created because there are no variables in the graph to restore\n"
     ]
    },
    {
     "name": "stderr",
     "output_type": "stream",
     "text": [
      "I1017 04:56:42.320636 4705195456 saver.py:1483] Saver not created because there are no variables in the graph to restore\n",
      " 15%|█▍        | 227/1561 [3:49:50<57:10:33, 154.30s/it]"
     ]
    },
    {
     "name": "stdout",
     "output_type": "stream",
     "text": [
      "INFO:tensorflow:Saver not created because there are no variables in the graph to restore\n"
     ]
    },
    {
     "name": "stderr",
     "output_type": "stream",
     "text": [
      "I1017 04:59:15.585047 4705195456 saver.py:1483] Saver not created because there are no variables in the graph to restore\n",
      " 15%|█▍        | 228/1561 [3:52:26<57:17:59, 154.75s/it]"
     ]
    },
    {
     "name": "stdout",
     "output_type": "stream",
     "text": [
      "INFO:tensorflow:Saver not created because there are no variables in the graph to restore\n"
     ]
    },
    {
     "name": "stderr",
     "output_type": "stream",
     "text": [
      "I1017 05:01:52.835371 4705195456 saver.py:1483] Saver not created because there are no variables in the graph to restore\n",
      " 15%|█▍        | 229/1561 [3:55:00<57:11:22, 154.57s/it]"
     ]
    },
    {
     "name": "stdout",
     "output_type": "stream",
     "text": [
      "INFO:tensorflow:Saver not created because there are no variables in the graph to restore\n"
     ]
    },
    {
     "name": "stderr",
     "output_type": "stream",
     "text": [
      "I1017 05:04:22.936052 4705195456 saver.py:1483] Saver not created because there are no variables in the graph to restore\n",
      " 15%|█▍        | 230/1561 [3:57:37<57:21:12, 155.13s/it]"
     ]
    },
    {
     "name": "stdout",
     "output_type": "stream",
     "text": [
      "INFO:tensorflow:Saver not created because there are no variables in the graph to restore\n"
     ]
    },
    {
     "name": "stderr",
     "output_type": "stream",
     "text": [
      "I1017 05:07:02.591119 4705195456 saver.py:1483] Saver not created because there are no variables in the graph to restore\n",
      " 15%|█▍        | 231/1561 [4:00:32<59:29:44, 161.04s/it]"
     ]
    },
    {
     "name": "stdout",
     "output_type": "stream",
     "text": [
      "INFO:tensorflow:Saver not created because there are no variables in the graph to restore\n"
     ]
    },
    {
     "name": "stderr",
     "output_type": "stream",
     "text": [
      "I1017 05:09:57.322800 4705195456 saver.py:1483] Saver not created because there are no variables in the graph to restore\n",
      " 15%|█▍        | 232/1561 [4:03:19<60:09:01, 162.94s/it]"
     ]
    },
    {
     "name": "stdout",
     "output_type": "stream",
     "text": [
      "INFO:tensorflow:Saver not created because there are no variables in the graph to restore\n"
     ]
    },
    {
     "name": "stderr",
     "output_type": "stream",
     "text": [
      "I1017 05:12:47.204819 4705195456 saver.py:1483] Saver not created because there are no variables in the graph to restore\n",
      " 15%|█▍        | 233/1561 [4:06:06<60:34:41, 164.22s/it]"
     ]
    },
    {
     "name": "stdout",
     "output_type": "stream",
     "text": [
      "INFO:tensorflow:Saver not created because there are no variables in the graph to restore\n"
     ]
    },
    {
     "name": "stderr",
     "output_type": "stream",
     "text": [
      "I1017 05:15:31.613308 4705195456 saver.py:1483] Saver not created because there are no variables in the graph to restore\n",
      " 15%|█▍        | 234/1561 [4:08:47<60:08:30, 163.16s/it]"
     ]
    },
    {
     "name": "stdout",
     "output_type": "stream",
     "text": [
      "INFO:tensorflow:Saver not created because there are no variables in the graph to restore\n"
     ]
    },
    {
     "name": "stderr",
     "output_type": "stream",
     "text": [
      "I1017 05:18:09.732495 4705195456 saver.py:1483] Saver not created because there are no variables in the graph to restore\n",
      " 15%|█▌        | 235/1561 [4:11:39<61:04:13, 165.80s/it]"
     ]
    },
    {
     "name": "stdout",
     "output_type": "stream",
     "text": [
      "INFO:tensorflow:Saver not created because there are no variables in the graph to restore\n"
     ]
    },
    {
     "name": "stderr",
     "output_type": "stream",
     "text": [
      "I1017 05:21:06.986425 4705195456 saver.py:1483] Saver not created because there are no variables in the graph to restore\n",
      " 15%|█▌        | 236/1561 [4:14:42<62:53:15, 170.86s/it]"
     ]
    },
    {
     "name": "stdout",
     "output_type": "stream",
     "text": [
      "INFO:tensorflow:Saver not created because there are no variables in the graph to restore\n"
     ]
    },
    {
     "name": "stderr",
     "output_type": "stream",
     "text": [
      "I1017 05:24:08.855427 4705195456 saver.py:1483] Saver not created because there are no variables in the graph to restore\n",
      " 15%|█▌        | 237/1561 [4:17:38<63:27:02, 172.52s/it]"
     ]
    },
    {
     "name": "stdout",
     "output_type": "stream",
     "text": [
      "INFO:tensorflow:Saver not created because there are no variables in the graph to restore\n"
     ]
    },
    {
     "name": "stderr",
     "output_type": "stream",
     "text": [
      "I1017 05:27:04.737274 4705195456 saver.py:1483] Saver not created because there are no variables in the graph to restore\n",
      " 15%|█▌        | 238/1561 [4:20:29<63:17:19, 172.21s/it]"
     ]
    },
    {
     "name": "stdout",
     "output_type": "stream",
     "text": [
      "INFO:tensorflow:Saver not created because there are no variables in the graph to restore\n"
     ]
    },
    {
     "name": "stderr",
     "output_type": "stream",
     "text": [
      "I1017 05:29:55.140383 4705195456 saver.py:1483] Saver not created because there are no variables in the graph to restore\n",
      " 15%|█▌        | 239/1561 [4:23:25<63:34:01, 173.10s/it]"
     ]
    },
    {
     "name": "stdout",
     "output_type": "stream",
     "text": [
      "INFO:tensorflow:Saver not created because there are no variables in the graph to restore\n"
     ]
    },
    {
     "name": "stderr",
     "output_type": "stream",
     "text": [
      "I1017 05:32:50.485221 4705195456 saver.py:1483] Saver not created because there are no variables in the graph to restore\n",
      " 15%|█▌        | 240/1561 [4:26:17<63:25:50, 172.86s/it]"
     ]
    },
    {
     "name": "stdout",
     "output_type": "stream",
     "text": [
      "INFO:tensorflow:Saver not created because there are no variables in the graph to restore\n"
     ]
    },
    {
     "name": "stderr",
     "output_type": "stream",
     "text": [
      "I1017 05:35:42.524685 4705195456 saver.py:1483] Saver not created because there are no variables in the graph to restore\n",
      " 15%|█▌        | 241/1561 [4:29:06<62:54:57, 171.59s/it]"
     ]
    },
    {
     "name": "stdout",
     "output_type": "stream",
     "text": [
      "INFO:tensorflow:Saver not created because there are no variables in the graph to restore\n"
     ]
    },
    {
     "name": "stderr",
     "output_type": "stream",
     "text": [
      "I1017 05:38:28.237076 4705195456 saver.py:1483] Saver not created because there are no variables in the graph to restore\n",
      " 16%|█▌        | 242/1561 [4:31:53<62:27:45, 170.48s/it]"
     ]
    },
    {
     "name": "stdout",
     "output_type": "stream",
     "text": [
      "INFO:tensorflow:Saver not created because there are no variables in the graph to restore\n"
     ]
    },
    {
     "name": "stderr",
     "output_type": "stream",
     "text": [
      "I1017 05:41:16.270179 4705195456 saver.py:1483] Saver not created because there are no variables in the graph to restore\n",
      " 16%|█▌        | 243/1561 [4:34:48<62:51:11, 171.68s/it]"
     ]
    },
    {
     "name": "stdout",
     "output_type": "stream",
     "text": [
      "INFO:tensorflow:Saver not created because there are no variables in the graph to restore\n"
     ]
    },
    {
     "name": "stderr",
     "output_type": "stream",
     "text": [
      "I1017 05:44:14.719912 4705195456 saver.py:1483] Saver not created because there are no variables in the graph to restore\n",
      " 16%|█▌        | 244/1561 [4:37:50<63:58:07, 174.86s/it]"
     ]
    },
    {
     "name": "stdout",
     "output_type": "stream",
     "text": [
      "INFO:tensorflow:Saver not created because there are no variables in the graph to restore\n"
     ]
    },
    {
     "name": "stderr",
     "output_type": "stream",
     "text": [
      "I1017 05:47:16.545759 4705195456 saver.py:1483] Saver not created because there are no variables in the graph to restore\n",
      " 16%|█▌        | 245/1561 [4:40:57<65:13:54, 178.45s/it]"
     ]
    },
    {
     "name": "stdout",
     "output_type": "stream",
     "text": [
      "INFO:tensorflow:Saver not created because there are no variables in the graph to restore\n"
     ]
    },
    {
     "name": "stderr",
     "output_type": "stream",
     "text": [
      "I1017 05:50:23.068037 4705195456 saver.py:1483] Saver not created because there are no variables in the graph to restore\n",
      " 16%|█▌        | 246/1561 [4:43:55<65:09:24, 178.38s/it]"
     ]
    },
    {
     "name": "stdout",
     "output_type": "stream",
     "text": [
      "INFO:tensorflow:Saver not created because there are no variables in the graph to restore\n"
     ]
    },
    {
     "name": "stderr",
     "output_type": "stream",
     "text": [
      "I1017 05:53:23.292510 4705195456 saver.py:1483] Saver not created because there are no variables in the graph to restore\n",
      " 16%|█▌        | 247/1561 [4:47:02<65:58:29, 180.75s/it]"
     ]
    },
    {
     "name": "stdout",
     "output_type": "stream",
     "text": [
      "INFO:tensorflow:Saver not created because there are no variables in the graph to restore\n"
     ]
    },
    {
     "name": "stderr",
     "output_type": "stream",
     "text": [
      "I1017 05:56:27.966110 4705195456 saver.py:1483] Saver not created because there are no variables in the graph to restore\n",
      " 16%|█▌        | 248/1561 [4:50:15<67:20:07, 184.62s/it]"
     ]
    },
    {
     "name": "stdout",
     "output_type": "stream",
     "text": [
      "INFO:tensorflow:Saver not created because there are no variables in the graph to restore\n"
     ]
    },
    {
     "name": "stderr",
     "output_type": "stream",
     "text": [
      "I1017 05:59:42.315392 4705195456 saver.py:1483] Saver not created because there are no variables in the graph to restore\n",
      " 16%|█▌        | 249/1561 [4:53:27<68:04:26, 186.79s/it]"
     ]
    },
    {
     "name": "stdout",
     "output_type": "stream",
     "text": [
      "INFO:tensorflow:Saver not created because there are no variables in the graph to restore\n"
     ]
    },
    {
     "name": "stderr",
     "output_type": "stream",
     "text": [
      "I1017 06:02:53.973091 4705195456 saver.py:1483] Saver not created because there are no variables in the graph to restore\n",
      " 16%|█▌        | 250/1561 [4:56:47<69:30:35, 190.87s/it]"
     ]
    },
    {
     "name": "stdout",
     "output_type": "stream",
     "text": [
      "INFO:tensorflow:Saver not created because there are no variables in the graph to restore\n"
     ]
    },
    {
     "name": "stderr",
     "output_type": "stream",
     "text": [
      "I1017 06:06:16.989248 4705195456 saver.py:1483] Saver not created because there are no variables in the graph to restore\n",
      " 16%|█▌        | 251/1561 [5:00:26<72:29:27, 199.21s/it]"
     ]
    },
    {
     "name": "stdout",
     "output_type": "stream",
     "text": [
      "INFO:tensorflow:Saver not created because there are no variables in the graph to restore\n"
     ]
    },
    {
     "name": "stderr",
     "output_type": "stream",
     "text": [
      "I1017 06:09:53.511845 4705195456 saver.py:1483] Saver not created because there are no variables in the graph to restore\n",
      " 16%|█▌        | 252/1561 [5:03:41<71:55:07, 197.79s/it]"
     ]
    },
    {
     "name": "stdout",
     "output_type": "stream",
     "text": [
      "INFO:tensorflow:Saver not created because there are no variables in the graph to restore\n"
     ]
    },
    {
     "name": "stderr",
     "output_type": "stream",
     "text": [
      "I1017 06:13:08.628798 4705195456 saver.py:1483] Saver not created because there are no variables in the graph to restore\n",
      " 16%|█▌        | 253/1561 [5:06:56<71:37:40, 197.14s/it]"
     ]
    },
    {
     "name": "stdout",
     "output_type": "stream",
     "text": [
      "INFO:tensorflow:Saver not created because there are no variables in the graph to restore\n"
     ]
    },
    {
     "name": "stderr",
     "output_type": "stream",
     "text": [
      "I1017 06:16:22.083120 4705195456 saver.py:1483] Saver not created because there are no variables in the graph to restore\n",
      " 16%|█▋        | 254/1561 [5:10:08<70:58:38, 195.50s/it]"
     ]
    },
    {
     "name": "stdout",
     "output_type": "stream",
     "text": [
      "INFO:tensorflow:Saver not created because there are no variables in the graph to restore\n"
     ]
    },
    {
     "name": "stderr",
     "output_type": "stream",
     "text": [
      "I1017 06:19:33.685004 4705195456 saver.py:1483] Saver not created because there are no variables in the graph to restore\n",
      " 16%|█▋        | 255/1561 [5:13:18<70:23:03, 194.02s/it]"
     ]
    },
    {
     "name": "stdout",
     "output_type": "stream",
     "text": [
      "INFO:tensorflow:Saver not created because there are no variables in the graph to restore\n"
     ]
    },
    {
     "name": "stderr",
     "output_type": "stream",
     "text": [
      "I1017 06:22:45.496870 4705195456 saver.py:1483] Saver not created because there are no variables in the graph to restore\n",
      " 16%|█▋        | 256/1561 [5:16:42<71:24:16, 196.98s/it]"
     ]
    },
    {
     "name": "stdout",
     "output_type": "stream",
     "text": [
      "INFO:tensorflow:Saver not created because there are no variables in the graph to restore\n"
     ]
    },
    {
     "name": "stderr",
     "output_type": "stream",
     "text": [
      "I1017 06:26:08.516841 4705195456 saver.py:1483] Saver not created because there are no variables in the graph to restore\n",
      " 16%|█▋        | 257/1561 [5:20:01<71:33:46, 197.57s/it]"
     ]
    },
    {
     "name": "stdout",
     "output_type": "stream",
     "text": [
      "INFO:tensorflow:Saver not created because there are no variables in the graph to restore\n"
     ]
    },
    {
     "name": "stderr",
     "output_type": "stream",
     "text": [
      "I1017 06:29:28.444926 4705195456 saver.py:1483] Saver not created because there are no variables in the graph to restore\n",
      " 17%|█▋        | 258/1561 [5:23:23<72:00:40, 198.96s/it]"
     ]
    },
    {
     "name": "stdout",
     "output_type": "stream",
     "text": [
      "INFO:tensorflow:Saver not created because there are no variables in the graph to restore\n"
     ]
    },
    {
     "name": "stderr",
     "output_type": "stream",
     "text": [
      "I1017 06:32:51.480484 4705195456 saver.py:1483] Saver not created because there are no variables in the graph to restore\n",
      " 17%|█▋        | 259/1561 [5:26:53<73:07:07, 202.17s/it]"
     ]
    },
    {
     "name": "stdout",
     "output_type": "stream",
     "text": [
      "INFO:tensorflow:Saver not created because there are no variables in the graph to restore\n"
     ]
    },
    {
     "name": "stderr",
     "output_type": "stream",
     "text": [
      "I1017 06:36:20.139066 4705195456 saver.py:1483] Saver not created because there are no variables in the graph to restore\n",
      " 17%|█▋        | 260/1561 [5:30:18<73:20:39, 202.95s/it]"
     ]
    },
    {
     "name": "stdout",
     "output_type": "stream",
     "text": [
      "INFO:tensorflow:Saver not created because there are no variables in the graph to restore\n"
     ]
    },
    {
     "name": "stderr",
     "output_type": "stream",
     "text": [
      "I1017 06:39:44.459209 4705195456 saver.py:1483] Saver not created because there are no variables in the graph to restore\n",
      " 17%|█▋        | 261/1561 [5:33:42<73:24:47, 203.30s/it]"
     ]
    },
    {
     "name": "stdout",
     "output_type": "stream",
     "text": [
      "INFO:tensorflow:Saver not created because there are no variables in the graph to restore\n"
     ]
    },
    {
     "name": "stderr",
     "output_type": "stream",
     "text": [
      "I1017 06:43:09.233115 4705195456 saver.py:1483] Saver not created because there are no variables in the graph to restore\n",
      " 17%|█▋        | 262/1561 [5:37:24<75:22:27, 208.89s/it]"
     ]
    },
    {
     "name": "stdout",
     "output_type": "stream",
     "text": [
      "INFO:tensorflow:Saver not created because there are no variables in the graph to restore\n"
     ]
    },
    {
     "name": "stderr",
     "output_type": "stream",
     "text": [
      "I1017 06:46:51.538528 4705195456 saver.py:1483] Saver not created because there are no variables in the graph to restore\n",
      " 17%|█▋        | 263/1561 [5:41:07<76:50:55, 213.14s/it]"
     ]
    },
    {
     "name": "stdout",
     "output_type": "stream",
     "text": [
      "INFO:tensorflow:Saver not created because there are no variables in the graph to restore\n"
     ]
    },
    {
     "name": "stderr",
     "output_type": "stream",
     "text": [
      "I1017 06:50:33.999459 4705195456 saver.py:1483] Saver not created because there are no variables in the graph to restore\n",
      " 17%|█▋        | 264/1561 [5:44:35<76:13:53, 211.59s/it]"
     ]
    },
    {
     "name": "stdout",
     "output_type": "stream",
     "text": [
      "INFO:tensorflow:Saver not created because there are no variables in the graph to restore\n"
     ]
    },
    {
     "name": "stderr",
     "output_type": "stream",
     "text": [
      "I1017 06:54:01.784595 4705195456 saver.py:1483] Saver not created because there are no variables in the graph to restore\n",
      " 17%|█▋        | 265/1561 [5:48:23<77:55:15, 216.45s/it]"
     ]
    },
    {
     "name": "stdout",
     "output_type": "stream",
     "text": [
      "INFO:tensorflow:Saver not created because there are no variables in the graph to restore\n"
     ]
    },
    {
     "name": "stderr",
     "output_type": "stream",
     "text": [
      "I1017 06:57:51.779916 4705195456 saver.py:1483] Saver not created because there are no variables in the graph to restore\n",
      " 17%|█▋        | 266/1561 [5:52:08<78:47:04, 219.02s/it]"
     ]
    },
    {
     "name": "stdout",
     "output_type": "stream",
     "text": [
      "INFO:tensorflow:Saver not created because there are no variables in the graph to restore\n"
     ]
    },
    {
     "name": "stderr",
     "output_type": "stream",
     "text": [
      "I1017 07:01:35.424688 4705195456 saver.py:1483] Saver not created because there are no variables in the graph to restore\n",
      " 17%|█▋        | 267/1561 [5:55:36<77:32:29, 215.73s/it]"
     ]
    },
    {
     "name": "stdout",
     "output_type": "stream",
     "text": [
      "INFO:tensorflow:Saver not created because there are no variables in the graph to restore\n"
     ]
    },
    {
     "name": "stderr",
     "output_type": "stream",
     "text": [
      "I1017 07:05:03.059260 4705195456 saver.py:1483] Saver not created because there are no variables in the graph to restore\n",
      " 17%|█▋        | 268/1561 [5:59:10<77:20:38, 215.34s/it]"
     ]
    },
    {
     "name": "stdout",
     "output_type": "stream",
     "text": [
      "INFO:tensorflow:Saver not created because there are no variables in the graph to restore\n"
     ]
    },
    {
     "name": "stderr",
     "output_type": "stream",
     "text": [
      "I1017 07:08:39.335760 4705195456 saver.py:1483] Saver not created because there are no variables in the graph to restore\n",
      " 17%|█▋        | 269/1561 [6:03:00<78:52:38, 219.78s/it]"
     ]
    },
    {
     "name": "stdout",
     "output_type": "stream",
     "text": [
      "INFO:tensorflow:Saver not created because there are no variables in the graph to restore\n"
     ]
    },
    {
     "name": "stderr",
     "output_type": "stream",
     "text": [
      "I1017 07:12:28.096940 4705195456 saver.py:1483] Saver not created because there are no variables in the graph to restore\n",
      " 17%|█▋        | 270/1561 [6:06:50<79:51:50, 222.70s/it]"
     ]
    },
    {
     "name": "stdout",
     "output_type": "stream",
     "text": [
      "INFO:tensorflow:Saver not created because there are no variables in the graph to restore\n"
     ]
    },
    {
     "name": "stderr",
     "output_type": "stream",
     "text": [
      "I1017 07:16:18.078824 4705195456 saver.py:1483] Saver not created because there are no variables in the graph to restore\n",
      " 17%|█▋        | 271/1561 [6:10:38<80:24:34, 224.40s/it]"
     ]
    },
    {
     "name": "stdout",
     "output_type": "stream",
     "text": [
      "INFO:tensorflow:Saver not created because there are no variables in the graph to restore\n"
     ]
    },
    {
     "name": "stderr",
     "output_type": "stream",
     "text": [
      "I1017 07:21:36.677577 4705195456 saver.py:1483] Saver not created because there are no variables in the graph to restore\n",
      " 17%|█▋        | 272/1561 [6:16:05<91:22:24, 255.19s/it]"
     ]
    },
    {
     "name": "stdout",
     "output_type": "stream",
     "text": [
      "INFO:tensorflow:Saver not created because there are no variables in the graph to restore\n"
     ]
    },
    {
     "name": "stderr",
     "output_type": "stream",
     "text": [
      "I1017 07:25:36.842195 4705195456 saver.py:1483] Saver not created because there are no variables in the graph to restore\n",
      " 17%|█▋        | 273/1561 [6:20:06<89:47:56, 250.99s/it]"
     ]
    },
    {
     "name": "stdout",
     "output_type": "stream",
     "text": [
      "INFO:tensorflow:Saver not created because there are no variables in the graph to restore\n"
     ]
    },
    {
     "name": "stderr",
     "output_type": "stream",
     "text": [
      "I1017 07:29:36.782364 4705195456 saver.py:1483] Saver not created because there are no variables in the graph to restore\n",
      " 18%|█▊        | 274/1561 [6:24:15<89:25:58, 250.16s/it]"
     ]
    },
    {
     "name": "stdout",
     "output_type": "stream",
     "text": [
      "INFO:tensorflow:Saver not created because there are no variables in the graph to restore\n"
     ]
    },
    {
     "name": "stderr",
     "output_type": "stream",
     "text": [
      "I1017 07:33:43.428229 4705195456 saver.py:1483] Saver not created because there are no variables in the graph to restore\n",
      " 18%|█▊        | 275/1561 [6:28:15<88:19:48, 247.27s/it]"
     ]
    },
    {
     "name": "stdout",
     "output_type": "stream",
     "text": [
      "INFO:tensorflow:Saver not created because there are no variables in the graph to restore\n"
     ]
    },
    {
     "name": "stderr",
     "output_type": "stream",
     "text": [
      "I1017 07:37:42.576953 4705195456 saver.py:1483] Saver not created because there are no variables in the graph to restore\n",
      " 18%|█▊        | 276/1561 [6:32:05<86:20:05, 241.87s/it]"
     ]
    },
    {
     "name": "stdout",
     "output_type": "stream",
     "text": [
      "INFO:tensorflow:Saver not created because there are no variables in the graph to restore\n"
     ]
    },
    {
     "name": "stderr",
     "output_type": "stream",
     "text": [
      "I1017 07:41:32.471758 4705195456 saver.py:1483] Saver not created because there are no variables in the graph to restore\n",
      " 18%|█▊        | 277/1561 [6:36:07<86:22:37, 242.18s/it]"
     ]
    },
    {
     "name": "stdout",
     "output_type": "stream",
     "text": [
      "INFO:tensorflow:Saver not created because there are no variables in the graph to restore\n"
     ]
    },
    {
     "name": "stderr",
     "output_type": "stream",
     "text": [
      "I1017 07:45:36.337597 4705195456 saver.py:1483] Saver not created because there are no variables in the graph to restore\n",
      " 18%|█▊        | 278/1561 [6:40:02<85:31:57, 240.00s/it]"
     ]
    },
    {
     "name": "stdout",
     "output_type": "stream",
     "text": [
      "INFO:tensorflow:Saver not created because there are no variables in the graph to restore\n"
     ]
    },
    {
     "name": "stderr",
     "output_type": "stream",
     "text": [
      "I1017 07:49:30.566053 4705195456 saver.py:1483] Saver not created because there are no variables in the graph to restore\n",
      " 18%|█▊        | 279/1561 [6:44:19<87:14:41, 244.99s/it]"
     ]
    },
    {
     "name": "stdout",
     "output_type": "stream",
     "text": [
      "INFO:tensorflow:Saver not created because there are no variables in the graph to restore\n"
     ]
    },
    {
     "name": "stderr",
     "output_type": "stream",
     "text": [
      "I1017 07:53:48.445256 4705195456 saver.py:1483] Saver not created because there are no variables in the graph to restore\n",
      " 18%|█▊        | 280/1561 [6:48:24<87:09:54, 244.96s/it]"
     ]
    },
    {
     "name": "stdout",
     "output_type": "stream",
     "text": [
      "INFO:tensorflow:Saver not created because there are no variables in the graph to restore\n"
     ]
    },
    {
     "name": "stderr",
     "output_type": "stream",
     "text": [
      "I1017 07:57:51.971807 4705195456 saver.py:1483] Saver not created because there are no variables in the graph to restore\n",
      " 18%|█▊        | 281/1561 [6:52:44<88:41:20, 249.44s/it]"
     ]
    },
    {
     "name": "stdout",
     "output_type": "stream",
     "text": [
      "INFO:tensorflow:Saver not created because there are no variables in the graph to restore\n"
     ]
    },
    {
     "name": "stderr",
     "output_type": "stream",
     "text": [
      "I1017 08:02:13.032275 4705195456 saver.py:1483] Saver not created because there are no variables in the graph to restore\n",
      " 18%|█▊        | 282/1561 [6:56:44<87:37:45, 246.65s/it]"
     ]
    },
    {
     "name": "stdout",
     "output_type": "stream",
     "text": [
      "INFO:tensorflow:Saver not created because there are no variables in the graph to restore\n"
     ]
    },
    {
     "name": "stderr",
     "output_type": "stream",
     "text": [
      "I1017 08:06:12.680893 4705195456 saver.py:1483] Saver not created because there are no variables in the graph to restore\n",
      " 18%|█▊        | 283/1561 [7:00:49<87:23:30, 246.17s/it]"
     ]
    },
    {
     "name": "stdout",
     "output_type": "stream",
     "text": [
      "INFO:tensorflow:Saver not created because there are no variables in the graph to restore\n"
     ]
    },
    {
     "name": "stderr",
     "output_type": "stream",
     "text": [
      "I1017 08:10:16.463780 4705195456 saver.py:1483] Saver not created because there are no variables in the graph to restore\n",
      " 18%|█▊        | 284/1561 [7:04:53<87:05:27, 245.52s/it]"
     ]
    },
    {
     "name": "stdout",
     "output_type": "stream",
     "text": [
      "INFO:tensorflow:Saver not created because there are no variables in the graph to restore\n"
     ]
    },
    {
     "name": "stderr",
     "output_type": "stream",
     "text": [
      "I1017 08:14:21.480741 4705195456 saver.py:1483] Saver not created because there are no variables in the graph to restore\n",
      " 18%|█▊        | 285/1561 [7:09:03<87:28:17, 246.79s/it]"
     ]
    },
    {
     "name": "stdout",
     "output_type": "stream",
     "text": [
      "INFO:tensorflow:Saver not created because there are no variables in the graph to restore\n"
     ]
    },
    {
     "name": "stderr",
     "output_type": "stream",
     "text": [
      "I1017 08:18:31.262419 4705195456 saver.py:1483] Saver not created because there are no variables in the graph to restore\n",
      " 18%|█▊        | 286/1561 [7:13:23<88:48:37, 250.76s/it]"
     ]
    },
    {
     "name": "stdout",
     "output_type": "stream",
     "text": [
      "INFO:tensorflow:Saver not created because there are no variables in the graph to restore\n"
     ]
    },
    {
     "name": "stderr",
     "output_type": "stream",
     "text": [
      "I1017 08:22:51.883968 4705195456 saver.py:1483] Saver not created because there are no variables in the graph to restore\n",
      " 18%|█▊        | 287/1561 [7:17:41<89:32:32, 253.02s/it]"
     ]
    },
    {
     "name": "stdout",
     "output_type": "stream",
     "text": [
      "INFO:tensorflow:Saver not created because there are no variables in the graph to restore\n"
     ]
    },
    {
     "name": "stderr",
     "output_type": "stream",
     "text": [
      "I1017 08:27:10.079943 4705195456 saver.py:1483] Saver not created because there are no variables in the graph to restore\n",
      " 18%|█▊        | 288/1561 [7:22:03<90:26:10, 255.75s/it]"
     ]
    },
    {
     "name": "stdout",
     "output_type": "stream",
     "text": [
      "INFO:tensorflow:Saver not created because there are no variables in the graph to restore\n"
     ]
    },
    {
     "name": "stderr",
     "output_type": "stream",
     "text": [
      "I1017 08:31:31.968750 4705195456 saver.py:1483] Saver not created because there are no variables in the graph to restore\n",
      " 19%|█▊        | 289/1561 [7:26:20<90:29:10, 256.09s/it]"
     ]
    },
    {
     "name": "stdout",
     "output_type": "stream",
     "text": [
      "INFO:tensorflow:Saver not created because there are no variables in the graph to restore\n"
     ]
    },
    {
     "name": "stderr",
     "output_type": "stream",
     "text": [
      "I1017 08:35:47.492686 4705195456 saver.py:1483] Saver not created because there are no variables in the graph to restore\n",
      " 19%|█▊        | 290/1561 [7:30:34<90:09:13, 255.35s/it]"
     ]
    },
    {
     "name": "stdout",
     "output_type": "stream",
     "text": [
      "INFO:tensorflow:Saver not created because there are no variables in the graph to restore\n"
     ]
    },
    {
     "name": "stderr",
     "output_type": "stream",
     "text": [
      "I1017 08:40:02.736685 4705195456 saver.py:1483] Saver not created because there are no variables in the graph to restore\n",
      " 19%|█▊        | 291/1561 [7:35:18<93:09:21, 264.06s/it]"
     ]
    },
    {
     "name": "stdout",
     "output_type": "stream",
     "text": [
      "INFO:tensorflow:Saver not created because there are no variables in the graph to restore\n"
     ]
    },
    {
     "name": "stderr",
     "output_type": "stream",
     "text": [
      "I1017 08:44:48.589552 4705195456 saver.py:1483] Saver not created because there are no variables in the graph to restore\n",
      " 19%|█▊        | 292/1561 [7:39:54<94:23:16, 267.77s/it]"
     ]
    },
    {
     "name": "stdout",
     "output_type": "stream",
     "text": [
      "INFO:tensorflow:Saver not created because there are no variables in the graph to restore\n"
     ]
    },
    {
     "name": "stderr",
     "output_type": "stream",
     "text": [
      "I1017 08:49:24.584493 4705195456 saver.py:1483] Saver not created because there are no variables in the graph to restore\n",
      " 19%|█▉        | 293/1561 [7:44:22<94:19:18, 267.79s/it]"
     ]
    },
    {
     "name": "stdout",
     "output_type": "stream",
     "text": [
      "INFO:tensorflow:Saver not created because there are no variables in the graph to restore\n"
     ]
    },
    {
     "name": "stderr",
     "output_type": "stream",
     "text": [
      "I1017 08:53:51.129601 4705195456 saver.py:1483] Saver not created because there are no variables in the graph to restore\n",
      " 19%|█▉        | 294/1561 [7:48:49<94:07:15, 267.43s/it]"
     ]
    },
    {
     "name": "stdout",
     "output_type": "stream",
     "text": [
      "INFO:tensorflow:Saver not created because there are no variables in the graph to restore\n"
     ]
    },
    {
     "name": "stderr",
     "output_type": "stream",
     "text": [
      "I1017 08:58:16.901764 4705195456 saver.py:1483] Saver not created because there are no variables in the graph to restore\n",
      " 19%|█▉        | 295/1561 [7:53:15<93:52:16, 266.93s/it]"
     ]
    },
    {
     "name": "stdout",
     "output_type": "stream",
     "text": [
      "INFO:tensorflow:Saver not created because there are no variables in the graph to restore\n"
     ]
    },
    {
     "name": "stderr",
     "output_type": "stream",
     "text": [
      "I1017 09:02:42.230699 4705195456 saver.py:1483] Saver not created because there are no variables in the graph to restore\n",
      " 19%|█▉        | 296/1561 [7:57:52<94:52:39, 270.01s/it]"
     ]
    },
    {
     "name": "stdout",
     "output_type": "stream",
     "text": [
      "INFO:tensorflow:Saver not created because there are no variables in the graph to restore\n"
     ]
    },
    {
     "name": "stderr",
     "output_type": "stream",
     "text": [
      "I1017 09:07:21.260458 4705195456 saver.py:1483] Saver not created because there are no variables in the graph to restore\n",
      " 19%|█▉        | 297/1561 [8:02:41<96:49:52, 275.78s/it]"
     ]
    },
    {
     "name": "stdout",
     "output_type": "stream",
     "text": [
      "INFO:tensorflow:Saver not created because there are no variables in the graph to restore\n"
     ]
    },
    {
     "name": "stderr",
     "output_type": "stream",
     "text": [
      "I1017 09:12:10.985331 4705195456 saver.py:1483] Saver not created because there are no variables in the graph to restore\n",
      " 19%|█▉        | 298/1561 [8:07:11<96:07:01, 273.97s/it]"
     ]
    },
    {
     "name": "stdout",
     "output_type": "stream",
     "text": [
      "INFO:tensorflow:Saver not created because there are no variables in the graph to restore\n"
     ]
    },
    {
     "name": "stderr",
     "output_type": "stream",
     "text": [
      "I1017 09:16:39.083532 4705195456 saver.py:1483] Saver not created because there are no variables in the graph to restore\n",
      " 19%|█▉        | 299/1561 [8:11:47<96:18:04, 274.71s/it]"
     ]
    },
    {
     "name": "stdout",
     "output_type": "stream",
     "text": [
      "INFO:tensorflow:Saver not created because there are no variables in the graph to restore\n"
     ]
    },
    {
     "name": "stderr",
     "output_type": "stream",
     "text": [
      "I1017 09:21:16.801162 4705195456 saver.py:1483] Saver not created because there are no variables in the graph to restore\n",
      " 19%|█▉        | 300/1561 [8:16:38<97:56:07, 279.59s/it]"
     ]
    },
    {
     "name": "stdout",
     "output_type": "stream",
     "text": [
      "INFO:tensorflow:Saver not created because there are no variables in the graph to restore\n"
     ]
    },
    {
     "name": "stderr",
     "output_type": "stream",
     "text": [
      "I1017 09:26:09.160067 4705195456 saver.py:1483] Saver not created because there are no variables in the graph to restore\n",
      " 19%|█▉        | 301/1561 [8:21:40<100:11:49, 286.28s/it]"
     ]
    },
    {
     "name": "stdout",
     "output_type": "stream",
     "text": [
      "INFO:tensorflow:Saver not created because there are no variables in the graph to restore\n"
     ]
    },
    {
     "name": "stderr",
     "output_type": "stream",
     "text": [
      "I1017 09:31:09.648219 4705195456 saver.py:1483] Saver not created because there are no variables in the graph to restore\n",
      " 19%|█▉        | 302/1561 [8:26:23<99:48:40, 285.40s/it] "
     ]
    },
    {
     "name": "stdout",
     "output_type": "stream",
     "text": [
      "INFO:tensorflow:Saver not created because there are no variables in the graph to restore\n"
     ]
    },
    {
     "name": "stderr",
     "output_type": "stream",
     "text": [
      "I1017 09:35:54.465388 4705195456 saver.py:1483] Saver not created because there are no variables in the graph to restore\n",
      " 19%|█▉        | 303/1561 [8:31:11<99:56:31, 286.00s/it]"
     ]
    },
    {
     "name": "stdout",
     "output_type": "stream",
     "text": [
      "INFO:tensorflow:Saver not created because there are no variables in the graph to restore\n"
     ]
    },
    {
     "name": "stderr",
     "output_type": "stream",
     "text": [
      "I1017 09:40:39.624751 4705195456 saver.py:1483] Saver not created because there are no variables in the graph to restore\n",
      " 19%|█▉        | 304/1561 [8:35:58<100:01:02, 286.45s/it]"
     ]
    },
    {
     "name": "stdout",
     "output_type": "stream",
     "text": [
      "INFO:tensorflow:Saver not created because there are no variables in the graph to restore\n"
     ]
    },
    {
     "name": "stderr",
     "output_type": "stream",
     "text": [
      "I1017 09:45:28.435621 4705195456 saver.py:1483] Saver not created because there are no variables in the graph to restore\n",
      " 20%|█▉        | 305/1561 [8:40:45<99:59:11, 286.59s/it] "
     ]
    },
    {
     "name": "stdout",
     "output_type": "stream",
     "text": [
      "INFO:tensorflow:Saver not created because there are no variables in the graph to restore\n"
     ]
    },
    {
     "name": "stderr",
     "output_type": "stream",
     "text": [
      "I1017 09:50:15.206130 4705195456 saver.py:1483] Saver not created because there are no variables in the graph to restore\n",
      " 20%|█▉        | 306/1561 [8:45:40<100:48:23, 289.17s/it]"
     ]
    },
    {
     "name": "stdout",
     "output_type": "stream",
     "text": [
      "INFO:tensorflow:Saver not created because there are no variables in the graph to restore\n"
     ]
    },
    {
     "name": "stderr",
     "output_type": "stream",
     "text": [
      "I1017 09:55:09.425025 4705195456 saver.py:1483] Saver not created because there are no variables in the graph to restore\n",
      " 20%|█▉        | 307/1561 [8:50:39<101:42:10, 291.97s/it]"
     ]
    },
    {
     "name": "stdout",
     "output_type": "stream",
     "text": [
      "INFO:tensorflow:Saver not created because there are no variables in the graph to restore\n"
     ]
    },
    {
     "name": "stderr",
     "output_type": "stream",
     "text": [
      "I1017 10:00:08.546706 4705195456 saver.py:1483] Saver not created because there are no variables in the graph to restore\n",
      " 20%|█▉        | 308/1561 [8:56:24<107:11:40, 307.98s/it]"
     ]
    },
    {
     "name": "stdout",
     "output_type": "stream",
     "text": [
      "INFO:tensorflow:Saver not created because there are no variables in the graph to restore\n"
     ]
    },
    {
     "name": "stderr",
     "output_type": "stream",
     "text": [
      "I1017 10:05:57.477220 4705195456 saver.py:1483] Saver not created because there are no variables in the graph to restore\n",
      " 20%|█▉        | 309/1561 [9:01:28<106:40:55, 306.75s/it]"
     ]
    },
    {
     "name": "stdout",
     "output_type": "stream",
     "text": [
      "INFO:tensorflow:Saver not created because there are no variables in the graph to restore\n"
     ]
    },
    {
     "name": "stderr",
     "output_type": "stream",
     "text": [
      "I1017 10:11:00.197797 4705195456 saver.py:1483] Saver not created because there are no variables in the graph to restore\n",
      " 20%|█▉        | 310/1561 [9:06:21<105:10:10, 302.65s/it]"
     ]
    },
    {
     "name": "stdout",
     "output_type": "stream",
     "text": [
      "INFO:tensorflow:Saver not created because there are no variables in the graph to restore\n"
     ]
    },
    {
     "name": "stderr",
     "output_type": "stream",
     "text": [
      "I1017 10:15:49.655134 4705195456 saver.py:1483] Saver not created because there are no variables in the graph to restore\n",
      " 20%|█▉        | 311/1561 [9:11:33<106:03:42, 305.46s/it]"
     ]
    },
    {
     "name": "stdout",
     "output_type": "stream",
     "text": [
      "INFO:tensorflow:Saver not created because there are no variables in the graph to restore\n"
     ]
    },
    {
     "name": "stderr",
     "output_type": "stream",
     "text": [
      "I1017 10:21:03.609954 4705195456 saver.py:1483] Saver not created because there are no variables in the graph to restore\n",
      " 20%|█▉        | 312/1561 [10:42:12<640:18:25, 1845.56s/it]"
     ]
    },
    {
     "name": "stdout",
     "output_type": "stream",
     "text": [
      "INFO:tensorflow:Saver not created because there are no variables in the graph to restore\n"
     ]
    },
    {
     "name": "stderr",
     "output_type": "stream",
     "text": [
      "I1017 11:52:10.185860 4705195456 saver.py:1483] Saver not created because there are no variables in the graph to restore\n",
      " 20%|██        | 313/1561 [10:52:13<510:16:57, 1471.97s/it]"
     ]
    },
    {
     "name": "stdout",
     "output_type": "stream",
     "text": [
      "INFO:tensorflow:Saver not created because there are no variables in the graph to restore\n"
     ]
    },
    {
     "name": "stderr",
     "output_type": "stream",
     "text": [
      "I1017 12:02:05.379630 4705195456 saver.py:1483] Saver not created because there are no variables in the graph to restore\n",
      " 20%|██        | 314/1561 [10:58:10<394:01:56, 1137.54s/it]"
     ]
    },
    {
     "name": "stdout",
     "output_type": "stream",
     "text": [
      "INFO:tensorflow:Saver not created because there are no variables in the graph to restore\n"
     ]
    },
    {
     "name": "stderr",
     "output_type": "stream",
     "text": [
      "I1017 12:07:49.433009 4705195456 saver.py:1483] Saver not created because there are no variables in the graph to restore\n",
      " 20%|██        | 315/1561 [11:04:22<314:14:36, 907.93s/it] "
     ]
    },
    {
     "name": "stdout",
     "output_type": "stream",
     "text": [
      "INFO:tensorflow:Saver not created because there are no variables in the graph to restore\n"
     ]
    },
    {
     "name": "stderr",
     "output_type": "stream",
     "text": [
      "I1017 12:13:56.532837 4705195456 saver.py:1483] Saver not created because there are no variables in the graph to restore\n",
      " 20%|██        | 316/1561 [11:10:22<257:11:05, 743.67s/it]"
     ]
    },
    {
     "name": "stdout",
     "output_type": "stream",
     "text": [
      "INFO:tensorflow:Saver not created because there are no variables in the graph to restore\n"
     ]
    },
    {
     "name": "stderr",
     "output_type": "stream",
     "text": [
      "I1017 12:19:54.463735 4705195456 saver.py:1483] Saver not created because there are no variables in the graph to restore\n",
      " 20%|██        | 317/1561 [11:16:19<216:50:29, 627.52s/it]"
     ]
    },
    {
     "name": "stdout",
     "output_type": "stream",
     "text": [
      "INFO:tensorflow:Saver not created because there are no variables in the graph to restore\n"
     ]
    },
    {
     "name": "stderr",
     "output_type": "stream",
     "text": [
      "I1017 12:25:51.988708 4705195456 saver.py:1483] Saver not created because there are no variables in the graph to restore\n",
      " 20%|██        | 318/1561 [11:23:03<193:29:12, 560.38s/it]"
     ]
    },
    {
     "name": "stdout",
     "output_type": "stream",
     "text": [
      "INFO:tensorflow:Saver not created because there are no variables in the graph to restore\n"
     ]
    },
    {
     "name": "stderr",
     "output_type": "stream",
     "text": [
      "I1017 12:32:39.053714 4705195456 saver.py:1483] Saver not created because there are no variables in the graph to restore\n",
      " 20%|██        | 319/1561 [11:30:16<180:10:11, 522.23s/it]"
     ]
    },
    {
     "name": "stdout",
     "output_type": "stream",
     "text": [
      "INFO:tensorflow:Saver not created because there are no variables in the graph to restore\n"
     ]
    },
    {
     "name": "stderr",
     "output_type": "stream",
     "text": [
      "I1017 12:39:51.752894 4705195456 saver.py:1483] Saver not created because there are no variables in the graph to restore\n",
      " 20%|██        | 320/1561 [11:36:15<163:08:27, 473.25s/it]"
     ]
    },
    {
     "name": "stdout",
     "output_type": "stream",
     "text": [
      "INFO:tensorflow:Saver not created because there are no variables in the graph to restore\n"
     ]
    },
    {
     "name": "stderr",
     "output_type": "stream",
     "text": [
      "I1017 12:45:47.788834 4705195456 saver.py:1483] Saver not created because there are no variables in the graph to restore\n",
      " 21%|██        | 321/1561 [11:42:29<152:48:51, 443.65s/it]"
     ]
    },
    {
     "name": "stdout",
     "output_type": "stream",
     "text": [
      "INFO:tensorflow:Saver not created because there are no variables in the graph to restore\n"
     ]
    },
    {
     "name": "stderr",
     "output_type": "stream",
     "text": [
      "I1017 12:52:15.853288 4705195456 saver.py:1483] Saver not created because there are no variables in the graph to restore\n",
      " 21%|██        | 322/1561 [11:49:01<147:17:01, 427.94s/it]"
     ]
    },
    {
     "name": "stdout",
     "output_type": "stream",
     "text": [
      "INFO:tensorflow:Saver not created because there are no variables in the graph to restore\n"
     ]
    },
    {
     "name": "stderr",
     "output_type": "stream",
     "text": [
      "I1017 12:58:34.391859 4705195456 saver.py:1483] Saver not created because there are no variables in the graph to restore\n",
      " 21%|██        | 323/1561 [11:54:34<137:25:30, 399.62s/it]"
     ]
    },
    {
     "name": "stdout",
     "output_type": "stream",
     "text": [
      "INFO:tensorflow:Saver not created because there are no variables in the graph to restore\n"
     ]
    },
    {
     "name": "stderr",
     "output_type": "stream",
     "text": [
      "I1017 13:04:07.039509 4705195456 saver.py:1483] Saver not created because there are no variables in the graph to restore\n",
      " 21%|██        | 324/1561 [12:00:36<133:23:58, 388.23s/it]"
     ]
    },
    {
     "name": "stdout",
     "output_type": "stream",
     "text": [
      "INFO:tensorflow:Saver not created because there are no variables in the graph to restore\n"
     ]
    },
    {
     "name": "stderr",
     "output_type": "stream",
     "text": [
      "I1017 13:10:06.452238 4705195456 saver.py:1483] Saver not created because there are no variables in the graph to restore\n",
      " 21%|██        | 325/1561 [12:06:23<129:05:50, 376.01s/it]"
     ]
    },
    {
     "name": "stdout",
     "output_type": "stream",
     "text": [
      "INFO:tensorflow:Saver not created because there are no variables in the graph to restore\n"
     ]
    },
    {
     "name": "stderr",
     "output_type": "stream",
     "text": [
      "I1017 13:15:54.629017 4705195456 saver.py:1483] Saver not created because there are no variables in the graph to restore\n",
      " 21%|██        | 326/1561 [12:12:28<127:48:11, 372.54s/it]"
     ]
    },
    {
     "name": "stdout",
     "output_type": "stream",
     "text": [
      "INFO:tensorflow:Saver not created because there are no variables in the graph to restore\n"
     ]
    },
    {
     "name": "stderr",
     "output_type": "stream",
     "text": [
      "I1017 13:21:58.715639 4705195456 saver.py:1483] Saver not created because there are no variables in the graph to restore\n",
      " 21%|██        | 327/1561 [12:18:13<124:49:43, 364.17s/it]"
     ]
    },
    {
     "name": "stdout",
     "output_type": "stream",
     "text": [
      "INFO:tensorflow:Saver not created because there are no variables in the graph to restore\n"
     ]
    },
    {
     "name": "stderr",
     "output_type": "stream",
     "text": [
      "I1017 13:27:44.168575 4705195456 saver.py:1483] Saver not created because there are no variables in the graph to restore\n",
      " 21%|██        | 328/1561 [12:23:39<120:51:47, 352.89s/it]"
     ]
    },
    {
     "name": "stdout",
     "output_type": "stream",
     "text": [
      "INFO:tensorflow:Saver not created because there are no variables in the graph to restore\n"
     ]
    },
    {
     "name": "stderr",
     "output_type": "stream",
     "text": [
      "I1017 13:33:08.609891 4705195456 saver.py:1483] Saver not created because there are no variables in the graph to restore\n",
      " 21%|██        | 329/1561 [12:29:17<119:16:29, 348.53s/it]"
     ]
    },
    {
     "name": "stdout",
     "output_type": "stream",
     "text": [
      "INFO:tensorflow:Saver not created because there are no variables in the graph to restore\n"
     ]
    },
    {
     "name": "stderr",
     "output_type": "stream",
     "text": [
      "I1017 13:38:47.413028 4705195456 saver.py:1483] Saver not created because there are no variables in the graph to restore\n",
      " 21%|██        | 330/1561 [12:34:54<117:58:41, 345.02s/it]"
     ]
    },
    {
     "name": "stdout",
     "output_type": "stream",
     "text": [
      "INFO:tensorflow:Saver not created because there are no variables in the graph to restore\n"
     ]
    },
    {
     "name": "stderr",
     "output_type": "stream",
     "text": [
      "I1017 13:44:25.674744 4705195456 saver.py:1483] Saver not created because there are no variables in the graph to restore\n",
      " 21%|██        | 331/1561 [12:40:29<116:50:45, 341.99s/it]"
     ]
    },
    {
     "name": "stdout",
     "output_type": "stream",
     "text": [
      "INFO:tensorflow:Saver not created because there are no variables in the graph to restore\n"
     ]
    },
    {
     "name": "stderr",
     "output_type": "stream",
     "text": [
      "I1017 13:49:59.406561 4705195456 saver.py:1483] Saver not created because there are no variables in the graph to restore\n",
      " 21%|██▏       | 332/1561 [12:46:19<117:33:41, 344.36s/it]"
     ]
    },
    {
     "name": "stdout",
     "output_type": "stream",
     "text": [
      "INFO:tensorflow:Saver not created because there are no variables in the graph to restore\n"
     ]
    },
    {
     "name": "stderr",
     "output_type": "stream",
     "text": [
      "I1017 13:55:49.848119 4705195456 saver.py:1483] Saver not created because there are no variables in the graph to restore\n",
      " 21%|██▏       | 333/1561 [12:52:18<118:58:36, 348.79s/it]"
     ]
    },
    {
     "name": "stdout",
     "output_type": "stream",
     "text": [
      "INFO:tensorflow:Saver not created because there are no variables in the graph to restore\n"
     ]
    },
    {
     "name": "stderr",
     "output_type": "stream",
     "text": [
      "I1017 14:01:49.782482 4705195456 saver.py:1483] Saver not created because there are no variables in the graph to restore\n",
      " 21%|██▏       | 334/1561 [12:58:22<120:25:10, 353.31s/it]"
     ]
    },
    {
     "name": "stdout",
     "output_type": "stream",
     "text": [
      "INFO:tensorflow:Saver not created because there are no variables in the graph to restore\n"
     ]
    },
    {
     "name": "stderr",
     "output_type": "stream",
     "text": [
      "I1017 14:07:54.392451 4705195456 saver.py:1483] Saver not created because there are no variables in the graph to restore\n",
      " 21%|██▏       | 335/1561 [13:04:24<121:10:20, 355.81s/it]"
     ]
    },
    {
     "name": "stdout",
     "output_type": "stream",
     "text": [
      "INFO:tensorflow:Saver not created because there are no variables in the graph to restore\n"
     ]
    },
    {
     "name": "stderr",
     "output_type": "stream",
     "text": [
      "I1017 14:13:54.776709 4705195456 saver.py:1483] Saver not created because there are no variables in the graph to restore\n",
      " 22%|██▏       | 336/1561 [13:10:18<120:52:44, 355.24s/it]"
     ]
    },
    {
     "name": "stdout",
     "output_type": "stream",
     "text": [
      "INFO:tensorflow:Saver not created because there are no variables in the graph to restore\n"
     ]
    },
    {
     "name": "stderr",
     "output_type": "stream",
     "text": [
      "I1017 14:19:48.759382 4705195456 saver.py:1483] Saver not created because there are no variables in the graph to restore\n",
      " 22%|██▏       | 337/1561 [13:16:10<120:26:35, 354.25s/it]"
     ]
    },
    {
     "name": "stdout",
     "output_type": "stream",
     "text": [
      "INFO:tensorflow:Saver not created because there are no variables in the graph to restore\n"
     ]
    },
    {
     "name": "stderr",
     "output_type": "stream",
     "text": [
      "I1017 14:25:40.321738 4705195456 saver.py:1483] Saver not created because there are no variables in the graph to restore\n",
      " 22%|██▏       | 338/1561 [13:22:08<120:48:04, 355.59s/it]"
     ]
    },
    {
     "name": "stdout",
     "output_type": "stream",
     "text": [
      "INFO:tensorflow:Saver not created because there are no variables in the graph to restore\n"
     ]
    },
    {
     "name": "stderr",
     "output_type": "stream",
     "text": [
      "I1017 14:31:38.877025 4705195456 saver.py:1483] Saver not created because there are no variables in the graph to restore\n",
      " 22%|██▏       | 339/1561 [13:28:13<121:40:39, 358.46s/it]"
     ]
    },
    {
     "name": "stdout",
     "output_type": "stream",
     "text": [
      "INFO:tensorflow:Saver not created because there are no variables in the graph to restore\n"
     ]
    },
    {
     "name": "stderr",
     "output_type": "stream",
     "text": [
      "I1017 14:41:14.186455 4705195456 saver.py:1483] Saver not created because there are no variables in the graph to restore\n",
      " 22%|██▏       | 340/1561 [13:38:21<146:57:50, 433.31s/it]"
     ]
    },
    {
     "name": "stdout",
     "output_type": "stream",
     "text": [
      "INFO:tensorflow:Saver not created because there are no variables in the graph to restore\n"
     ]
    },
    {
     "name": "stderr",
     "output_type": "stream",
     "text": [
      "I1017 14:47:58.844321 4705195456 saver.py:1483] Saver not created because there are no variables in the graph to restore\n",
      " 22%|██▏       | 341/1561 [13:44:30<140:17:26, 413.97s/it]"
     ]
    },
    {
     "name": "stdout",
     "output_type": "stream",
     "text": [
      "INFO:tensorflow:Saver not created because there are no variables in the graph to restore\n"
     ]
    },
    {
     "name": "stderr",
     "output_type": "stream",
     "text": [
      "I1017 14:54:02.476302 4705195456 saver.py:1483] Saver not created because there are no variables in the graph to restore\n",
      " 22%|██▏       | 342/1561 [13:51:26<140:23:47, 414.62s/it]"
     ]
    },
    {
     "name": "stdout",
     "output_type": "stream",
     "text": [
      "INFO:tensorflow:Saver not created because there are no variables in the graph to restore\n"
     ]
    },
    {
     "name": "stderr",
     "output_type": "stream",
     "text": [
      "I1017 15:01:07.419040 4705195456 saver.py:1483] Saver not created because there are no variables in the graph to restore\n",
      " 22%|██▏       | 343/1561 [13:59:16<145:48:58, 430.98s/it]"
     ]
    },
    {
     "name": "stdout",
     "output_type": "stream",
     "text": [
      "INFO:tensorflow:Saver not created because there are no variables in the graph to restore\n"
     ]
    },
    {
     "name": "stderr",
     "output_type": "stream",
     "text": [
      "I1017 15:08:52.919502 4705195456 saver.py:1483] Saver not created because there are no variables in the graph to restore\n",
      " 22%|██▏       | 344/1561 [14:06:05<143:33:07, 424.64s/it]"
     ]
    },
    {
     "name": "stdout",
     "output_type": "stream",
     "text": [
      "INFO:tensorflow:Saver not created because there are no variables in the graph to restore\n"
     ]
    },
    {
     "name": "stderr",
     "output_type": "stream",
     "text": [
      "I1017 15:15:37.836374 4705195456 saver.py:1483] Saver not created because there are no variables in the graph to restore\n",
      " 22%|██▏       | 345/1561 [14:13:06<143:03:54, 423.55s/it]"
     ]
    },
    {
     "name": "stdout",
     "output_type": "stream",
     "text": [
      "INFO:tensorflow:Saver not created because there are no variables in the graph to restore\n"
     ]
    },
    {
     "name": "stderr",
     "output_type": "stream",
     "text": [
      "I1017 15:22:40.220278 4705195456 saver.py:1483] Saver not created because there are no variables in the graph to restore\n",
      " 22%|██▏       | 346/1561 [14:20:37<145:42:02, 431.71s/it]"
     ]
    },
    {
     "name": "stdout",
     "output_type": "stream",
     "text": [
      "INFO:tensorflow:Saver not created because there are no variables in the graph to restore\n"
     ]
    },
    {
     "name": "stderr",
     "output_type": "stream",
     "text": [
      "I1017 15:30:20.944375 4705195456 saver.py:1483] Saver not created because there are no variables in the graph to restore\n",
      " 22%|██▏       | 347/1561 [14:28:57<152:28:11, 452.13s/it]"
     ]
    },
    {
     "name": "stdout",
     "output_type": "stream",
     "text": [
      "INFO:tensorflow:Saver not created because there are no variables in the graph to restore\n"
     ]
    },
    {
     "name": "stderr",
     "output_type": "stream",
     "text": [
      "I1017 15:38:41.949495 4705195456 saver.py:1483] Saver not created because there are no variables in the graph to restore\n",
      " 22%|██▏       | 348/1561 [14:36:16<151:02:37, 448.27s/it]"
     ]
    },
    {
     "name": "stdout",
     "output_type": "stream",
     "text": [
      "INFO:tensorflow:Saver not created because there are no variables in the graph to restore\n"
     ]
    },
    {
     "name": "stderr",
     "output_type": "stream",
     "text": [
      "I1017 15:45:56.410290 4705195456 saver.py:1483] Saver not created because there are no variables in the graph to restore\n",
      " 22%|██▏       | 349/1561 [14:44:07<153:13:05, 455.10s/it]"
     ]
    },
    {
     "name": "stdout",
     "output_type": "stream",
     "text": [
      "INFO:tensorflow:Saver not created because there are no variables in the graph to restore\n"
     ]
    },
    {
     "name": "stderr",
     "output_type": "stream",
     "text": [
      "I1017 15:53:45.250138 4705195456 saver.py:1483] Saver not created because there are no variables in the graph to restore\n",
      " 22%|██▏       | 350/1561 [14:51:24<151:17:19, 449.74s/it]"
     ]
    },
    {
     "name": "stdout",
     "output_type": "stream",
     "text": [
      "INFO:tensorflow:Saver not created because there are no variables in the graph to restore\n"
     ]
    },
    {
     "name": "stderr",
     "output_type": "stream",
     "text": [
      "I1017 16:00:59.310355 4705195456 saver.py:1483] Saver not created because there are no variables in the graph to restore\n",
      " 22%|██▏       | 351/1561 [14:58:42<149:54:11, 445.99s/it]"
     ]
    },
    {
     "name": "stdout",
     "output_type": "stream",
     "text": [
      "INFO:tensorflow:Saver not created because there are no variables in the graph to restore\n"
     ]
    },
    {
     "name": "stderr",
     "output_type": "stream",
     "text": [
      "I1017 16:08:15.653288 4705195456 saver.py:1483] Saver not created because there are no variables in the graph to restore\n",
      " 23%|██▎       | 352/1561 [15:06:47<153:42:22, 457.69s/it]"
     ]
    },
    {
     "name": "stdout",
     "output_type": "stream",
     "text": [
      "INFO:tensorflow:Saver not created because there are no variables in the graph to restore\n"
     ]
    },
    {
     "name": "stderr",
     "output_type": "stream",
     "text": [
      "I1017 16:16:21.474637 4705195456 saver.py:1483] Saver not created because there are no variables in the graph to restore\n",
      " 23%|██▎       | 353/1561 [15:13:25<147:33:24, 439.74s/it]"
     ]
    },
    {
     "name": "stdout",
     "output_type": "stream",
     "text": [
      "INFO:tensorflow:Saver not created because there are no variables in the graph to restore\n"
     ]
    },
    {
     "name": "stderr",
     "output_type": "stream",
     "text": [
      "I1017 16:22:58.128502 4705195456 saver.py:1483] Saver not created because there are no variables in the graph to restore\n",
      " 23%|██▎       | 354/1561 [15:21:19<150:56:58, 450.22s/it]"
     ]
    },
    {
     "name": "stdout",
     "output_type": "stream",
     "text": [
      "INFO:tensorflow:Saver not created because there are no variables in the graph to restore\n"
     ]
    },
    {
     "name": "stderr",
     "output_type": "stream",
     "text": [
      "I1017 16:30:52.764238 4705195456 saver.py:1483] Saver not created because there are no variables in the graph to restore\n",
      " 23%|██▎       | 355/1561 [15:28:18<147:38:08, 440.70s/it]"
     ]
    },
    {
     "name": "stdout",
     "output_type": "stream",
     "text": [
      "INFO:tensorflow:Saver not created because there are no variables in the graph to restore\n"
     ]
    },
    {
     "name": "stderr",
     "output_type": "stream",
     "text": [
      "I1017 16:37:50.621095 4705195456 saver.py:1483] Saver not created because there are no variables in the graph to restore\n",
      " 23%|██▎       | 356/1561 [15:36:04<150:02:45, 448.27s/it]"
     ]
    },
    {
     "name": "stdout",
     "output_type": "stream",
     "text": [
      "INFO:tensorflow:Saver not created because there are no variables in the graph to restore\n"
     ]
    },
    {
     "name": "stderr",
     "output_type": "stream",
     "text": [
      "I1017 16:45:39.217622 4705195456 saver.py:1483] Saver not created because there are no variables in the graph to restore\n",
      " 23%|██▎       | 357/1561 [15:44:28<155:35:51, 465.24s/it]"
     ]
    },
    {
     "name": "stdout",
     "output_type": "stream",
     "text": [
      "INFO:tensorflow:Saver not created because there are no variables in the graph to restore\n"
     ]
    },
    {
     "name": "stderr",
     "output_type": "stream",
     "text": [
      "I1017 16:54:11.489893 4705195456 saver.py:1483] Saver not created because there are no variables in the graph to restore\n",
      " 23%|██▎       | 358/1561 [15:53:37<163:51:53, 490.37s/it]"
     ]
    },
    {
     "name": "stdout",
     "output_type": "stream",
     "text": [
      "INFO:tensorflow:Saver not created because there are no variables in the graph to restore\n"
     ]
    },
    {
     "name": "stderr",
     "output_type": "stream",
     "text": [
      "I1017 17:03:18.264569 4705195456 saver.py:1483] Saver not created because there are no variables in the graph to restore\n",
      " 23%|██▎       | 359/1561 [16:02:00<164:58:33, 494.10s/it]"
     ]
    },
    {
     "name": "stdout",
     "output_type": "stream",
     "text": [
      "INFO:tensorflow:Saver not created because there are no variables in the graph to restore\n"
     ]
    },
    {
     "name": "stderr",
     "output_type": "stream",
     "text": [
      "I1017 17:11:36.707323 4705195456 saver.py:1483] Saver not created because there are no variables in the graph to restore\n",
      " 23%|██▎       | 360/1561 [16:09:29<160:16:57, 480.45s/it]"
     ]
    },
    {
     "name": "stdout",
     "output_type": "stream",
     "text": [
      "INFO:tensorflow:Saver not created because there are no variables in the graph to restore\n"
     ]
    },
    {
     "name": "stderr",
     "output_type": "stream",
     "text": [
      "I1017 17:19:01.861264 4705195456 saver.py:1483] Saver not created because there are no variables in the graph to restore\n",
      " 23%|██▎       | 361/1561 [16:16:57<156:57:38, 470.88s/it]"
     ]
    },
    {
     "name": "stdout",
     "output_type": "stream",
     "text": [
      "INFO:tensorflow:Saver not created because there are no variables in the graph to restore\n"
     ]
    },
    {
     "name": "stderr",
     "output_type": "stream",
     "text": [
      "I1017 17:26:31.467415 4705195456 saver.py:1483] Saver not created because there are no variables in the graph to restore\n",
      " 23%|██▎       | 362/1561 [16:24:11<153:07:10, 459.74s/it]"
     ]
    },
    {
     "name": "stdout",
     "output_type": "stream",
     "text": [
      "INFO:tensorflow:Saver not created because there are no variables in the graph to restore\n"
     ]
    },
    {
     "name": "stderr",
     "output_type": "stream",
     "text": [
      "I1017 17:33:44.525518 4705195456 saver.py:1483] Saver not created because there are no variables in the graph to restore\n",
      " 23%|██▎       | 363/1561 [16:31:20<149:53:29, 450.43s/it]"
     ]
    },
    {
     "name": "stdout",
     "output_type": "stream",
     "text": [
      "INFO:tensorflow:Saver not created because there are no variables in the graph to restore\n"
     ]
    },
    {
     "name": "stderr",
     "output_type": "stream",
     "text": [
      "I1017 17:40:52.307343 4705195456 saver.py:1483] Saver not created because there are no variables in the graph to restore\n",
      " 23%|██▎       | 364/1561 [16:38:21<146:51:05, 441.66s/it]"
     ]
    },
    {
     "name": "stdout",
     "output_type": "stream",
     "text": [
      "INFO:tensorflow:Saver not created because there are no variables in the graph to restore\n"
     ]
    },
    {
     "name": "stderr",
     "output_type": "stream",
     "text": [
      "I1017 17:47:52.922384 4705195456 saver.py:1483] Saver not created because there are no variables in the graph to restore\n",
      " 23%|██▎       | 365/1561 [16:45:51<147:30:13, 443.99s/it]"
     ]
    },
    {
     "name": "stdout",
     "output_type": "stream",
     "text": [
      "INFO:tensorflow:Saver not created because there are no variables in the graph to restore\n"
     ]
    },
    {
     "name": "stderr",
     "output_type": "stream",
     "text": [
      "I1017 17:55:24.267535 4705195456 saver.py:1483] Saver not created because there are no variables in the graph to restore\n",
      " 23%|██▎       | 366/1561 [16:52:58<145:41:17, 438.89s/it]"
     ]
    },
    {
     "name": "stdout",
     "output_type": "stream",
     "text": [
      "INFO:tensorflow:Saver not created because there are no variables in the graph to restore\n"
     ]
    },
    {
     "name": "stderr",
     "output_type": "stream",
     "text": [
      "I1017 18:02:30.501507 4705195456 saver.py:1483] Saver not created because there are no variables in the graph to restore\n",
      " 24%|██▎       | 367/1561 [17:00:42<148:06:49, 446.57s/it]"
     ]
    },
    {
     "name": "stdout",
     "output_type": "stream",
     "text": [
      "INFO:tensorflow:Saver not created because there are no variables in the graph to restore\n"
     ]
    },
    {
     "name": "stderr",
     "output_type": "stream",
     "text": [
      "I1017 18:10:17.257308 4705195456 saver.py:1483] Saver not created because there are no variables in the graph to restore\n",
      " 24%|██▎       | 368/1561 [17:07:50<146:08:47, 441.01s/it]"
     ]
    },
    {
     "name": "stdout",
     "output_type": "stream",
     "text": [
      "INFO:tensorflow:Saver not created because there are no variables in the graph to restore\n"
     ]
    },
    {
     "name": "stderr",
     "output_type": "stream",
     "text": [
      "I1017 18:17:23.475194 4705195456 saver.py:1483] Saver not created because there are no variables in the graph to restore\n",
      " 24%|██▎       | 369/1561 [18:15:09<503:25:28, 1520.41s/it]"
     ]
    },
    {
     "name": "stdout",
     "output_type": "stream",
     "text": [
      "INFO:tensorflow:Saver not created because there are no variables in the graph to restore\n"
     ]
    },
    {
     "name": "stderr",
     "output_type": "stream",
     "text": [
      "I1017 19:24:51.510151 4705195456 saver.py:1483] Saver not created because there are no variables in the graph to restore\n",
      " 24%|██▎       | 370/1561 [21:14:13<1418:25:06, 4287.41s/it]"
     ]
    },
    {
     "name": "stdout",
     "output_type": "stream",
     "text": [
      "INFO:tensorflow:Saver not created because there are no variables in the graph to restore\n"
     ]
    },
    {
     "name": "stderr",
     "output_type": "stream",
     "text": [
      "I1017 22:23:59.743474 4705195456 saver.py:1483] Saver not created because there are no variables in the graph to restore\n",
      " 24%|██▍       | 371/1561 [21:23:52<1049:30:26, 3174.98s/it]"
     ]
    },
    {
     "name": "stdout",
     "output_type": "stream",
     "text": [
      "INFO:tensorflow:Saver not created because there are no variables in the graph to restore\n"
     ]
    },
    {
     "name": "stderr",
     "output_type": "stream",
     "text": [
      "I1017 22:33:38.094330 4705195456 saver.py:1483] Saver not created because there are no variables in the graph to restore\n",
      " 24%|██▍       | 372/1561 [21:32:09<783:15:31, 2371.51s/it] "
     ]
    },
    {
     "name": "stdout",
     "output_type": "stream",
     "text": [
      "INFO:tensorflow:Saver not created because there are no variables in the graph to restore\n"
     ]
    },
    {
     "name": "stderr",
     "output_type": "stream",
     "text": [
      "I1017 22:42:00.902088 4705195456 saver.py:1483] Saver not created because there are no variables in the graph to restore\n",
      " 24%|██▍       | 373/1561 [21:41:03<600:42:59, 1820.35s/it]"
     ]
    },
    {
     "name": "stdout",
     "output_type": "stream",
     "text": [
      "INFO:tensorflow:Saver not created because there are no variables in the graph to restore\n"
     ]
    },
    {
     "name": "stderr",
     "output_type": "stream",
     "text": [
      "I1017 22:50:40.180954 4705195456 saver.py:1483] Saver not created because there are no variables in the graph to restore\n",
      " 24%|██▍       | 374/1561 [21:48:57<467:03:46, 1416.53s/it]"
     ]
    },
    {
     "name": "stdout",
     "output_type": "stream",
     "text": [
      "INFO:tensorflow:Saver not created because there are no variables in the graph to restore\n"
     ]
    },
    {
     "name": "stderr",
     "output_type": "stream",
     "text": [
      "I1017 22:58:47.116610 4705195456 saver.py:1483] Saver not created because there are no variables in the graph to restore\n",
      " 24%|██▍       | 375/1561 [21:56:58<374:10:40, 1135.78s/it]"
     ]
    },
    {
     "name": "stdout",
     "output_type": "stream",
     "text": [
      "INFO:tensorflow:Saver not created because there are no variables in the graph to restore\n"
     ]
    },
    {
     "name": "stderr",
     "output_type": "stream",
     "text": [
      "I1017 23:06:34.084366 4705195456 saver.py:1483] Saver not created because there are no variables in the graph to restore\n",
      " 24%|██▍       | 376/1561 [22:05:13<310:36:22, 943.61s/it] "
     ]
    },
    {
     "name": "stdout",
     "output_type": "stream",
     "text": [
      "INFO:tensorflow:Saver not created because there are no variables in the graph to restore\n"
     ]
    },
    {
     "name": "stderr",
     "output_type": "stream",
     "text": [
      "I1017 23:14:48.118170 4705195456 saver.py:1483] Saver not created because there are no variables in the graph to restore\n",
      " 24%|██▍       | 377/1561 [22:13:37<266:55:01, 811.57s/it]"
     ]
    },
    {
     "name": "stdout",
     "output_type": "stream",
     "text": [
      "INFO:tensorflow:Saver not created because there are no variables in the graph to restore\n"
     ]
    },
    {
     "name": "stderr",
     "output_type": "stream",
     "text": [
      "I1017 23:23:14.150460 4705195456 saver.py:1483] Saver not created because there are no variables in the graph to restore\n",
      " 24%|██▍       | 378/1561 [22:24:26<250:42:15, 762.92s/it]"
     ]
    },
    {
     "name": "stdout",
     "output_type": "stream",
     "text": [
      "INFO:tensorflow:Saver not created because there are no variables in the graph to restore\n"
     ]
    },
    {
     "name": "stderr",
     "output_type": "stream",
     "text": [
      "I1017 23:34:03.156242 4705195456 saver.py:1483] Saver not created because there are no variables in the graph to restore\n",
      " 24%|██▍       | 379/1561 [22:34:38<235:35:42, 717.55s/it]"
     ]
    },
    {
     "name": "stdout",
     "output_type": "stream",
     "text": [
      "INFO:tensorflow:Saver not created because there are no variables in the graph to restore\n"
     ]
    },
    {
     "name": "stderr",
     "output_type": "stream",
     "text": [
      "I1017 23:44:19.196581 4705195456 saver.py:1483] Saver not created because there are no variables in the graph to restore\n",
      " 24%|██▍       | 380/1561 [22:46:05<232:25:08, 708.47s/it]"
     ]
    },
    {
     "name": "stdout",
     "output_type": "stream",
     "text": [
      "INFO:tensorflow:Saver not created because there are no variables in the graph to restore\n"
     ]
    },
    {
     "name": "stderr",
     "output_type": "stream",
     "text": [
      "I1017 23:55:45.647826 4705195456 saver.py:1483] Saver not created because there are no variables in the graph to restore\n",
      " 24%|██▍       | 381/1561 [22:54:09<210:05:08, 640.94s/it]"
     ]
    },
    {
     "name": "stdout",
     "output_type": "stream",
     "text": [
      "INFO:tensorflow:Saver not created because there are no variables in the graph to restore\n"
     ]
    },
    {
     "name": "stderr",
     "output_type": "stream",
     "text": [
      "I1018 00:03:44.637669 4705195456 saver.py:1483] Saver not created because there are no variables in the graph to restore\n",
      " 24%|██▍       | 382/1561 [23:01:57<192:59:28, 589.29s/it]"
     ]
    },
    {
     "name": "stdout",
     "output_type": "stream",
     "text": [
      "INFO:tensorflow:Saver not created because there are no variables in the graph to restore\n"
     ]
    },
    {
     "name": "stderr",
     "output_type": "stream",
     "text": [
      "I1018 00:11:33.468158 4705195456 saver.py:1483] Saver not created because there are no variables in the graph to restore\n",
      " 25%|██▍       | 383/1561 [24:47:37<757:20:59, 2314.48s/it]"
     ]
    },
    {
     "name": "stdout",
     "output_type": "stream",
     "text": [
      "INFO:tensorflow:Saver not created because there are no variables in the graph to restore\n"
     ]
    },
    {
     "name": "stderr",
     "output_type": "stream",
     "text": [
      "I1018 01:57:18.655030 4705195456 saver.py:1483] Saver not created because there are no variables in the graph to restore\n",
      " 25%|██▍       | 384/1561 [24:57:35<588:21:28, 1799.57s/it]"
     ]
    },
    {
     "name": "stdout",
     "output_type": "stream",
     "text": [
      "INFO:tensorflow:Saver not created because there are no variables in the graph to restore\n"
     ]
    },
    {
     "name": "stderr",
     "output_type": "stream",
     "text": [
      "I1018 02:07:33.737924 4705195456 saver.py:1483] Saver not created because there are no variables in the graph to restore\n",
      " 25%|██▍       | 385/1561 [25:06:32<464:05:38, 1420.70s/it]"
     ]
    },
    {
     "name": "stdout",
     "output_type": "stream",
     "text": [
      "INFO:tensorflow:Saver not created because there are no variables in the graph to restore\n"
     ]
    },
    {
     "name": "stderr",
     "output_type": "stream",
     "text": [
      "I1018 02:16:06.749238 4705195456 saver.py:1483] Saver not created because there are no variables in the graph to restore\n",
      " 25%|██▍       | 386/1561 [25:14:57<374:00:16, 1145.89s/it]"
     ]
    },
    {
     "name": "stdout",
     "output_type": "stream",
     "text": [
      "INFO:tensorflow:Saver not created because there are no variables in the graph to restore\n"
     ]
    },
    {
     "name": "stderr",
     "output_type": "stream",
     "text": [
      "I1018 02:24:34.313066 4705195456 saver.py:1483] Saver not created because there are no variables in the graph to restore\n",
      " 25%|██▍       | 387/1561 [25:28:20<340:11:42, 1043.19s/it]"
     ]
    },
    {
     "name": "stdout",
     "output_type": "stream",
     "text": [
      "INFO:tensorflow:Saver not created because there are no variables in the graph to restore\n"
     ]
    },
    {
     "name": "stderr",
     "output_type": "stream",
     "text": [
      "I1018 02:38:13.290785 4705195456 saver.py:1483] Saver not created because there are no variables in the graph to restore\n",
      " 25%|██▍       | 388/1561 [28:01:45<1137:39:40, 3491.54s/it]"
     ]
    },
    {
     "name": "stdout",
     "output_type": "stream",
     "text": [
      "INFO:tensorflow:Saver not created because there are no variables in the graph to restore\n"
     ]
    },
    {
     "name": "stderr",
     "output_type": "stream",
     "text": [
      "I1018 05:28:46.748726 4705195456 saver.py:1483] Saver not created because there are no variables in the graph to restore\n",
      " 25%|██▍       | 389/1561 [34:53:02<3205:50:34, 9847.30s/it]"
     ]
    },
    {
     "name": "stdout",
     "output_type": "stream",
     "text": [
      "INFO:tensorflow:Saver not created because there are no variables in the graph to restore\n"
     ]
    },
    {
     "name": "stderr",
     "output_type": "stream",
     "text": [
      "I1018 12:04:22.036995 4705195456 saver.py:1483] Saver not created because there are no variables in the graph to restore\n",
      " 25%|██▍       | 390/1561 [35:06:23<2320:18:39, 7133.32s/it]"
     ]
    },
    {
     "name": "stdout",
     "output_type": "stream",
     "text": [
      "INFO:tensorflow:Saver not created because there are no variables in the graph to restore\n"
     ]
    },
    {
     "name": "stderr",
     "output_type": "stream",
     "text": [
      "I1018 12:16:12.943455 4705195456 saver.py:1483] Saver not created because there are no variables in the graph to restore\n",
      " 25%|██▌       | 391/1561 [35:16:28<1681:53:08, 5175.03s/it]"
     ]
    },
    {
     "name": "stdout",
     "output_type": "stream",
     "text": [
      "INFO:tensorflow:Saver not created because there are no variables in the graph to restore\n"
     ]
    },
    {
     "name": "stderr",
     "output_type": "stream",
     "text": [
      "I1018 12:26:19.483361 4705195456 saver.py:1483] Saver not created because there are no variables in the graph to restore\n",
      " 25%|██▌       | 392/1561 [35:26:55<1237:23:00, 3810.59s/it]"
     ]
    },
    {
     "name": "stdout",
     "output_type": "stream",
     "text": [
      "INFO:tensorflow:Saver not created because there are no variables in the graph to restore\n"
     ]
    },
    {
     "name": "stderr",
     "output_type": "stream",
     "text": [
      "I1018 12:36:36.839422 4705195456 saver.py:1483] Saver not created because there are no variables in the graph to restore\n",
      " 25%|██▌       | 393/1561 [35:36:01<918:31:03, 2831.05s/it] "
     ]
    },
    {
     "name": "stdout",
     "output_type": "stream",
     "text": [
      "INFO:tensorflow:Saver not created because there are no variables in the graph to restore\n"
     ]
    },
    {
     "name": "stderr",
     "output_type": "stream",
     "text": [
      "I1018 12:45:40.286324 4705195456 saver.py:1483] Saver not created because there are no variables in the graph to restore\n",
      " 25%|██▌       | 394/1561 [35:45:10<695:48:53, 2146.47s/it]"
     ]
    },
    {
     "name": "stdout",
     "output_type": "stream",
     "text": [
      "INFO:tensorflow:Saver not created because there are no variables in the graph to restore\n"
     ]
    },
    {
     "name": "stderr",
     "output_type": "stream",
     "text": [
      "I1018 12:54:45.605427 4705195456 saver.py:1483] Saver not created because there are no variables in the graph to restore\n",
      " 25%|██▌       | 395/1561 [35:54:46<542:37:41, 1675.35s/it]"
     ]
    },
    {
     "name": "stdout",
     "output_type": "stream",
     "text": [
      "INFO:tensorflow:Saver not created because there are no variables in the graph to restore\n"
     ]
    },
    {
     "name": "stderr",
     "output_type": "stream",
     "text": [
      "I1018 13:04:23.063071 4705195456 saver.py:1483] Saver not created because there are no variables in the graph to restore\n",
      " 25%|██▌       | 396/1561 [36:05:47<443:40:52, 1371.03s/it]"
     ]
    },
    {
     "name": "stdout",
     "output_type": "stream",
     "text": [
      "INFO:tensorflow:Saver not created because there are no variables in the graph to restore\n"
     ]
    },
    {
     "name": "stderr",
     "output_type": "stream",
     "text": [
      "I1018 13:15:39.032871 4705195456 saver.py:1483] Saver not created because there are no variables in the graph to restore\n",
      " 25%|██▌       | 397/1561 [36:18:17<383:04:44, 1184.78s/it]"
     ]
    },
    {
     "name": "stdout",
     "output_type": "stream",
     "text": [
      "INFO:tensorflow:Saver not created because there are no variables in the graph to restore\n"
     ]
    },
    {
     "name": "stderr",
     "output_type": "stream",
     "text": [
      "I1018 13:28:05.363906 4705195456 saver.py:1483] Saver not created because there are no variables in the graph to restore\n",
      " 25%|██▌       | 398/1561 [36:30:08<336:46:22, 1042.46s/it]"
     ]
    },
    {
     "name": "stdout",
     "output_type": "stream",
     "text": [
      "INFO:tensorflow:Saver not created because there are no variables in the graph to restore\n"
     ]
    },
    {
     "name": "stderr",
     "output_type": "stream",
     "text": [
      "I1018 13:40:12.201492 4705195456 saver.py:1483] Saver not created because there are no variables in the graph to restore\n",
      " 26%|██▌       | 399/1561 [37:31:42<593:19:28, 1838.18s/it]"
     ]
    },
    {
     "name": "stdout",
     "output_type": "stream",
     "text": [
      "INFO:tensorflow:Saver not created because there are no variables in the graph to restore\n"
     ]
    },
    {
     "name": "stderr",
     "output_type": "stream",
     "text": [
      "I1018 14:41:39.690230 4705195456 saver.py:1483] Saver not created because there are no variables in the graph to restore\n",
      " 26%|██▌       | 400/1561 [37:42:22<476:53:17, 1478.72s/it]"
     ]
    },
    {
     "name": "stdout",
     "output_type": "stream",
     "text": [
      "INFO:tensorflow:Saver not created because there are no variables in the graph to restore\n"
     ]
    },
    {
     "name": "stderr",
     "output_type": "stream",
     "text": [
      "I1018 14:52:08.769057 4705195456 saver.py:1483] Saver not created because there are no variables in the graph to restore\n",
      " 26%|██▌       | 401/1561 [37:52:20<391:15:52, 1214.27s/it]"
     ]
    },
    {
     "name": "stdout",
     "output_type": "stream",
     "text": [
      "INFO:tensorflow:Saver not created because there are no variables in the graph to restore\n"
     ]
    },
    {
     "name": "stderr",
     "output_type": "stream",
     "text": [
      "I1018 15:01:58.399904 4705195456 saver.py:1483] Saver not created because there are no variables in the graph to restore\n",
      " 26%|██▌       | 402/1561 [38:02:40<333:33:25, 1036.07s/it]"
     ]
    },
    {
     "name": "stdout",
     "output_type": "stream",
     "text": [
      "INFO:tensorflow:Saver not created because there are no variables in the graph to restore\n"
     ]
    },
    {
     "name": "stderr",
     "output_type": "stream",
     "text": [
      "I1018 15:12:29.662512 4705195456 saver.py:1483] Saver not created because there are no variables in the graph to restore\n",
      " 26%|██▌       | 403/1561 [38:13:05<293:35:16, 912.71s/it] "
     ]
    },
    {
     "name": "stdout",
     "output_type": "stream",
     "text": [
      "INFO:tensorflow:Saver not created because there are no variables in the graph to restore\n"
     ]
    },
    {
     "name": "stderr",
     "output_type": "stream",
     "text": [
      "I1018 15:22:59.658709 4705195456 saver.py:1483] Saver not created because there are no variables in the graph to restore\n",
      " 26%|██▌       | 404/1561 [39:00:17<478:25:31, 1488.62s/it]"
     ]
    },
    {
     "name": "stdout",
     "output_type": "stream",
     "text": [
      "INFO:tensorflow:Saver not created because there are no variables in the graph to restore\n"
     ]
    },
    {
     "name": "stderr",
     "output_type": "stream",
     "text": [
      "I1018 16:10:09.372864 4705195456 saver.py:1483] Saver not created because there are no variables in the graph to restore\n",
      " 26%|██▌       | 405/1561 [39:13:38<411:47:23, 1282.39s/it]"
     ]
    },
    {
     "name": "stdout",
     "output_type": "stream",
     "text": [
      "INFO:tensorflow:Saver not created because there are no variables in the graph to restore\n"
     ]
    },
    {
     "name": "stderr",
     "output_type": "stream",
     "text": [
      "I1018 16:23:40.012411 4705195456 saver.py:1483] Saver not created because there are no variables in the graph to restore\n",
      " 26%|██▌       | 406/1561 [39:33:57<405:16:06, 1263.17s/it]"
     ]
    },
    {
     "name": "stdout",
     "output_type": "stream",
     "text": [
      "INFO:tensorflow:Saver not created because there are no variables in the graph to restore\n"
     ]
    },
    {
     "name": "stderr",
     "output_type": "stream",
     "text": [
      "I1018 16:44:34.356027 4705195456 saver.py:1483] Saver not created because there are no variables in the graph to restore\n",
      " 26%|██▌       | 407/1561 [39:57:47<421:01:53, 1313.44s/it]"
     ]
    },
    {
     "name": "stdout",
     "output_type": "stream",
     "text": [
      "INFO:tensorflow:Saver not created because there are no variables in the graph to restore\n"
     ]
    },
    {
     "name": "stderr",
     "output_type": "stream",
     "text": [
      "I1018 17:08:24.855501 4705195456 saver.py:1483] Saver not created because there are no variables in the graph to restore\n",
      " 26%|██▌       | 408/1561 [42:41:45<1239:43:29, 3870.78s/it]"
     ]
    },
    {
     "name": "stdout",
     "output_type": "stream",
     "text": [
      "INFO:tensorflow:Saver not created because there are no variables in the graph to restore\n"
     ]
    },
    {
     "name": "stderr",
     "output_type": "stream",
     "text": [
      "I1018 20:25:13.378554 4705195456 saver.py:1483] Saver not created because there are no variables in the graph to restore\n",
      " 26%|██▌       | 409/1561 [43:38:06<1191:38:21, 3723.87s/it]"
     ]
    },
    {
     "name": "stdout",
     "output_type": "stream",
     "text": [
      "INFO:tensorflow:Saver not created because there are no variables in the graph to restore\n"
     ]
    },
    {
     "name": "stderr",
     "output_type": "stream",
     "text": [
      "I1018 20:48:53.591400 4705195456 saver.py:1483] Saver not created because there are no variables in the graph to restore\n",
      " 26%|██▋       | 410/1561 [43:58:38<951:31:02, 2976.07s/it] "
     ]
    },
    {
     "name": "stdout",
     "output_type": "stream",
     "text": [
      "INFO:tensorflow:Saver not created because there are no variables in the graph to restore\n"
     ]
    },
    {
     "name": "stderr",
     "output_type": "stream",
     "text": [
      "I1018 21:08:52.710522 4705195456 saver.py:1483] Saver not created because there are no variables in the graph to restore\n",
      " 26%|██▋       | 411/1561 [44:20:29<791:11:55, 2476.80s/it]"
     ]
    },
    {
     "name": "stdout",
     "output_type": "stream",
     "text": [
      "INFO:tensorflow:Saver not created because there are no variables in the graph to restore\n"
     ]
    },
    {
     "name": "stderr",
     "output_type": "stream",
     "text": [
      "I1018 21:30:44.063873 4705195456 saver.py:1483] Saver not created because there are no variables in the graph to restore\n",
      " 26%|██▋       | 412/1561 [44:41:47<675:42:27, 2117.10s/it]"
     ]
    },
    {
     "name": "stdout",
     "output_type": "stream",
     "text": [
      "INFO:tensorflow:Saver not created because there are no variables in the graph to restore\n"
     ]
    },
    {
     "name": "stderr",
     "output_type": "stream",
     "text": [
      "I1018 21:52:11.809496 4705195456 saver.py:1483] Saver not created because there are no variables in the graph to restore\n",
      " 26%|██▋       | 413/1561 [45:01:22<584:55:39, 1834.27s/it]"
     ]
    },
    {
     "name": "stdout",
     "output_type": "stream",
     "text": [
      "INFO:tensorflow:Saver not created because there are no variables in the graph to restore\n"
     ]
    },
    {
     "name": "stderr",
     "output_type": "stream",
     "text": [
      "I1018 22:11:28.308237 4705195456 saver.py:1483] Saver not created because there are no variables in the graph to restore\n",
      " 27%|██▋       | 414/1561 [45:20:47<520:30:19, 1633.67s/it]"
     ]
    },
    {
     "name": "stdout",
     "output_type": "stream",
     "text": [
      "INFO:tensorflow:Saver not created because there are no variables in the graph to restore\n"
     ]
    },
    {
     "name": "stderr",
     "output_type": "stream",
     "text": [
      "I1018 22:30:58.160497 4705195456 saver.py:1483] Saver not created because there are no variables in the graph to restore\n",
      " 27%|██▋       | 415/1561 [45:41:48<484:27:34, 1521.86s/it]"
     ]
    },
    {
     "name": "stdout",
     "output_type": "stream",
     "text": [
      "INFO:tensorflow:Saver not created because there are no variables in the graph to restore\n"
     ]
    },
    {
     "name": "stderr",
     "output_type": "stream",
     "text": [
      "I1018 22:52:22.939213 4705195456 saver.py:1483] Saver not created because there are no variables in the graph to restore\n",
      " 27%|██▋       | 416/1561 [46:02:28<457:08:10, 1437.28s/it]"
     ]
    },
    {
     "name": "stdout",
     "output_type": "stream",
     "text": [
      "INFO:tensorflow:Saver not created because there are no variables in the graph to restore\n"
     ]
    },
    {
     "name": "stderr",
     "output_type": "stream",
     "text": [
      "I1018 23:12:38.012126 4705195456 saver.py:1483] Saver not created because there are no variables in the graph to restore\n",
      " 27%|██▋       | 417/1561 [46:21:18<427:25:11, 1345.03s/it]"
     ]
    },
    {
     "name": "stdout",
     "output_type": "stream",
     "text": [
      "INFO:tensorflow:Saver not created because there are no variables in the graph to restore\n"
     ]
    },
    {
     "name": "stderr",
     "output_type": "stream",
     "text": [
      "I1018 23:31:18.352905 4705195456 saver.py:1483] Saver not created because there are no variables in the graph to restore\n",
      " 27%|██▋       | 418/1561 [46:41:22<413:40:30, 1302.91s/it]"
     ]
    },
    {
     "name": "stdout",
     "output_type": "stream",
     "text": [
      "INFO:tensorflow:Saver not created because there are no variables in the graph to restore\n"
     ]
    },
    {
     "name": "stderr",
     "output_type": "stream",
     "text": [
      "I1018 23:52:04.631125 4705195456 saver.py:1483] Saver not created because there are no variables in the graph to restore\n"
     ]
    }
   ],
   "source": [
    "# Extract ELMo embeddings\n",
    "elmo_train = [elmo_vectors(x['Phrase']) for x in tqdm.tqdm(list_train)]"
   ]
  },
  {
   "cell_type": "code",
   "execution_count": null,
   "metadata": {},
   "outputs": [],
   "source": [
    "#concatenating vectors\n",
    "elmo_train_new = np.concatenate(elmo_train, axis = 0)"
   ]
  },
  {
   "cell_type": "code",
   "execution_count": null,
   "metadata": {},
   "outputs": [],
   "source": [
    "# save elmo_train_new\n",
    "import pickle\n",
    "pickle_out = open(\"elmo_train_sentiment_movie.pickle\",\"wb\")\n",
    "pickle.dump(elmo_train_new, pickle_out)\n",
    "pickle_out.close()"
   ]
  },
  {
   "cell_type": "code",
   "execution_count": null,
   "metadata": {},
   "outputs": [],
   "source": [
    "# load elmo_train_new\n",
    "pickle_in = open(\"elmo_train_03032019.pickle\", \"rb\")\n",
    "elmo_train_new = pickle.load(pickle_in)"
   ]
  },
  {
   "cell_type": "code",
   "execution_count": null,
   "metadata": {},
   "outputs": [],
   "source": [
    "from sklearn.model_selection import train_test_split\n",
    "\n",
    "xtrain, xvalid, ytrain, yvalid = train_test_split(elmo_train_new, \n",
    "                                                  df['Sentiment'],  \n",
    "                                                  random_state=42, \n",
    "                                                  test_size=0.2)"
   ]
  },
  {
   "cell_type": "code",
   "execution_count": null,
   "metadata": {},
   "outputs": [],
   "source": [
    "from sklearn.linear_model import LogisticRegression\n",
    "from sklearn.metrics import f1_score\n",
    "\n",
    "lreg = LogisticRegression()\n",
    "lreg.fit(xtrain, ytrain)"
   ]
  },
  {
   "cell_type": "code",
   "execution_count": null,
   "metadata": {},
   "outputs": [],
   "source": [
    "preds_valid = lreg.predict(xvalid)\n"
   ]
  },
  {
   "cell_type": "code",
   "execution_count": null,
   "metadata": {},
   "outputs": [],
   "source": [
    "from sklearn.metrics import accuracy_score\n",
    "\n",
    "score =accuracy_score(yvalid,preds_valid)"
   ]
  },
  {
   "cell_type": "code",
   "execution_count": null,
   "metadata": {},
   "outputs": [],
   "source": [
    "print(score)"
   ]
  },
  {
   "cell_type": "code",
   "execution_count": null,
   "metadata": {},
   "outputs": [],
   "source": []
  }
 ],
 "metadata": {
  "kernelspec": {
   "display_name": "Python 3",
   "language": "python",
   "name": "python3"
  },
  "language_info": {
   "codemirror_mode": {
    "name": "ipython",
    "version": 3
   },
   "file_extension": ".py",
   "mimetype": "text/x-python",
   "name": "python",
   "nbconvert_exporter": "python",
   "pygments_lexer": "ipython3",
   "version": "3.6.5"
  }
 },
 "nbformat": 4,
 "nbformat_minor": 2
}
